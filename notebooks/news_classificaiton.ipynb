{
 "cells": [
  {
   "cell_type": "code",
   "execution_count": 1,
   "metadata": {},
   "outputs": [],
   "source": [
    "import pandas as pd\n",
    "# pd.options.display.max_colwidth = 200\n",
    "pd.options.display.max_columns = 500\n",
    "\n",
    "import numpy as np\n",
    "from collections import defaultdict\n",
    "\n",
    "import matplotlib\n",
    "import matplotlib.pyplot as plt\n",
    "import seaborn as sns\n",
    "sns.set_style(\"white\")\n",
    "\n",
    "from pymystem3 import Mystem; mystem = Mystem()\n",
    "from functools import lru_cache\n",
    "\n",
    "\n",
    "from tqdm import tqdm\n",
    "tqdm.pandas()\n",
    "\n",
    "%matplotlib inline"
   ]
  },
  {
   "cell_type": "markdown",
   "metadata": {},
   "source": [
    "### Ввод данных"
   ]
  },
  {
   "cell_type": "code",
   "execution_count": 2,
   "metadata": {
    "scrolled": true
   },
   "outputs": [],
   "source": [
    "data = pd.read_csv('../data/DATA_MANY_TOPICS.csv')\n",
    "data = data[~((data.topic == 'forces') & (data.url.str.contains('https://www.gazeta.ru/')))]"
   ]
  },
  {
   "cell_type": "code",
   "execution_count": 3,
   "metadata": {
    "collapsed": true
   },
   "outputs": [],
   "source": [
    "data.drop('index', 1, inplace=True)\n",
    "data.drop(data[data.topic == 'football'].sample(25000).index, inplace=True)\n",
    "data.drop(data[data.topic == 'hockey'].sample(5000).index, inplace=True)\n",
    "data.drop(data[data.topic == 'business'].sample(12000).index, inplace=True)\n",
    "data.drop(data[data.topic == 'politics'].sample(5000).index, inplace=True)"
   ]
  },
  {
   "cell_type": "code",
   "execution_count": 4,
   "metadata": {},
   "outputs": [
    {
     "data": {
      "text/html": [
       "<div>\n",
       "<table border=\"1\" class=\"dataframe\">\n",
       "  <thead>\n",
       "    <tr style=\"text-align: right;\">\n",
       "      <th></th>\n",
       "      <th>text</th>\n",
       "      <th>title</th>\n",
       "      <th>topic</th>\n",
       "      <th>url</th>\n",
       "    </tr>\n",
       "  </thead>\n",
       "  <tbody>\n",
       "    <tr>\n",
       "      <th>14328</th>\n",
       "      <td>\\n    производитель софта.\\n    Крупнейшие акц...</td>\n",
       "      <td>\\n                    Microsoft перешла на руб...</td>\n",
       "      <td>technologies</td>\n",
       "      <td>http://www.vedomosti.ru/technology/articles/20...</td>\n",
       "    </tr>\n",
       "    <tr>\n",
       "      <th>95385</th>\n",
       "      <td>Американский рэпер и продюсер Канье Уэст выдви...</td>\n",
       "      <td>Канье Уэст поставил ультиматум «Грэмми»</td>\n",
       "      <td>music</td>\n",
       "      <td>https://lenta.ru/news/2016/10/24/kw/</td>\n",
       "    </tr>\n",
       "    <tr>\n",
       "      <th>125146</th>\n",
       "      <td>Нападающий \"Сент-Луиса\" Владимир Тарасенко под...</td>\n",
       "      <td>Владимир Тарасенко: \"Здорово, что Якупов будет...</td>\n",
       "      <td>hockey</td>\n",
       "      <td>http://www.sport-express.ru/hockey/nhl/news/vl...</td>\n",
       "    </tr>\n",
       "    <tr>\n",
       "      <th>95199</th>\n",
       "      <td>Студия Fox 2000 предложила Дэвиду О. Расселлу ...</td>\n",
       "      <td>Дженнифер Лоуренс позовут на роль изобретатель...</td>\n",
       "      <td>films</td>\n",
       "      <td>https://lenta.ru/news/2014/01/31/miraclemop/</td>\n",
       "    </tr>\n",
       "    <tr>\n",
       "      <th>48807</th>\n",
       "      <td>Шестилетний ребенок из Шотландии попытался изо...</td>\n",
       "      <td>Взрослые разглядели неприличные символы в детс...</td>\n",
       "      <td>social-networks</td>\n",
       "      <td>https://lenta.ru/news/2016/12/27/deer/</td>\n",
       "    </tr>\n",
       "  </tbody>\n",
       "</table>\n",
       "</div>"
      ],
      "text/plain": [
       "                                                     text  \\\n",
       "14328   \\n    производитель софта.\\n    Крупнейшие акц...   \n",
       "95385   Американский рэпер и продюсер Канье Уэст выдви...   \n",
       "125146  Нападающий \"Сент-Луиса\" Владимир Тарасенко под...   \n",
       "95199   Студия Fox 2000 предложила Дэвиду О. Расселлу ...   \n",
       "48807   Шестилетний ребенок из Шотландии попытался изо...   \n",
       "\n",
       "                                                    title            topic  \\\n",
       "14328   \\n                    Microsoft перешла на руб...     technologies   \n",
       "95385             Канье Уэст поставил ультиматум «Грэмми»            music   \n",
       "125146  Владимир Тарасенко: \"Здорово, что Якупов будет...           hockey   \n",
       "95199   Дженнифер Лоуренс позовут на роль изобретатель...            films   \n",
       "48807   Взрослые разглядели неприличные символы в детс...  social-networks   \n",
       "\n",
       "                                                      url  \n",
       "14328   http://www.vedomosti.ru/technology/articles/20...  \n",
       "95385                https://lenta.ru/news/2016/10/24/kw/  \n",
       "125146  http://www.sport-express.ru/hockey/nhl/news/vl...  \n",
       "95199        https://lenta.ru/news/2014/01/31/miraclemop/  \n",
       "48807              https://lenta.ru/news/2016/12/27/deer/  "
      ]
     },
     "execution_count": 4,
     "metadata": {},
     "output_type": "execute_result"
    }
   ],
   "source": [
    "data.sample(5)"
   ]
  },
  {
   "cell_type": "code",
   "execution_count": 5,
   "metadata": {
    "scrolled": false
   },
   "outputs": [
    {
     "name": "stdout",
     "output_type": "stream",
     "text": [
      "Number of news: 133529\n"
     ]
    }
   ],
   "source": [
    "print('Number of news:', len(data))"
   ]
  },
  {
   "cell_type": "code",
   "execution_count": 6,
   "metadata": {},
   "outputs": [
    {
     "name": "stdout",
     "output_type": "stream",
     "text": [
      "Number of topics: 32\n"
     ]
    }
   ],
   "source": [
    "print('Number of topics:', data.topic.nunique())"
   ]
  },
  {
   "cell_type": "code",
   "execution_count": 84,
   "metadata": {},
   "outputs": [
    {
     "data": {
      "image/png": "[encoded data removed]",
      "text/plain": [
       "<matplotlib.figure.Figure at 0x107c67b70>"
      ]
     },
     "metadata": {},
     "output_type": "display_data"
    }
   ],
   "source": [
    "topics_freq = data.topic.value_counts(normalize=True, ascending=True)\n",
    "media_freq = data.url.apply(lambda x: x.split('/')[2].replace('www.', '')).value_counts(normalize=True, ascending=True)\n",
    "\n",
    "font_size=18\n",
    "fig, ax = plt.subplots(1, 2, figsize=(24, 7))\n",
    "ax[0].bar(range(len(media_freq)), media_freq.values, color='#6C7A89')\n",
    "ax[0].set_xticks(range(len(media_freq)))\n",
    "ax[0].set_xticklabels(media_freq.index, rotation=90)\n",
    "ax[0].tick_params(labelsize=font_size)\n",
    "ax[0].yaxis.grid()\n",
    "\n",
    "ax[1].bar(range(len(topics_freq)), topics_freq.values, color='#6C7A89')\n",
    "ax[1].set_xticks(range(len(topics_freq)))\n",
    "ax[1].set_xticklabels(topics_freq.index, rotation=90)\n",
    "ax[1].tick_params(labelsize=font_size)\n",
    "ax[1].yaxis.grid()\n",
    "fig.savefig('../docs/images/media_topi_distr.pdf', bbox_inches='tight')"
   ]
  },
  {
   "cell_type": "code",
   "execution_count": null,
   "metadata": {
    "collapsed": true
   },
   "outputs": [],
   "source": [
    "class Pipeline(object):\n",
    "    def __init__(self, *args):\n",
    "        self.transformations = args\n",
    "    def __call__(self, x):\n",
    "        res = x\n",
    "        for f in self.transformations:\n",
    "            res = f(res)\n",
    "        return res"
   ]
  },
  {
   "cell_type": "code",
   "execution_count": null,
   "metadata": {
    "collapsed": true
   },
   "outputs": [],
   "source": [
    "from nltk.corpus import stopwords\n",
    "from stop_words import get_stop_words\n",
    "en_sw = get_stop_words('en')\n",
    "ru_sw = get_stop_words('ru')\n",
    "STOP_WORDS = set(en_sw) | set(ru_sw)\n",
    "STOP_WORDS = STOP_WORDS | set(stopwords.words('russian')) | set(stopwords.words('english'))\n",
    "STOP_WORDS = STOP_WORDS | set(['лента', 'новость', 'риа', 'тасс',\n",
    "                               'редакция', 'газета', 'корра', 'daily',\n",
    "                               'village', 'интерфакс', 'reuters'])\n",
    "\n",
    "def remove_ria(text):\n",
    "    prefix = text[:50]\n",
    "    ria = 'РИА Новости'\n",
    "    if ria in prefix:\n",
    "        text = text[text.find(ria)+len(ria)+1:]\n",
    "    return text\n",
    "\n",
    "def remove_tass(text):\n",
    "    prefix = text[:100]\n",
    "    return text[max(0, prefix.find('/.')+1):]\n",
    "\n",
    "def get_lower(text):\n",
    "    return str(text).lower().strip()\n",
    "\n",
    "def remove_punctuation(text):\n",
    "    return ''.join([c if c.isalpha() or c in ['-',\"'\"] else ' ' for c in text])\n",
    "\n",
    "@lru_cache(maxsize=None)\n",
    "def get_word_normal_form(word):\n",
    "    return ''.join(mystem.lemmatize(word)).strip().replace('ё', 'е').strip('-')\n",
    "\n",
    "def lemmatize_words(text):\n",
    "    res = []\n",
    "    for word in text.split():\n",
    "        norm_form = get_word_normal_form(word)\n",
    "        if len(norm_form) > 2 and norm_form not in STOP_WORDS:\n",
    "            res.append(norm_form)\n",
    "    return ' '.join(res)"
   ]
  },
  {
   "cell_type": "code",
   "execution_count": null,
   "metadata": {
    "collapsed": true
   },
   "outputs": [],
   "source": [
    "TEXT_PIPELINE = Pipeline(remove_tass, remove_ria, get_lower, remove_punctuation, lemmatize_words)"
   ]
  },
  {
   "cell_type": "code",
   "execution_count": null,
   "metadata": {},
   "outputs": [],
   "source": [
    "%%time\n",
    "data.text = data.text.progress_apply(TEXT_PIPELINE)"
   ]
  },
  {
   "cell_type": "code",
   "execution_count": null,
   "metadata": {},
   "outputs": [],
   "source": [
    "%%time\n",
    "data.title = data.title.progress_apply(TEXT_PIPELINE)"
   ]
  },
  {
   "cell_type": "code",
   "execution_count": null,
   "metadata": {},
   "outputs": [],
   "source": [
    "vocabulary = defaultdict(int)\n",
    "for news in data.itertuples():\n",
    "    for word in news.text.split():\n",
    "        vocabulary[word] += 1\n",
    "print('Unique words in dataset:', len(vocabulary))"
   ]
  },
  {
   "cell_type": "code",
   "execution_count": null,
   "metadata": {
    "scrolled": true
   },
   "outputs": [],
   "source": [
    "n_min_occurance = 2\n",
    "print('Number of words occured more than %d times: %d' % \n",
    "      (n_min_occurance, len(list(filter(lambda x: x[1] >= n_min_occurance, vocabulary.items())))))"
   ]
  },
  {
   "cell_type": "code",
   "execution_count": null,
   "metadata": {
    "scrolled": true
   },
   "outputs": [],
   "source": [
    "top_k = 20\n",
    "print('Top %d most frequent words:' % top_k)\n",
    "for i, (word, freq) in enumerate(sorted(vocabulary.items(), key=lambda x: -x[1])[:top_k]):\n",
    "    print(i+1, word, freq)"
   ]
  },
  {
   "cell_type": "markdown",
   "metadata": {},
   "source": [
    "# Получим baseline решение с помощью SVM"
   ]
  },
  {
   "cell_type": "code",
   "execution_count": null,
   "metadata": {
    "collapsed": true
   },
   "outputs": [],
   "source": [
    "from sklearn.preprocessing import LabelEncoder\n",
    "from sklearn.feature_extraction.text import TfidfVectorizer\n",
    "from sklearn.model_selection import train_test_split, cross_val_score\n",
    "from sklearn.linear_model import LogisticRegression, SGDClassifier\n",
    "from sklearn.metrics import accuracy_score, f1_score, confusion_matrix, make_scorer\n",
    "from sklearn.svm import LinearSVC\n",
    "\n",
    "from scipy.sparse import hstack"
   ]
  },
  {
   "cell_type": "markdown",
   "metadata": {},
   "source": [
    "### Закодируем целевую переменную"
   ]
  },
  {
   "cell_type": "code",
   "execution_count": null,
   "metadata": {
    "collapsed": true
   },
   "outputs": [],
   "source": [
    "le = LabelEncoder()\n",
    "data.topic = le.fit_transform(data.topic)"
   ]
  },
  {
   "cell_type": "markdown",
   "metadata": {},
   "source": [
    "### Разделим данные на train и validation"
   ]
  },
  {
   "cell_type": "code",
   "execution_count": null,
   "metadata": {
    "collapsed": true
   },
   "outputs": [],
   "source": [
    "trainX = pd.concat([pd.DataFrame(data.title + ' ' + data.text, columns=['text']), data.url], axis=1)\n",
    "trainY = data.topic"
   ]
  },
  {
   "cell_type": "code",
   "execution_count": null,
   "metadata": {},
   "outputs": [],
   "source": [
    "trainX.head()"
   ]
  },
  {
   "cell_type": "code",
   "execution_count": null,
   "metadata": {
    "collapsed": true
   },
   "outputs": [],
   "source": [
    "X_train, X_test, y_train, y_test = train_test_split(trainX, trainY, test_size=0.3, stratify=trainY, random_state=42)"
   ]
  },
  {
   "cell_type": "markdown",
   "metadata": {},
   "source": [
    "### Вычислим tf-idf"
   ]
  },
  {
   "cell_type": "code",
   "execution_count": null,
   "metadata": {
    "scrolled": true
   },
   "outputs": [],
   "source": [
    "%%time\n",
    "tfidf_vectorizer = TfidfVectorizer(min_df=3, ngram_range=(1,2), lowercase=False).fit(trainX.text)\n",
    "len(tfidf_vectorizer.vocabulary_)"
   ]
  },
  {
   "cell_type": "code",
   "execution_count": null,
   "metadata": {
    "collapsed": true
   },
   "outputs": [],
   "source": [
    "X_train_tf = tfidf_vectorizer.transform(X_train.text)\n",
    "X_test_tf = tfidf_vectorizer.transform(X_test.text)"
   ]
  },
  {
   "cell_type": "markdown",
   "metadata": {},
   "source": [
    "### Обучим SVM"
   ]
  },
  {
   "cell_type": "code",
   "execution_count": null,
   "metadata": {
    "collapsed": true
   },
   "outputs": [],
   "source": [
    "# clf = LinearSVC(C=1, max_iter=10000, loss='hinge', random_state=42)\n",
    "clf = SGDClassifier(loss='hinge', n_iter=70, random_state=42, n_jobs=8, alpha=1e-5)"
   ]
  },
  {
   "cell_type": "code",
   "execution_count": null,
   "metadata": {
    "scrolled": true
   },
   "outputs": [],
   "source": [
    "%%time\n",
    "clf.fit(X_train_tf, y_train)\n",
    "clf_prediciton = clf.predict(X_test_tf)\n",
    "print('F1 score:', f1_score(y_test, clf_prediciton, average='macro'))\n",
    "print('Accuracy:', accuracy_score(y_test, clf_prediciton))"
   ]
  },
  {
   "cell_type": "markdown",
   "metadata": {},
   "source": [
    "### Построим нормализованную матрицу потерь"
   ]
  },
  {
   "cell_type": "code",
   "execution_count": null,
   "metadata": {
    "collapsed": true
   },
   "outputs": [],
   "source": [
    "cm = confusion_matrix(y_test, clf_prediciton)\n",
    "cm_normalized = cm / cm.sum(axis=1)[:, np.newaxis]"
   ]
  },
  {
   "cell_type": "code",
   "execution_count": null,
   "metadata": {
    "collapsed": true
   },
   "outputs": [],
   "source": [
    "classes = [c for c in le.classes_]\n",
    "df_cm = pd.DataFrame(np.round(cm_normalized, 2), columns=classes, index=classes)"
   ]
  },
  {
   "cell_type": "code",
   "execution_count": null,
   "metadata": {
    "scrolled": false
   },
   "outputs": [],
   "source": [
    "sns.set_context(\"notebook\", font_scale=1.4);\n",
    "plt.figure(figsize=(20, 20))\n",
    "ax = sns.heatmap(df_cm, annot=True, linewidths=.5, fmt='g', cbar=False, square=True, annot_kws={\"size\": 10});\n",
    "ax.xaxis.tick_top()\n",
    "ax.set_xlabel('Предсказанный класс', fontsize=16)\n",
    "ax.set_ylabel('Истинный класс', fontsize=16)\n",
    "ax.set_xticklabels(ax.xaxis.get_majorticklabels(), rotation=90);"
   ]
  },
  {
   "cell_type": "code",
   "execution_count": null,
   "metadata": {
    "collapsed": true
   },
   "outputs": [],
   "source": [
    "class_scores = {}\n",
    "for i in range(cm_normalized.shape[0]):\n",
    "    class_scores[classes[i]] = cm_normalized[i,i]"
   ]
  },
  {
   "cell_type": "code",
   "execution_count": null,
   "metadata": {
    "scrolled": false
   },
   "outputs": [],
   "source": [
    "topics = []\n",
    "scores = []\n",
    "for topic, score in sorted(class_scores.items(), key=lambda x: x[1]):\n",
    "    topics.append(topic)\n",
    "    scores.append(score)\n",
    "plt.figure(figsize=(10,12))\n",
    "plt.barh(range(len(topics)), scores)\n",
    "plt.yticks(range(len(topics)), topics);\n",
    "plt.xticks(np.arange(0, 1.001, 0.1));\n",
    "plt.grid(True)\n",
    "plt.title('Accuracy per class');"
   ]
  },
  {
   "cell_type": "markdown",
   "metadata": {},
   "source": [
    "### Посмотрим на ошибки классификации"
   ]
  },
  {
   "cell_type": "code",
   "execution_count": null,
   "metadata": {
    "collapsed": true,
    "scrolled": true
   },
   "outputs": [],
   "source": [
    "for i, (true, pred) in enumerate(zip(y_test, clf_prediciton)):\n",
    "    if true == le.transform(['technologies'])[0] and pred == le.transform(['realty'])[0]:\n",
    "        print(X_test[i][1])"
   ]
  },
  {
   "cell_type": "markdown",
   "metadata": {},
   "source": [
    "### Выведем слова с максимальным весом внутри каждого класса"
   ]
  },
  {
   "cell_type": "code",
   "execution_count": null,
   "metadata": {
    "collapsed": true
   },
   "outputs": [],
   "source": [
    "def print_top_K(vectorizer, clf, class_labels, k=10):\n",
    "    \"\"\"Prints features with the highest coefficient values, per class\"\"\"\n",
    "    feature_names = vectorizer.get_feature_names()\n",
    "    top_words = {}\n",
    "    for i, class_label in enumerate(class_labels):\n",
    "        top_K = np.argsort(clf.coef_[i])[-k:]\n",
    "        top_words[class_label] = [feature_names[j] for j in top_K]\n",
    "    return pd.DataFrame(top_words)"
   ]
  },
  {
   "cell_type": "code",
   "execution_count": null,
   "metadata": {
    "scrolled": true
   },
   "outputs": [],
   "source": [
    "print_top_K(tfidf_vectorizer, clf, le.classes_, k=5)"
   ]
  },
  {
   "cell_type": "markdown",
   "metadata": {},
   "source": [
    "# Обучим Word2vec"
   ]
  },
  {
   "cell_type": "code",
   "execution_count": null,
   "metadata": {
    "collapsed": true
   },
   "outputs": [],
   "source": [
    "from gensim.models import Word2Vec\n",
    "import logging\n",
    "logging.basicConfig(format='%(asctime)s : %(levelname)s : %(message)s', level=logging.INFO)"
   ]
  },
  {
   "cell_type": "code",
   "execution_count": null,
   "metadata": {
    "collapsed": true
   },
   "outputs": [],
   "source": [
    "corpus = pd.read_csv('./DATA_MANY_TOPICS.csv')[['text', 'topic']]"
   ]
  },
  {
   "cell_type": "code",
   "execution_count": null,
   "metadata": {},
   "outputs": [],
   "source": [
    "corpus.text = corpus.text.apply(TEXT_PIPELINE)"
   ]
  },
  {
   "cell_type": "code",
   "execution_count": null,
   "metadata": {},
   "outputs": [],
   "source": [
    "%%time\n",
    "min_count = 3\n",
    "vec_size = 250\n",
    "window = 5\n",
    "\n",
    "w2v = Word2Vec([text.split() for text in corpus.text],\n",
    "               min_count=min_count, size=vec_size, window=window, hs=1, sg=1, workers=8)"
   ]
  },
  {
   "cell_type": "code",
   "execution_count": null,
   "metadata": {
    "collapsed": true
   },
   "outputs": [],
   "source": [
    "word_vectors = w2v.wv\n",
    "del w2v"
   ]
  },
  {
   "cell_type": "markdown",
   "metadata": {},
   "source": [
    "### Усредним вектора слов в каждой из новостей с весами tf-idf"
   ]
  },
  {
   "cell_type": "code",
   "execution_count": null,
   "metadata": {
    "scrolled": true
   },
   "outputs": [],
   "source": [
    "word2tfidf = dict(zip(tfidf_vectorizer.get_feature_names(), tfidf_vectorizer.idf_))\n",
    "vectorized_news = np.zeros((trainX.shape[0], vec_size), dtype=\"float32\")\n",
    "for i in tqdm(range(trainX.shape[0])):\n",
    "    words = [word for word in trainX.text.iloc[i].split()\n",
    "             if word in word_vectors and word in word2tfidf]\n",
    "    word_vecs = [word_vectors[word] for word in words]\n",
    "    word_idfs = [word2tfidf[word]  for word in words]\n",
    "    vectorized_news[i,:] = np.average(word_vecs, axis=0, weights=word_idfs)"
   ]
  },
  {
   "cell_type": "code",
   "execution_count": null,
   "metadata": {
    "collapsed": true
   },
   "outputs": [],
   "source": [
    "trainX_w2v = pd.DataFrame(vectorized_news)"
   ]
  },
  {
   "cell_type": "code",
   "execution_count": null,
   "metadata": {
    "scrolled": false
   },
   "outputs": [],
   "source": [
    "trainX_w2v.head()"
   ]
  },
  {
   "cell_type": "code",
   "execution_count": null,
   "metadata": {
    "collapsed": true
   },
   "outputs": [],
   "source": [
    "# trainX_w2v.to_csv('./trainX_w2v.csv')"
   ]
  },
  {
   "cell_type": "code",
   "execution_count": null,
   "metadata": {},
   "outputs": [],
   "source": [
    "trainX_w2v.shape, trainY.shape"
   ]
  },
  {
   "cell_type": "markdown",
   "metadata": {},
   "source": [
    "# Получим распределение топиков с помощью BigARTM"
   ]
  },
  {
   "cell_type": "code",
   "execution_count": null,
   "metadata": {
    "collapsed": true
   },
   "outputs": [],
   "source": [
    "import warnings\n",
    "warnings.simplefilter('ignore')\n",
    "import artm"
   ]
  },
  {
   "cell_type": "markdown",
   "metadata": {},
   "source": [
    "### Удалим слова, встречающиеся только один раз"
   ]
  },
  {
   "cell_type": "code",
   "execution_count": null,
   "metadata": {
    "collapsed": true
   },
   "outputs": [],
   "source": [
    "corpus.text = corpus.text.apply(lambda x: ' '.join([w for w in str(x).split() if vocabulary[w] > 1]))"
   ]
  },
  {
   "cell_type": "markdown",
   "metadata": {},
   "source": [
    "### Создадим файл в формате vowpal wabbit"
   ]
  },
  {
   "cell_type": "code",
   "execution_count": null,
   "metadata": {
    "collapsed": true
   },
   "outputs": [],
   "source": [
    "vw_file_name = 'news_for_bigartm.vw'\n",
    "with open(vw_file_name, 'w') as file:\n",
    "    for i, doc in enumerate(corpus.text):\n",
    "        print('doc{} {}'.format(i+1, doc), file=file)"
   ]
  },
  {
   "cell_type": "markdown",
   "metadata": {},
   "source": [
    "### Создадим батчи для обучения и загрузим их в словарь bigARTM"
   ]
  },
  {
   "cell_type": "code",
   "execution_count": null,
   "metadata": {
    "collapsed": true
   },
   "outputs": [],
   "source": [
    "batch_vectorizer = artm.BatchVectorizer(data_path=vw_file_name, data_format='vowpal_wabbit',\n",
    "                                        target_folder='./bigartm_batches')"
   ]
  },
  {
   "cell_type": "code",
   "execution_count": null,
   "metadata": {
    "collapsed": true
   },
   "outputs": [],
   "source": [
    "dictionary = artm.Dictionary()\n",
    "dictionary.gather(data_path='./bigartm_batches')"
   ]
  },
  {
   "cell_type": "markdown",
   "metadata": {},
   "source": [
    "### Инициализируем ARTM модель.\n",
    "Добавим к ней регуляризаторы декорреляции и разреженности для матриц $\\Theta$ и $\\Phi$. "
   ]
  },
  {
   "cell_type": "code",
   "execution_count": null,
   "metadata": {
    "collapsed": true
   },
   "outputs": [],
   "source": [
    "%%time\n",
    "model = artm.ARTM(num_topics=300, dictionary=dictionary, cache_theta=True, show_progress_bars=True)\n",
    "\n",
    "model.regularizers.add(artm.SmoothSparsePhiRegularizer(name='SparsePhi', tau=-0.2))\n",
    "model.regularizers.add(artm.DecorrelatorPhiRegularizer(name='DecorrelatorPhi', tau=2e5))\n",
    "model.regularizers.add(artm.SmoothSparseThetaRegularizer(name='SmoothSparseThetaRegularizer', tau=-0.001))\n",
    "\n",
    "model.scores.add(artm.PerplexityScore(name='perplexity_score', dictionary=dictionary))\n",
    "model.scores.add(artm.TopTokensScore(name='top_tokens_score', dictionary=dictionary))\n",
    "model.num_tokens = 10 # макс. число токенов для отображения\n",
    "\n",
    "model.fit_offline(batch_vectorizer=batch_vectorizer, num_collection_passes=50)\n"
   ]
  },
  {
   "cell_type": "code",
   "execution_count": null,
   "metadata": {},
   "outputs": [],
   "source": [
    "saved_top_tokens = model.score_tracker['top_tokens_score'].last_tokens\n",
    "for topic, top_tokens in saved_top_tokens.items():\n",
    "    print(topic, *top_tokens)"
   ]
  },
  {
   "cell_type": "code",
   "execution_count": null,
   "metadata": {
    "collapsed": true
   },
   "outputs": [],
   "source": [
    "def create_batch(documents, vocab):\n",
    "    ''' Creates bath from list of documents \n",
    "        :param: documents - list of documents represented as string,\n",
    "            eg. ['Hello world!', 'How are you? - I am fine, thanks!']\n",
    "        \n",
    "        :param: vocab - dict of term frequencies\n",
    "        \n",
    "        :return: bigARTM batch\n",
    "    '''\n",
    "    \n",
    "    import uuid\n",
    "    from collections import defaultdict\n",
    "    \n",
    "    batch = artm.messages.Batch()\n",
    "    batch.id = str(uuid.uuid4())\n",
    "    dictionary = {}\n",
    "\n",
    "    # first step: fill the general batch vocabulary\n",
    "    for i, token in enumerate(vocab):\n",
    "        batch.token.append(token)\n",
    "        dictionary[token] = i\n",
    "\n",
    "    # second step: fill the items\n",
    "    for doc in documents:\n",
    "        item = batch.item.add()    \n",
    "        local_dict = defaultdict(int)\n",
    "        for token in doc.split():\n",
    "            local_dict[token] += 1\n",
    "        for k, v in local_dict.items():\n",
    "            if k in dictionary:\n",
    "                item.token_id.append(dictionary[k])\n",
    "                item.token_weight.append(v)\n",
    "    return batch"
   ]
  },
  {
   "cell_type": "code",
   "execution_count": null,
   "metadata": {
    "collapsed": true
   },
   "outputs": [],
   "source": [
    "batch = create_batch(trainX.text.values, vocabulary)\n",
    "bigartm_feats = model.master.transform(batches=[batch])[1]\n",
    "top_cols = sorted(saved_top_tokens.keys(), key=lambda x: int(x.split('_')[1]))"
   ]
  },
  {
   "cell_type": "code",
   "execution_count": null,
   "metadata": {
    "collapsed": true
   },
   "outputs": [],
   "source": [
    "# pd.DataFrame(bigartm_feats, columns=top_cols).to_csv('data_bigartm_feats.csv')\n",
    "trainX_bigartm = pd.DataFrame(bigartm_feats, columns=top_cols)"
   ]
  },
  {
   "cell_type": "markdown",
   "metadata": {},
   "source": [
    "# Обучим градиентный бустинг (LightGBM)"
   ]
  },
  {
   "cell_type": "code",
   "execution_count": null,
   "metadata": {
    "collapsed": true
   },
   "outputs": [],
   "source": [
    "import lightgbm as lgb\n",
    "import warnings\n",
    "warnings.simplefilter('ignore')"
   ]
  },
  {
   "cell_type": "code",
   "execution_count": null,
   "metadata": {
    "collapsed": true
   },
   "outputs": [],
   "source": [
    "X_train, X_test, y_train, y_test = train_test_split(pd.concat([trainX_w2v, trainX_bigartm], axis=1).values, trainY.values, test_size=0.3,\n",
    "                                                    stratify=trainY.values, random_state=42)\n",
    "lgb_train = lgb.Dataset(X_train, y_train)\n",
    "lgb_valid = lgb.Dataset(X_test, y_test)"
   ]
  },
  {
   "cell_type": "code",
   "execution_count": null,
   "metadata": {},
   "outputs": [],
   "source": [
    "X_train.shape"
   ]
  },
  {
   "cell_type": "code",
   "execution_count": null,
   "metadata": {
    "collapsed": true
   },
   "outputs": [],
   "source": [
    "lgb_param = {\n",
    "    'colsample_bytree': 0.9,\n",
    "    'is_unbalance': False,\n",
    "    'learning_rate': 0.01,\n",
    "    'max_bin': 255,\n",
    "    'max_depth': 7,\n",
    "    'min_child_samples': 10,\n",
    "    'min_child_weight': 5,\n",
    "    'min_split_gain': 0,\n",
    "    'nthread': 4,\n",
    "    'num_leaves': 511,\n",
    "    'objective': 'multiclass',\n",
    "    'metric': 'multi_error',\n",
    "    'is_training_metric': True,\n",
    "    'num_class': len(le.classes_),\n",
    "    'reg_alpha': 0,\n",
    "    'reg_lambda': 0,\n",
    "    'silent': True,\n",
    "    'subsample': 0.8,\n",
    "}"
   ]
  },
  {
   "cell_type": "code",
   "execution_count": null,
   "metadata": {
    "scrolled": true
   },
   "outputs": [],
   "source": [
    "%%time\n",
    "clf = lgb.train(lgb_param, lgb_train, num_boost_round=10000, valid_sets=[lgb_valid],\n",
    "            early_stopping_rounds=150, verbose_eval=25)"
   ]
  },
  {
   "cell_type": "code",
   "execution_count": null,
   "metadata": {},
   "outputs": [],
   "source": [
    "# clf_prediciton = clf.predict(X_test).argmax(axis=1)\n",
    "print('F1 score:', f1_score(y_test, clf_prediciton, average='macro'))\n",
    "print('Accuracy:', accuracy_score(y_test, clf_prediciton))\n",
    "\n",
    "# w2v only:\n",
    "# F1 score: 0.848992506048\n",
    "# Accuracy: 0.8401492087\n",
    "\n",
    "# bigARTM only:\n",
    "# F1 score: 0.841717418846\n",
    "# Accuracy: 0.835952714008\n",
    "\n",
    "# bigARTM + w2v:\n",
    "F1 score: 0.872151892589\n",
    "Accuracy: 0.864093913711"
   ]
  },
  {
   "cell_type": "code",
   "execution_count": null,
   "metadata": {
    "collapsed": true
   },
   "outputs": [],
   "source": []
  }
 ],
 "metadata": {
  "kernelspec": {
   "display_name": "Python3 (mlenv)",
   "language": "python",
   "name": "mlenv"
  },
  "language_info": {
   "codemirror_mode": {
    "name": "ipython",
    "version": 3
   },
   "file_extension": ".py",
   "mimetype": "text/x-python",
   "name": "python",
   "nbconvert_exporter": "python",
   "pygments_lexer": "ipython3",
   "version": "3.6.1"
  }
 },
 "nbformat": 4,
 "nbformat_minor": 2
}
