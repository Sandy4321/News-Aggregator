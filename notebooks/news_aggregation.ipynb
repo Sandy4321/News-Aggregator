{
 "cells": [
  {
   "cell_type": "code",
   "execution_count": 1,
   "metadata": {
    "collapsed": false
   },
   "outputs": [
    {
     "name": "stderr",
     "output_type": "stream",
     "text": [
      "/home/sweetsteam/anaconda3/lib/python3.5/site-packages/matplotlib/__init__.py:878: UserWarning: axes.color_cycle is deprecated and replaced with axes.prop_cycle; please use the latter.\n",
      "  warnings.warn(self.msg_depr % (key, alt_key))\n"
     ]
    }
   ],
   "source": [
    "import pandas as pd\n",
    "# pd.options.display.max_colwidth = 200\n",
    "\n",
    "import numpy as np\n",
    "from collections import defaultdict\n",
    "\n",
    "import matplotlib\n",
    "import matplotlib.pyplot as plt\n",
    "\n",
    "import seaborn as sns\n",
    "sns.set_style(\"white\")\n",
    "\n",
    "from pymystem3 import Mystem; mystem = Mystem()\n",
    "from functools import lru_cache\n",
    "\n",
    "\n",
    "from tqdm import tqdm\n",
    "tqdm.pandas()\n",
    "\n",
    "%matplotlib inline"
   ]
  },
  {
   "cell_type": "code",
   "execution_count": 2,
   "metadata": {
    "collapsed": false
   },
   "outputs": [],
   "source": [
    "data = []\n",
    "DATA_PATH = '../../NewsParser/data/'\n",
    "for csv_name in ['recent_news.csv']:\n",
    "    data.append(pd.read_csv(DATA_PATH + csv_name))\n",
    "data = pd.concat(data)"
   ]
  },
  {
   "cell_type": "code",
   "execution_count": 3,
   "metadata": {
    "collapsed": false
   },
   "outputs": [
    {
     "data": {
      "text/html": [
       "<div>\n",
       "<table border=\"1\" class=\"dataframe\">\n",
       "  <thead>\n",
       "    <tr style=\"text-align: right;\">\n",
       "      <th></th>\n",
       "      <th>date</th>\n",
       "      <th>text</th>\n",
       "      <th>title</th>\n",
       "      <th>url</th>\n",
       "    </tr>\n",
       "  </thead>\n",
       "  <tbody>\n",
       "    <tr>\n",
       "      <th>0</th>\n",
       "      <td>2017-04-18 19:41:14</td>\n",
       "      <td>КИЕВ, 18 апреля. /ТАСС/. \"Дочка\" российского С...</td>\n",
       "      <td>\"Дочка\" Сбербанка может оспорить запрет на исп...</td>\n",
       "      <td>http://tass.ru/ekonomika/4192151</td>\n",
       "    </tr>\n",
       "    <tr>\n",
       "      <th>1</th>\n",
       "      <td>2017-04-18 19:47:54</td>\n",
       "      <td>ПАРИЖ, 18 апреля. /Корр. ТАСС Сергей Щербаков/...</td>\n",
       "      <td>Саркози призвал французских избирателей голосо...</td>\n",
       "      <td>http://tass.ru/mezhdunarodnaya-panorama/4192155</td>\n",
       "    </tr>\n",
       "    <tr>\n",
       "      <th>2</th>\n",
       "      <td>2017-04-18 19:37:26</td>\n",
       "      <td>ЭЛЬ-КУВЕЙТ, 18 апреля. /Корр. ТАСС Павел Проко...</td>\n",
       "      <td>В Мосуле ликвидирован \"главный снайпер\" ИГ</td>\n",
       "      <td>http://tass.ru/mezhdunarodnaya-panorama/4192145</td>\n",
       "    </tr>\n",
       "    <tr>\n",
       "      <th>3</th>\n",
       "      <td>2017-04-18 19:59:38</td>\n",
       "      <td>КИЕВ, 18 апреля. /ТАСС/. Национальный банк Укр...</td>\n",
       "      <td>Нацбанк Украины рассматривает документы от Nor...</td>\n",
       "      <td>http://tass.ru/ekonomika/4192182</td>\n",
       "    </tr>\n",
       "    <tr>\n",
       "      <th>4</th>\n",
       "      <td>2017-04-18 19:15:21</td>\n",
       "      <td>РИМ, 18 апреля. /Корр.ТАСС Алексей Букалов/. Р...</td>\n",
       "      <td>Сильвио Берлускони потеснил \"Молодого папу\" в ...</td>\n",
       "      <td>http://tass.ru/kultura/4192052</td>\n",
       "    </tr>\n",
       "  </tbody>\n",
       "</table>\n",
       "</div>"
      ],
      "text/plain": [
       "                  date                                               text  \\\n",
       "0  2017-04-18 19:41:14  КИЕВ, 18 апреля. /ТАСС/. \"Дочка\" российского С...   \n",
       "1  2017-04-18 19:47:54  ПАРИЖ, 18 апреля. /Корр. ТАСС Сергей Щербаков/...   \n",
       "2  2017-04-18 19:37:26  ЭЛЬ-КУВЕЙТ, 18 апреля. /Корр. ТАСС Павел Проко...   \n",
       "3  2017-04-18 19:59:38  КИЕВ, 18 апреля. /ТАСС/. Национальный банк Укр...   \n",
       "4  2017-04-18 19:15:21  РИМ, 18 апреля. /Корр.ТАСС Алексей Букалов/. Р...   \n",
       "\n",
       "                                               title  \\\n",
       "0  \"Дочка\" Сбербанка может оспорить запрет на исп...   \n",
       "1  Саркози призвал французских избирателей голосо...   \n",
       "2         В Мосуле ликвидирован \"главный снайпер\" ИГ   \n",
       "3  Нацбанк Украины рассматривает документы от Nor...   \n",
       "4  Сильвио Берлускони потеснил \"Молодого папу\" в ...   \n",
       "\n",
       "                                               url  \n",
       "0                 http://tass.ru/ekonomika/4192151  \n",
       "1  http://tass.ru/mezhdunarodnaya-panorama/4192155  \n",
       "2  http://tass.ru/mezhdunarodnaya-panorama/4192145  \n",
       "3                 http://tass.ru/ekonomika/4192182  \n",
       "4                   http://tass.ru/kultura/4192052  "
      ]
     },
     "execution_count": 3,
     "metadata": {},
     "output_type": "execute_result"
    }
   ],
   "source": [
    "data.head()"
   ]
  },
  {
   "cell_type": "code",
   "execution_count": 4,
   "metadata": {
    "collapsed": false
   },
   "outputs": [],
   "source": [
    "class Pipeline(object):\n",
    "    def __init__(self, *args):\n",
    "        self.transformations = args\n",
    "    def __call__(self, x):\n",
    "        res = x\n",
    "        for f in self.transformations:\n",
    "            res = f(res)\n",
    "        return res\n",
    "\n",
    "from nltk.corpus import stopwords\n",
    "from stop_words import get_stop_words\n",
    "en_sw = get_stop_words('en')\n",
    "ru_sw = get_stop_words('ru')\n",
    "STOP_WORDS = set(en_sw) | set(ru_sw)\n",
    "STOP_WORDS = STOP_WORDS | set(stopwords.words('russian')) | set(stopwords.words('english'))\n",
    "STOP_WORDS = STOP_WORDS | set(['лента', 'новость', 'риа', 'тасс', 'редакция'])\n",
    "\n",
    "def get_lower(text):\n",
    "    return str(text).lower().strip()\n",
    "\n",
    "def remove_punctuation(text):\n",
    "    return ''.join([c if c.isalpha() or c in ['-',\"'\"] else ' ' for c in text])\n",
    "\n",
    "@lru_cache(maxsize=None)\n",
    "def get_word_normal_form(word):\n",
    "    return ''.join(mystem.lemmatize(word)).strip().replace('ё', 'е').strip('-')\n",
    "\n",
    "def lemmatize_words(text):\n",
    "    res = []\n",
    "    for word in text.split():\n",
    "        norm_form = get_word_normal_form(word)\n",
    "        if len(norm_form) > 2 and norm_form not in STOP_WORDS:\n",
    "            res.append(norm_form)\n",
    "    return ' '.join(res)\n",
    "\n",
    "TEXT_PIPELINE = Pipeline(get_lower, remove_punctuation, lemmatize_words)"
   ]
  },
  {
   "cell_type": "code",
   "execution_count": 5,
   "metadata": {
    "collapsed": false
   },
   "outputs": [
    {
     "name": "stderr",
     "output_type": "stream",
     "text": [
      "100%|██████████| 927/927 [00:03<00:00, 250.63it/s]\n",
      "100%|██████████| 927/927 [00:00<00:00, 11816.66it/s]"
     ]
    },
    {
     "name": "stdout",
     "output_type": "stream",
     "text": [
      "CPU times: user 1.65 s, sys: 176 ms, total: 1.82 s\n",
      "Wall time: 3.78 s\n"
     ]
    },
    {
     "name": "stderr",
     "output_type": "stream",
     "text": [
      "\n"
     ]
    }
   ],
   "source": [
    "%%time\n",
    "data.text = data.text.progress_apply(TEXT_PIPELINE)\n",
    "data.title = data.title.apply(lambda x: x.strip())\n",
    "data['title_norm'] = data.title.progress_apply(TEXT_PIPELINE)"
   ]
  },
  {
   "cell_type": "code",
   "execution_count": 6,
   "metadata": {
    "collapsed": true
   },
   "outputs": [],
   "source": [
    "from sklearn.feature_extraction.text import TfidfVectorizer\n",
    "from sklearn.metrics.pairwise import cosine_similarity "
   ]
  },
  {
   "cell_type": "code",
   "execution_count": 7,
   "metadata": {
    "collapsed": false
   },
   "outputs": [],
   "source": [
    "trainX = data['title_norm'] + ' ' + data.text\n",
    "# print(trainX)\n",
    "trainX = trainX.values"
   ]
  },
  {
   "cell_type": "code",
   "execution_count": 14,
   "metadata": {
    "collapsed": false
   },
   "outputs": [
    {
     "data": {
      "text/plain": [
       "(927,)"
      ]
     },
     "execution_count": 14,
     "metadata": {},
     "output_type": "execute_result"
    }
   ],
   "source": [
    "trainX.shape"
   ]
  },
  {
   "cell_type": "code",
   "execution_count": 10,
   "metadata": {
    "collapsed": true
   },
   "outputs": [],
   "source": [
    "import pickle"
   ]
  },
  {
   "cell_type": "code",
   "execution_count": 16,
   "metadata": {
    "collapsed": false
   },
   "outputs": [],
   "source": [
    "with open('../web_server/models/vectorizer.bin', 'rb') as pickle_file:\n",
    "    tfidf_vectorizer = pickle.load(pickle_file)"
   ]
  },
  {
   "cell_type": "code",
   "execution_count": 61,
   "metadata": {
    "collapsed": false
   },
   "outputs": [
    {
     "name": "stdout",
     "output_type": "stream",
     "text": [
      "CPU times: user 608 ms, sys: 4 ms, total: 612 ms\n",
      "Wall time: 614 ms\n"
     ]
    }
   ],
   "source": [
    "%%time\n",
    "# tfidf_vectorizer = TfidfVectorizer(min_df=5, ngram_range=(1,2), lowercase=False).fit(trainX)"
   ]
  },
  {
   "cell_type": "code",
   "execution_count": 17,
   "metadata": {
    "collapsed": false
   },
   "outputs": [
    {
     "data": {
      "text/plain": [
       "510889"
      ]
     },
     "execution_count": 17,
     "metadata": {},
     "output_type": "execute_result"
    }
   ],
   "source": [
    "len(tfidf_vectorizer.vocabulary_)"
   ]
  },
  {
   "cell_type": "code",
   "execution_count": 18,
   "metadata": {
    "collapsed": false
   },
   "outputs": [],
   "source": [
    "tfidf_matrix = tfidf_vectorizer.transform(trainX)"
   ]
  },
  {
   "cell_type": "markdown",
   "metadata": {},
   "source": [
    "# KMeans"
   ]
  },
  {
   "cell_type": "code",
   "execution_count": 19,
   "metadata": {
    "collapsed": false
   },
   "outputs": [],
   "source": [
    "from sklearn.cluster import KMeans\n",
    "# from spherecluster import SphericalKMeans"
   ]
  },
  {
   "cell_type": "code",
   "execution_count": 20,
   "metadata": {
    "collapsed": true
   },
   "outputs": [],
   "source": [
    "kmeans = KMeans(n_clusters=30, random_state=42).fit(tfidf_matrix)\n",
    "# kmeans = SphericalKMeans(n_clusters=K).fit(tfidf_matrix)"
   ]
  },
  {
   "cell_type": "code",
   "execution_count": 21,
   "metadata": {
    "collapsed": false
   },
   "outputs": [],
   "source": [
    "clasters = kmeans.predict(tfidf_matrix)\n",
    "c_list = [ [] for i in range(30) ]\n",
    "for i, claster in enumerate(clasters):\n",
    "    tfidf_news = tfidf_matrix[i,:]\n",
    "#     print(kmeans.cluster_centers_[claster].reshape(1, -1).shape, tfidf_news.shape)\n",
    "    if cosine_similarity(tfidf_news, kmeans.cluster_centers_[claster].reshape(1, -1))[0][0] > 0.65:\n",
    "        c_list[claster].append(i)"
   ]
  },
  {
   "cell_type": "code",
   "execution_count": 22,
   "metadata": {
    "collapsed": false
   },
   "outputs": [
    {
     "data": {
      "text/plain": [
       "[[],\n",
       " [],\n",
       " [],\n",
       " [47, 212, 408, 618],\n",
       " [52, 65, 318, 646, 815],\n",
       " [15, 296, 324, 694, 856, 874],\n",
       " [],\n",
       " [],\n",
       " [37, 43, 70, 211, 487, 843, 901],\n",
       " [189],\n",
       " [],\n",
       " [],\n",
       " [],\n",
       " [],\n",
       " [],\n",
       " [766, 792],\n",
       " [],\n",
       " [],\n",
       " [],\n",
       " [309],\n",
       " [159, 441],\n",
       " [],\n",
       " [],\n",
       " [],\n",
       " [],\n",
       " [41, 410, 566, 625, 724, 809, 908],\n",
       " [746],\n",
       " [],\n",
       " [],\n",
       " []]"
      ]
     },
     "execution_count": 22,
     "metadata": {},
     "output_type": "execute_result"
    }
   ],
   "source": [
    "c_list"
   ]
  },
  {
   "cell_type": "code",
   "execution_count": 23,
   "metadata": {
    "collapsed": false
   },
   "outputs": [
    {
     "name": "stdout",
     "output_type": "stream",
     "text": [
      "Topic 3\n",
      "Хлебопеки не нуждаются в законодательном запрете на возврат непроданного хлеба http://tass.ru/ekonomika/4191387\n",
      "Роспотребнадзор поддержал запрет на возврат производителю непроданного хлеба http://tass.ru/ekonomika/4189937\n",
      "Роспотребнадзор одобрил запрет на возврат непроданного хлеба https://lenta.ru/news/2017/04/18/bread/\n",
      "Роспотребнадзор поддержал запрет на возврат просроченного хлеба производителю http://www.vedomosti.ru/business/news/2017/04/18/686198-rospotrebnadzor\n",
      "\n",
      "Topic 4\n",
      "Роспотребнадзор проверит отказ \"Победы\" пустить на рейс ребенка с ДЦП http://tass.ru/obschestvo/4191422\n",
      "Росавиация назвала \"овербукинг\" причиной отказа \"Победы\" в перевозке ребенка с ДЦП http://tass.ru/obschestvo/4191799\n",
      "\"Победа\" уволит сотрудника, не обеспечившего посадку на борт ребенка с ДЦП http://tass.ru/proisshestviya/4189442\n",
      "Инцидентом с недопуском ребенка с ДЦП на рейс «Победы» занялась прокуратура http://www.vedomosti.ru/business/news/2017/04/18/686181-dtsp-pobedi\n",
      "Прокуратура проверит отказ авиакомпании «Победа» пустить на борт ребенка с ДЦП https://www.gazeta.ru/social/news/2017/04/18/n_9936731.shtml\n",
      "\n",
      "Topic 5\n",
      "Парламент Турции одобрил продление режима ЧП в стране на три месяца http://tass.ru/mezhdunarodnaya-panorama/4192082\n",
      "Правительство Турции намерено продлить режим ЧП http://tass.ru/mezhdunarodnaya-panorama/4189513\n",
      "Совбез Турции рекомендовал правительству продлить режим ЧП в стране http://tass.ru/mezhdunarodnaya-panorama/4189449\n",
      "В Турции продлили режим ЧП еще на три месяца https://www.gazeta.ru/politics/news/2017/04/18/n_9939743.shtml\n",
      "Кабмин Турции направил в парламент запрос на продление режима ЧП в стране https://www.gazeta.ru/politics/news/2017/04/18/n_9935735.shtml\n",
      "Совбез Турции рекомендовал продлить режим ЧП в стране https://www.gazeta.ru/social/news/2017/04/17/n_9935279.shtml\n",
      "\n",
      "Topic 8\n",
      "СМИ: подозреваемый в организации теракта в Питере в этом году приезжал в Киргизию http://tass.ru/proisshestviya/4191727\n",
      "Уроженец Киргизии Азимов арестован по подозрению в организации теракта в Петербурге http://tass.ru/proisshestviya/4191203\n",
      "Аброр Азимов является одним из организаторов теракта в метро Петербурга http://tass.ru/proisshestviya/4191411\n",
      "Киргизия готова помогать РФ в установлении личности организатора теракта в Петербурге http://tass.ru/proisshestviya/4190168\n",
      "Предполагаемый организатор теракта в метро отказался от признательных показаний https://lenta.ru/news/2017/04/18/notme/\n",
      "«Ъ» рассказал, как ФСБ обнаружила предполагаемого организатора теракта в Петербурге https://www.gazeta.ru/social/news/2017/04/18/n_9935849.shtml\n",
      "Суд арестовал предполагаемого организатора теракта в петербургском метро https://www.novayagazeta.ru/news/2017/04/18/130821-sud-arestoval-organizatora-terakta-v-metro-peterburga\n",
      "\n",
      "Topic 25\n",
      "Владелец ЕСН Григорий Березкин подтвердил переговоры о покупке РБК http://tass.ru/ekonomika/4191614\n",
      "Березкин подтвердил намерение купить РБК https://lenta.ru/news/2017/04/18/rbc/\n",
      "Котировки РБК растут более чем на 8% после новостей о возможной покупке группой ЕСН http://www.vedomosti.ru/technology/news/2017/04/18/686269-kotirovki-rbk-rastut-esn\n",
      "Березкин подтвердил планы купить РБК http://www.vedomosti.ru/technology/news/2017/04/18/686197-berezkin-rbk\n",
      "Владелец ЕСН Березкин подтвердил переговоры о покупке РБК https://www.gazeta.ru/tech/news/2017/04/18/n_9939233.shtml\n",
      "СМИ: Березкин планирует продать российскую ОС Sailfish «Ростелекому» https://www.gazeta.ru/tech/news/2017/04/18/n_9936905.shtml\n",
      "Березкин подтвердил переговоры с Прохоровым о покупке РБК https://www.novayagazeta.ru/news/2017/04/18/130814-berezkin-podtverdil-peregovory-s-prohorovym-o-pokupke-rbk\n",
      "\n"
     ]
    }
   ],
   "source": [
    "for i, group in enumerate(c_list):\n",
    "    if len(group) < 3:\n",
    "        continue\n",
    "    print('Topic', i)\n",
    "    for id_ in group:\n",
    "        print(data.title[id_],data.url[id_])\n",
    "    print()"
   ]
  },
  {
   "cell_type": "code",
   "execution_count": 17,
   "metadata": {
    "collapsed": false
   },
   "outputs": [
    {
     "data": {
      "text/plain": [
       "array([[ 0.00021113,  0.        ,  0.00305723, ...,  0.00121998,\n",
       "         0.00235024,  0.        ],\n",
       "       [ 0.00171598,  0.0005434 ,  0.        , ...,  0.        ,\n",
       "         0.        ,  0.        ],\n",
       "       [ 0.        ,  0.        ,  0.        , ...,  0.        ,\n",
       "         0.        ,  0.00743105],\n",
       "       [ 0.00377684,  0.00134598,  0.        , ...,  0.        ,\n",
       "         0.        ,  0.0012463 ],\n",
       "       [ 0.        ,  0.0010983 ,  0.        , ...,  0.00031296,\n",
       "         0.        ,  0.        ]])"
      ]
     },
     "execution_count": 17,
     "metadata": {},
     "output_type": "execute_result"
    }
   ],
   "source": [
    "kmeans.cluster_centers_"
   ]
  },
  {
   "cell_type": "markdown",
   "metadata": {},
   "source": [
    "# Graphs"
   ]
  },
  {
   "cell_type": "code",
   "execution_count": 24,
   "metadata": {
    "collapsed": false
   },
   "outputs": [],
   "source": [
    "cosines = []\n",
    "for tfidf_news in tfidf_matrix:\n",
    "    cosine = cosine_similarity(tfidf_news, tfidf_matrix)\n",
    "    cosines.append(cosine.tolist()[0])"
   ]
  },
  {
   "cell_type": "code",
   "execution_count": 31,
   "metadata": {
    "collapsed": false
   },
   "outputs": [],
   "source": [
    "COS_THRESHOLD = 0.75\n",
    "themes = [ -1 for _ in range(len(cosines)) ]\n",
    "themes_ids = [ [] for _ in range(len(cosines)) ]\n",
    "curr_theme = 0\n",
    "for v, theme in enumerate(themes):\n",
    "    if theme == -1:\n",
    "        curr_theme += 1\n",
    "        Q = []\n",
    "        Q.append(v)\n",
    "        themes[v] = curr_theme\n",
    "        themes_ids[curr_theme].append(v)\n",
    "        while Q:\n",
    "            curr_v = Q.pop(0)\n",
    "            for u, cos in enumerate(cosines[curr_v]):\n",
    "                if cos >= COS_THRESHOLD and themes[u] == -1:\n",
    "                    themes[u] = curr_theme\n",
    "                    themes_ids[curr_theme].append(u)\n",
    "                    Q.append(u)"
   ]
  },
  {
   "cell_type": "code",
   "execution_count": 32,
   "metadata": {
    "collapsed": false
   },
   "outputs": [],
   "source": [
    "# themes_ids"
   ]
  },
  {
   "cell_type": "code",
   "execution_count": 33,
   "metadata": {
    "collapsed": false
   },
   "outputs": [],
   "source": [
    "groups = sorted(themes_ids, key=lambda x: -len(x))"
   ]
  },
  {
   "cell_type": "code",
   "execution_count": 34,
   "metadata": {
    "collapsed": false,
    "scrolled": true
   },
   "outputs": [
    {
     "name": "stdout",
     "output_type": "stream",
     "text": [
      "Topic 0\n",
      "Чистая прибыль банка «Россия» выросла на 75% за январь – март http://www.vedomosti.ru/finance/news/2017/04/18/686211-pribil-banka-rossiya\n",
      "Квартальная прибыль «ВТБ 24» выросла в 3,9 раза http://www.vedomosti.ru/finance/news/2017/04/18/686204-pribil-vtb-24\n",
      "Россельхозбанк снизил чистую прибыль в 7,6 раза за I квартал http://www.vedomosti.ru/finance/news/2017/04/18/686207-rosselhozbank-snizil-pribil\n",
      "\n",
      "Topic 1\n",
      "\"Дочка\" Сбербанка может оспорить запрет на использование своих торговых марок на Украине http://tass.ru/ekonomika/4192151\n",
      "Киевский суд лишил Сбербанк доменного имени и запретил использовать торговую марку http://tass.ru/ekonomika/4192017\n",
      "\n",
      "Topic 2\n",
      "Хлебопеки не нуждаются в законодательном запрете на возврат непроданного хлеба http://tass.ru/ekonomika/4191387\n",
      "\"Пятерочка\" уйдет от практики возврата непроданного хлеба производителям  c 1 июня http://tass.ru/ekonomika/4191118\n",
      "\n",
      "Topic 3\n",
      "Греф: бумажные трудовые книжки мешают работодателям и Пенсионному фонду http://tass.ru/ekonomika/4190698\n",
      "Греф раскритиковал бумажные трудовые книжки http://www.vedomosti.ru/finance/news/2017/04/18/686226-gref-trudovie-knizhki\n",
      "\n",
      "Topic 4\n",
      "Сбербанк стал самым дорогим российским брендом http://tass.ru/ekonomika/4190690\n",
      "Сбербанк стал самым дорогим российским брендом – Brand Finance http://www.vedomosti.ru/finance/news/2017/04/18/686217-sberbank-samim-dorogim-brendom\n",
      "\n",
      "Topic 5\n",
      "Издательство \"Просвещение\" Аркадия Ротенберга рассматривает IPO в Лондоне и России http://tass.ru/ekonomika/4190640\n",
      "Издательство «Просвещение» с долей Аркадия Ротенберга готовит IPO в Лондоне и России http://www.vedomosti.ru/business/news/2017/04/18/686212-izdatelstvo-prosveschenie\n",
      "\n",
      "Topic 6\n",
      "Президент Грузии призывает Россию к конструктивному диалогу http://tass.ru/mezhdunarodnaya-panorama/4190194\n",
      "Президент Грузии встревожен действиями российской стороны https://www.gazeta.ru/politics/news/2017/04/18/n_9936959.shtml\n",
      "\n",
      "Topic 7\n",
      "Прокуратура проверит отказ \"Победы\" пустить на борт ребенка с ДЦП http://tass.ru/proisshestviya/4190027\n",
      "Прокуратура проверит отказ авиакомпании «Победа» пустить на борт ребенка с ДЦП https://www.gazeta.ru/social/news/2017/04/18/n_9936731.shtml\n",
      "\n",
      "Topic 8\n",
      "Частица Благодатного огня впервые в истории доставлена в США из России http://tass.ru/obschestvo/4189844\n",
      "Благодатный огонь впервые в истории доставили в США из России https://www.gazeta.ru/social/news/2017/04/18/n_9936491.shtml\n",
      "\n",
      "Topic 9\n",
      "Минобрнауки по итогам конкурсного отбора назвало 22 опорных вуза http://tass.ru/obschestvo/4189779\n",
      "Минобрнауки выбрало еще 22 опорных вуза https://lenta.ru/news/2017/04/18/22plus/\n",
      "\n",
      "Topic 10\n",
      "Медведев подписал документ, направленный на увеличение инвестиций в сферу теплоснабжения http://tass.ru/ekonomika/4189754\n",
      "Медведев подписал постановление об увеличении инвестиций в сферах водоснабжения и тепла https://www.gazeta.ru/business/news/2017/04/18/n_9936269.shtml\n",
      "\n",
      "Topic 11\n",
      "Пентагон начал оценку ядерного потенциала США на предмет соответствия угрозам http://tass.ru/mezhdunarodnaya-panorama/4189640\n",
      "Глава Пентагона поручил оценить ядерный потенциал США http://tass.ru/mezhdunarodnaya-panorama/4189511\n",
      "\n",
      "Topic 12\n",
      "Черчесов: текущий уровень футболиста Кокорина не до конца устраивает штаб сборной РФ http://tass.ru/sport/4189609\n",
      "Черчесов: текущий уровень Кокорина не устраивает штаб сборной России https://www.gazeta.ru/sport/news/2017/04/18/n_9935939.shtml\n",
      "\n",
      "Topic 13\n",
      "Россельхознадзор обеспокоен ростом поставок мяса и масла с Украины http://tass.ru/ekonomika/4189409\n",
      "Россельхознадзор обеспокоен ростом поставок мяса с Украины из-за АЧС https://www.gazeta.ru/business/news/2017/04/17/n_9935129.shtml\n",
      "\n",
      "Topic 14\n",
      "Котировки РБК растут более чем на 8% после новостей о возможной покупке группой ЕСН http://www.vedomosti.ru/technology/news/2017/04/18/686269-kotirovki-rbk-rastut-esn\n",
      "Березкин подтвердил планы купить РБК http://www.vedomosti.ru/technology/news/2017/04/18/686197-berezkin-rbk\n",
      "\n",
      "Topic 15\n",
      "Более 70% региональных дорог Новгородской области не соответствует нормативу – Путин http://www.vedomosti.ru/realty/news/2017/04/18/686246-regionalnih-dorog-ne-sootvetstvuet\n",
      "Путин призвал обратить внимание на состояние дорог в Новгородской области https://www.gazeta.ru/auto/news/2017/04/18/n_9938321.shtml\n",
      "\n",
      "Topic 16\n",
      "Многие работы на «Зенит-арене» потребуют переделки – ФАС http://www.vedomosti.ru/realty/news/2017/04/18/686192-raboti-zenit-arene-potrebuyut-peredelki\n",
      "УФАС: многие работы на стадионе на Крестовском острове потребуют переделки https://www.gazeta.ru/sport/news/2017/04/18/n_9937253.shtml\n",
      "\n",
      "Topic 17\n",
      "Фондовый рынок США открылся падением https://www.gazeta.ru/business/news/2017/04/18/n_9938777.shtml\n",
      "Фондовый рынок США закрылся ростом https://www.gazeta.ru/business/news/2017/04/17/n_9935699.shtml\n",
      "\n",
      "Topic 18\n",
      "Мировые цены на нефть не определились с динамикой https://www.gazeta.ru/business/news/2017/04/18/n_9936377.shtml\n",
      "Мировые цены на нефть снижаются https://www.gazeta.ru/business/news/2017/04/17/n_9935627.shtml\n",
      "\n"
     ]
    }
   ],
   "source": [
    "for i, group in enumerate(groups):\n",
    "    if len(group) < 2:\n",
    "        break\n",
    "    print('Topic', i)\n",
    "    for id_ in group:\n",
    "        print(data.title[id_],data.url[id_])\n",
    "    print()"
   ]
  },
  {
   "cell_type": "code",
   "execution_count": null,
   "metadata": {
    "collapsed": true
   },
   "outputs": [],
   "source": []
  }
 ],
 "metadata": {
  "anaconda-cloud": {},
  "kernelspec": {
   "display_name": "Python [conda root]",
   "language": "python",
   "name": "conda-root-py"
  },
  "language_info": {
   "codemirror_mode": {
    "name": "ipython",
    "version": 3
   },
   "file_extension": ".py",
   "mimetype": "text/x-python",
   "name": "python",
   "nbconvert_exporter": "python",
   "pygments_lexer": "ipython3",
   "version": "3.5.2"
  }
 },
 "nbformat": 4,
 "nbformat_minor": 2
}
