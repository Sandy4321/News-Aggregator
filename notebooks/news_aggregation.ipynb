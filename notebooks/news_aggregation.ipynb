{
 "cells": [
  {
   "cell_type": "code",
   "execution_count": 1,
   "metadata": {
    "collapsed": false
   },
   "outputs": [
    {
     "name": "stderr",
     "output_type": "stream",
     "text": [
      "/home/sweetsteam/anaconda3/lib/python3.5/site-packages/matplotlib/__init__.py:878: UserWarning: axes.color_cycle is deprecated and replaced with axes.prop_cycle; please use the latter.\n",
      "  warnings.warn(self.msg_depr % (key, alt_key))\n"
     ]
    }
   ],
   "source": [
    "import pandas as pd\n",
    "# pd.options.display.max_colwidth = 200\n",
    "\n",
    "import numpy as np\n",
    "from collections import defaultdict\n",
    "\n",
    "import matplotlib\n",
    "import matplotlib.pyplot as plt\n",
    "\n",
    "import seaborn as sns\n",
    "sns.set_style(\"white\")\n",
    "\n",
    "from pymystem3 import Mystem; mystem = Mystem()\n",
    "from functools import lru_cache\n",
    "\n",
    "\n",
    "from tqdm import tqdm\n",
    "tqdm.pandas()\n",
    "\n",
    "%matplotlib inline"
   ]
  },
  {
   "cell_type": "code",
   "execution_count": 2,
   "metadata": {
    "collapsed": false
   },
   "outputs": [],
   "source": [
    "data = []\n",
    "DATA_PATH = '../../NewsParser/data/'\n",
    "for csv_name in ['recent_news.csv']:\n",
    "    data.append(pd.read_csv(DATA_PATH + csv_name))\n",
    "data = pd.concat(data)"
   ]
  },
  {
   "cell_type": "code",
   "execution_count": 3,
   "metadata": {
    "collapsed": false
   },
   "outputs": [
    {
     "data": {
      "text/html": [
       "<div>\n",
       "<table border=\"1\" class=\"dataframe\">\n",
       "  <thead>\n",
       "    <tr style=\"text-align: right;\">\n",
       "      <th></th>\n",
       "      <th>date</th>\n",
       "      <th>text</th>\n",
       "      <th>title</th>\n",
       "      <th>url</th>\n",
       "    </tr>\n",
       "  </thead>\n",
       "  <tbody>\n",
       "    <tr>\n",
       "      <th>0</th>\n",
       "      <td>2017-04-18 19:41:14</td>\n",
       "      <td>КИЕВ, 18 апреля. /ТАСС/. \"Дочка\" российского С...</td>\n",
       "      <td>\"Дочка\" Сбербанка может оспорить запрет на исп...</td>\n",
       "      <td>http://tass.ru/ekonomika/4192151</td>\n",
       "    </tr>\n",
       "    <tr>\n",
       "      <th>1</th>\n",
       "      <td>2017-04-18 19:47:54</td>\n",
       "      <td>ПАРИЖ, 18 апреля. /Корр. ТАСС Сергей Щербаков/...</td>\n",
       "      <td>Саркози призвал французских избирателей голосо...</td>\n",
       "      <td>http://tass.ru/mezhdunarodnaya-panorama/4192155</td>\n",
       "    </tr>\n",
       "    <tr>\n",
       "      <th>2</th>\n",
       "      <td>2017-04-18 19:37:26</td>\n",
       "      <td>ЭЛЬ-КУВЕЙТ, 18 апреля. /Корр. ТАСС Павел Проко...</td>\n",
       "      <td>В Мосуле ликвидирован \"главный снайпер\" ИГ</td>\n",
       "      <td>http://tass.ru/mezhdunarodnaya-panorama/4192145</td>\n",
       "    </tr>\n",
       "    <tr>\n",
       "      <th>3</th>\n",
       "      <td>2017-04-18 19:59:38</td>\n",
       "      <td>КИЕВ, 18 апреля. /ТАСС/. Национальный банк Укр...</td>\n",
       "      <td>Нацбанк Украины рассматривает документы от Nor...</td>\n",
       "      <td>http://tass.ru/ekonomika/4192182</td>\n",
       "    </tr>\n",
       "    <tr>\n",
       "      <th>4</th>\n",
       "      <td>2017-04-18 19:15:21</td>\n",
       "      <td>РИМ, 18 апреля. /Корр.ТАСС Алексей Букалов/. Р...</td>\n",
       "      <td>Сильвио Берлускони потеснил \"Молодого папу\" в ...</td>\n",
       "      <td>http://tass.ru/kultura/4192052</td>\n",
       "    </tr>\n",
       "  </tbody>\n",
       "</table>\n",
       "</div>"
      ],
      "text/plain": [
       "                  date                                               text  \\\n",
       "0  2017-04-18 19:41:14  КИЕВ, 18 апреля. /ТАСС/. \"Дочка\" российского С...   \n",
       "1  2017-04-18 19:47:54  ПАРИЖ, 18 апреля. /Корр. ТАСС Сергей Щербаков/...   \n",
       "2  2017-04-18 19:37:26  ЭЛЬ-КУВЕЙТ, 18 апреля. /Корр. ТАСС Павел Проко...   \n",
       "3  2017-04-18 19:59:38  КИЕВ, 18 апреля. /ТАСС/. Национальный банк Укр...   \n",
       "4  2017-04-18 19:15:21  РИМ, 18 апреля. /Корр.ТАСС Алексей Букалов/. Р...   \n",
       "\n",
       "                                               title  \\\n",
       "0  \"Дочка\" Сбербанка может оспорить запрет на исп...   \n",
       "1  Саркози призвал французских избирателей голосо...   \n",
       "2         В Мосуле ликвидирован \"главный снайпер\" ИГ   \n",
       "3  Нацбанк Украины рассматривает документы от Nor...   \n",
       "4  Сильвио Берлускони потеснил \"Молодого папу\" в ...   \n",
       "\n",
       "                                               url  \n",
       "0                 http://tass.ru/ekonomika/4192151  \n",
       "1  http://tass.ru/mezhdunarodnaya-panorama/4192155  \n",
       "2  http://tass.ru/mezhdunarodnaya-panorama/4192145  \n",
       "3                 http://tass.ru/ekonomika/4192182  \n",
       "4                   http://tass.ru/kultura/4192052  "
      ]
     },
     "execution_count": 3,
     "metadata": {},
     "output_type": "execute_result"
    }
   ],
   "source": [
    "data.head()"
   ]
  },
  {
   "cell_type": "code",
   "execution_count": 4,
   "metadata": {
    "collapsed": false
   },
   "outputs": [],
   "source": [
    "class Pipeline(object):\n",
    "    def __init__(self, *args):\n",
    "        self.transformations = args\n",
    "    def __call__(self, x):\n",
    "        res = x\n",
    "        for f in self.transformations:\n",
    "            res = f(res)\n",
    "        return res\n",
    "\n",
    "from nltk.corpus import stopwords\n",
    "from stop_words import get_stop_words\n",
    "en_sw = get_stop_words('en')\n",
    "ru_sw = get_stop_words('ru')\n",
    "STOP_WORDS = set(en_sw) | set(ru_sw)\n",
    "STOP_WORDS = STOP_WORDS | set(stopwords.words('russian')) | set(stopwords.words('english'))\n",
    "STOP_WORDS = STOP_WORDS | set(['лента', 'новость', 'риа', 'тасс', 'редакция'])\n",
    "\n",
    "def get_lower(text):\n",
    "    return str(text).lower().strip()\n",
    "\n",
    "def remove_punctuation(text):\n",
    "    return ''.join([c if c.isalpha() or c in ['-',\"'\"] else ' ' for c in text])\n",
    "\n",
    "@lru_cache(maxsize=None)\n",
    "def get_word_normal_form(word):\n",
    "    return ''.join(mystem.lemmatize(word)).strip().replace('ё', 'е').strip('-')\n",
    "\n",
    "def lemmatize_words(text):\n",
    "    res = []\n",
    "    for word in text.split():\n",
    "        norm_form = get_word_normal_form(word)\n",
    "        if len(norm_form) > 2 and norm_form not in STOP_WORDS:\n",
    "            res.append(norm_form)\n",
    "    return ' '.join(res)\n",
    "\n",
    "TEXT_PIPELINE = Pipeline(get_lower, remove_punctuation, lemmatize_words)"
   ]
  },
  {
   "cell_type": "code",
   "execution_count": 5,
   "metadata": {
    "collapsed": false
   },
   "outputs": [
    {
     "name": "stderr",
     "output_type": "stream",
     "text": [
      "100%|██████████| 927/927 [00:03<00:00, 246.18it/s]\n",
      "100%|██████████| 927/927 [00:00<00:00, 11976.53it/s]"
     ]
    },
    {
     "name": "stdout",
     "output_type": "stream",
     "text": [
      "CPU times: user 1.58 s, sys: 240 ms, total: 1.82 s\n",
      "Wall time: 3.85 s\n"
     ]
    },
    {
     "name": "stderr",
     "output_type": "stream",
     "text": [
      "\n"
     ]
    }
   ],
   "source": [
    "%%time\n",
    "data.text = data.text.progress_apply(TEXT_PIPELINE)\n",
    "data.title = data.title.apply(lambda x: x.strip())\n",
    "data['title_norm'] = data.title.progress_apply(TEXT_PIPELINE)"
   ]
  },
  {
   "cell_type": "code",
   "execution_count": 6,
   "metadata": {
    "collapsed": true
   },
   "outputs": [],
   "source": [
    "from sklearn.feature_extraction.text import TfidfVectorizer\n",
    "from sklearn.metrics.pairwise import cosine_similarity "
   ]
  },
  {
   "cell_type": "code",
   "execution_count": 7,
   "metadata": {
    "collapsed": false
   },
   "outputs": [],
   "source": [
    "trainX = data['title_norm'] + ' ' + data.text\n",
    "# print(trainX)\n",
    "trainX = trainX.values"
   ]
  },
  {
   "cell_type": "code",
   "execution_count": 8,
   "metadata": {
    "collapsed": false
   },
   "outputs": [
    {
     "data": {
      "text/plain": [
       "(927,)"
      ]
     },
     "execution_count": 8,
     "metadata": {},
     "output_type": "execute_result"
    }
   ],
   "source": [
    "trainX.shape"
   ]
  },
  {
   "cell_type": "code",
   "execution_count": 9,
   "metadata": {
    "collapsed": true
   },
   "outputs": [],
   "source": [
    "import pickle"
   ]
  },
  {
   "cell_type": "code",
   "execution_count": 10,
   "metadata": {
    "collapsed": false
   },
   "outputs": [],
   "source": [
    "with open('count_vectorizer.bin', 'rb') as pickle_file:\n",
    "    tfidf_vectorizer = pickle.load(pickle_file)"
   ]
  },
  {
   "cell_type": "code",
   "execution_count": 11,
   "metadata": {
    "collapsed": false
   },
   "outputs": [
    {
     "name": "stdout",
     "output_type": "stream",
     "text": [
      "CPU times: user 0 ns, sys: 0 ns, total: 0 ns\n",
      "Wall time: 7.63 µs\n"
     ]
    }
   ],
   "source": [
    "%%time\n",
    "# tfidf_vectorizer = TfidfVectorizer(min_df=5, ngram_range=(1,2), lowercase=False).fit(trainX)"
   ]
  },
  {
   "cell_type": "code",
   "execution_count": 12,
   "metadata": {
    "collapsed": false
   },
   "outputs": [
    {
     "data": {
      "text/plain": [
       "1025216"
      ]
     },
     "execution_count": 12,
     "metadata": {},
     "output_type": "execute_result"
    }
   ],
   "source": [
    "len(tfidf_vectorizer.vocabulary_)"
   ]
  },
  {
   "cell_type": "code",
   "execution_count": 13,
   "metadata": {
    "collapsed": false
   },
   "outputs": [],
   "source": [
    "tfidf_matrix = tfidf_vectorizer.transform(trainX)"
   ]
  },
  {
   "cell_type": "markdown",
   "metadata": {},
   "source": [
    "# KMeans"
   ]
  },
  {
   "cell_type": "code",
   "execution_count": 14,
   "metadata": {
    "collapsed": false
   },
   "outputs": [],
   "source": [
    "from sklearn.cluster import KMeans\n",
    "# from spherecluster import SphericalKMeans"
   ]
  },
  {
   "cell_type": "code",
   "execution_count": 15,
   "metadata": {
    "collapsed": true
   },
   "outputs": [],
   "source": [
    "kmeans = KMeans(n_clusters=30, random_state=42).fit(tfidf_matrix)\n",
    "# kmeans = SphericalKMeans(n_clusters=K).fit(tfidf_matrix)"
   ]
  },
  {
   "cell_type": "code",
   "execution_count": 16,
   "metadata": {
    "collapsed": false
   },
   "outputs": [],
   "source": [
    "clasters = kmeans.predict(tfidf_matrix)\n",
    "c_list = [ [] for i in range(30) ]\n",
    "for i, claster in enumerate(clasters):\n",
    "    tfidf_news = tfidf_matrix[i,:]\n",
    "#     print(kmeans.cluster_centers_[claster].reshape(1, -1).shape, tfidf_news.shape)\n",
    "    if cosine_similarity(tfidf_news, kmeans.cluster_centers_[claster].reshape(1, -1))[0][0] > 0.65:\n",
    "        c_list[claster].append(i)"
   ]
  },
  {
   "cell_type": "code",
   "execution_count": 17,
   "metadata": {
    "collapsed": false
   },
   "outputs": [
    {
     "data": {
      "text/plain": [
       "[[102],\n",
       " [23, 527, 697],\n",
       " [],\n",
       " [35],\n",
       " [413, 592],\n",
       " [31],\n",
       " [269, 295],\n",
       " [10],\n",
       " [189, 282, 291],\n",
       " [304],\n",
       " [22],\n",
       " [310],\n",
       " [262, 316],\n",
       " [300, 626],\n",
       " [19, 225],\n",
       " [311],\n",
       " [51, 496, 574, 718, 896],\n",
       " [318, 353, 562, 646],\n",
       " [299],\n",
       " [84, 92, 111, 471, 903],\n",
       " [63, 164, 563, 598],\n",
       " [580],\n",
       " [],\n",
       " [236],\n",
       " [176],\n",
       " [283],\n",
       " [0, 29],\n",
       " [133],\n",
       " [322],\n",
       " [203]]"
      ]
     },
     "execution_count": 17,
     "metadata": {},
     "output_type": "execute_result"
    }
   ],
   "source": [
    "c_list"
   ]
  },
  {
   "cell_type": "code",
   "execution_count": 18,
   "metadata": {
    "collapsed": false
   },
   "outputs": [
    {
     "name": "stdout",
     "output_type": "stream",
     "text": [
      "Topic 1\n",
      "Подразделения ПВО Москвы подняты по тревоге в рамках проверки http://tass.ru/armiya-i-opk/4191986\n",
      "Соединение ПВО Москвы подняли по тревоге https://lenta.ru/news/2017/04/18/pvo/\n",
      "Минобороны: подразделения ПВО Москвы подняты по тревоге в рамках проверки https://www.gazeta.ru/army/news/9939659.shtml\n",
      "\n",
      "Topic 8\n",
      "Москалькова: данные о похищении геев в Чечне пока не подтвердились http://tass.ru/obschestvo/4190260\n",
      "КЗЖ высказался за проведение расследования в связи с угрозами журналистам \"Новой газеты\" http://tass.ru/obschestvo/4189588\n",
      "Постпред США при ООН призвала власти Чечни расследовать сообщения о притеснениях геев http://tass.ru/mezhdunarodnaya-panorama/4189602\n",
      "\n",
      "Topic 16\n",
      "Путин назвал процентщицу из романа Достоевского более скромной, чем нынешние МФО http://tass.ru/ekonomika/4191531\n",
      "Путин сравнил процентщицу из Достоевского и микрофинансовые организации https://lenta.ru/news/2017/04/18/dostoevsky/\n",
      "Путин предложил ужесточить наказание за мошенничество в сфере предоставления займов http://www.vedomosti.ru/finance/news/2017/04/18/686262-putin-uzhestochit-nakazanie-moshennichestvo-zaimov\n",
      "Путин сравнил старушку-процентщицу Достоевского и современные МФО https://www.gazeta.ru/business/news/2017/04/18/n_9938765.shtml\n",
      "Путин сравнил выдающих микрозаймы со старухой-процентщицей Достоевского https://www.novayagazeta.ru/news/2017/04/18/130829-putin-nazval-staruhu-protsentschitsu-dostoevskogo-skromnee-vydayuschih-mikrokredity-bankirov\n",
      "\n",
      "Topic 17\n",
      "\"Победа\" уволит сотрудника, не обеспечившего посадку на борт ребенка с ДЦП http://tass.ru/proisshestviya/4189442\n",
      "«Победа» уволит сотрудника из-за улетевшего без ребенка-инвалида самолета https://lenta.ru/news/2017/04/18/pobeda/\n",
      "Росавиация назвала незаконной причину недопуска ребенка-инвалида на рейс «Победы» http://www.vedomosti.ru/business/news/2017/04/18/686273-rosaviatsiya-prichinu-nedopuska\n",
      "Инцидентом с недопуском ребенка с ДЦП на рейс «Победы» занялась прокуратура http://www.vedomosti.ru/business/news/2017/04/18/686181-dtsp-pobedi\n",
      "\n",
      "Topic 19\n",
      "Эксперт заявил об \"отсечении\" в американских соцсетях позитивного для РФ контента http://tass.ru/politika/4191160\n",
      "Депутат предложил разобраться в конкретных случаях воздействия США на выборы в России http://tass.ru/politika/4191019\n",
      "Эксперты нашли следы вмешательства США в выборы в России 2016 года http://tass.ru/politika/4191121\n",
      "В Госдуме заподозрили американские СМИ во влиянии на выборы в России https://lenta.ru/news/2017/04/18/proverka/\n",
      "В Госдуме предложили разобраться в случаях «воздействия» США на выборы в России https://www.novayagazeta.ru/news/2017/04/18/130824-v-gosdume-predlozhili-razobratsya-v-sluchayah-vozdeystviya-ssha-na-vybory-v-rossii\n",
      "\n",
      "Topic 20\n",
      "Холдинг \"Просвещение\" Ротенберга может вложить до 1,5 млрд руб. в покупку IT-компаний http://tass.ru/ekonomika/4191818\n",
      "Издательство \"Просвещение\" Аркадия Ротенберга рассматривает IPO в Лондоне и России http://tass.ru/ekonomika/4190640\n",
      "«Просвещение» Ротенберга может вложить до 1,5 млрд рублей в покупку IT-компаний http://www.vedomosti.ru/technology/news/2017/04/18/686285-prosveschenie\n",
      "Издательство «Просвещение» с долей Аркадия Ротенберга готовит IPO в Лондоне и России http://www.vedomosti.ru/business/news/2017/04/18/686212-izdatelstvo-prosveschenie\n",
      "\n"
     ]
    }
   ],
   "source": [
    "for i, group in enumerate(c_list):\n",
    "    if len(group) < 3:\n",
    "        continue\n",
    "    print('Topic', i)\n",
    "    for id_ in group:\n",
    "        print(data.title[id_],data.url[id_])\n",
    "    print()"
   ]
  },
  {
   "cell_type": "code",
   "execution_count": 17,
   "metadata": {
    "collapsed": false
   },
   "outputs": [
    {
     "data": {
      "text/plain": [
       "array([[ 0.00021113,  0.        ,  0.00305723, ...,  0.00121998,\n",
       "         0.00235024,  0.        ],\n",
       "       [ 0.00171598,  0.0005434 ,  0.        , ...,  0.        ,\n",
       "         0.        ,  0.        ],\n",
       "       [ 0.        ,  0.        ,  0.        , ...,  0.        ,\n",
       "         0.        ,  0.00743105],\n",
       "       [ 0.00377684,  0.00134598,  0.        , ...,  0.        ,\n",
       "         0.        ,  0.0012463 ],\n",
       "       [ 0.        ,  0.0010983 ,  0.        , ...,  0.00031296,\n",
       "         0.        ,  0.        ]])"
      ]
     },
     "execution_count": 17,
     "metadata": {},
     "output_type": "execute_result"
    }
   ],
   "source": [
    "kmeans.cluster_centers_"
   ]
  },
  {
   "cell_type": "markdown",
   "metadata": {},
   "source": [
    "# Graphs"
   ]
  },
  {
   "cell_type": "code",
   "execution_count": 24,
   "metadata": {
    "collapsed": false
   },
   "outputs": [],
   "source": [
    "cosines = []\n",
    "for tfidf_news in tfidf_matrix:\n",
    "    cosine = cosine_similarity(tfidf_news, tfidf_matrix)\n",
    "    cosines.append(cosine.tolist()[0])"
   ]
  },
  {
   "cell_type": "code",
   "execution_count": 31,
   "metadata": {
    "collapsed": false
   },
   "outputs": [],
   "source": [
    "COS_THRESHOLD = 0.75\n",
    "themes = [ -1 for _ in range(len(cosines)) ]\n",
    "themes_ids = [ [] for _ in range(len(cosines)) ]\n",
    "curr_theme = 0\n",
    "for v, theme in enumerate(themes):\n",
    "    if theme == -1:\n",
    "        curr_theme += 1\n",
    "        Q = []\n",
    "        Q.append(v)\n",
    "        themes[v] = curr_theme\n",
    "        themes_ids[curr_theme].append(v)\n",
    "        while Q:\n",
    "            curr_v = Q.pop(0)\n",
    "            for u, cos in enumerate(cosines[curr_v]):\n",
    "                if cos >= COS_THRESHOLD and themes[u] == -1:\n",
    "                    themes[u] = curr_theme\n",
    "                    themes_ids[curr_theme].append(u)\n",
    "                    Q.append(u)"
   ]
  },
  {
   "cell_type": "code",
   "execution_count": 32,
   "metadata": {
    "collapsed": false
   },
   "outputs": [],
   "source": [
    "# themes_ids"
   ]
  },
  {
   "cell_type": "code",
   "execution_count": 33,
   "metadata": {
    "collapsed": false
   },
   "outputs": [],
   "source": [
    "groups = sorted(themes_ids, key=lambda x: -len(x))"
   ]
  },
  {
   "cell_type": "code",
   "execution_count": 34,
   "metadata": {
    "collapsed": false,
    "scrolled": true
   },
   "outputs": [
    {
     "name": "stdout",
     "output_type": "stream",
     "text": [
      "Topic 0\n",
      "Чистая прибыль банка «Россия» выросла на 75% за январь – март http://www.vedomosti.ru/finance/news/2017/04/18/686211-pribil-banka-rossiya\n",
      "Квартальная прибыль «ВТБ 24» выросла в 3,9 раза http://www.vedomosti.ru/finance/news/2017/04/18/686204-pribil-vtb-24\n",
      "Россельхозбанк снизил чистую прибыль в 7,6 раза за I квартал http://www.vedomosti.ru/finance/news/2017/04/18/686207-rosselhozbank-snizil-pribil\n",
      "\n",
      "Topic 1\n",
      "\"Дочка\" Сбербанка может оспорить запрет на использование своих торговых марок на Украине http://tass.ru/ekonomika/4192151\n",
      "Киевский суд лишил Сбербанк доменного имени и запретил использовать торговую марку http://tass.ru/ekonomika/4192017\n",
      "\n",
      "Topic 2\n",
      "Хлебопеки не нуждаются в законодательном запрете на возврат непроданного хлеба http://tass.ru/ekonomika/4191387\n",
      "\"Пятерочка\" уйдет от практики возврата непроданного хлеба производителям  c 1 июня http://tass.ru/ekonomika/4191118\n",
      "\n",
      "Topic 3\n",
      "Греф: бумажные трудовые книжки мешают работодателям и Пенсионному фонду http://tass.ru/ekonomika/4190698\n",
      "Греф раскритиковал бумажные трудовые книжки http://www.vedomosti.ru/finance/news/2017/04/18/686226-gref-trudovie-knizhki\n",
      "\n",
      "Topic 4\n",
      "Сбербанк стал самым дорогим российским брендом http://tass.ru/ekonomika/4190690\n",
      "Сбербанк стал самым дорогим российским брендом – Brand Finance http://www.vedomosti.ru/finance/news/2017/04/18/686217-sberbank-samim-dorogim-brendom\n",
      "\n",
      "Topic 5\n",
      "Издательство \"Просвещение\" Аркадия Ротенберга рассматривает IPO в Лондоне и России http://tass.ru/ekonomika/4190640\n",
      "Издательство «Просвещение» с долей Аркадия Ротенберга готовит IPO в Лондоне и России http://www.vedomosti.ru/business/news/2017/04/18/686212-izdatelstvo-prosveschenie\n",
      "\n",
      "Topic 6\n",
      "Президент Грузии призывает Россию к конструктивному диалогу http://tass.ru/mezhdunarodnaya-panorama/4190194\n",
      "Президент Грузии встревожен действиями российской стороны https://www.gazeta.ru/politics/news/2017/04/18/n_9936959.shtml\n",
      "\n",
      "Topic 7\n",
      "Прокуратура проверит отказ \"Победы\" пустить на борт ребенка с ДЦП http://tass.ru/proisshestviya/4190027\n",
      "Прокуратура проверит отказ авиакомпании «Победа» пустить на борт ребенка с ДЦП https://www.gazeta.ru/social/news/2017/04/18/n_9936731.shtml\n",
      "\n",
      "Topic 8\n",
      "Частица Благодатного огня впервые в истории доставлена в США из России http://tass.ru/obschestvo/4189844\n",
      "Благодатный огонь впервые в истории доставили в США из России https://www.gazeta.ru/social/news/2017/04/18/n_9936491.shtml\n",
      "\n",
      "Topic 9\n",
      "Минобрнауки по итогам конкурсного отбора назвало 22 опорных вуза http://tass.ru/obschestvo/4189779\n",
      "Минобрнауки выбрало еще 22 опорных вуза https://lenta.ru/news/2017/04/18/22plus/\n",
      "\n",
      "Topic 10\n",
      "Медведев подписал документ, направленный на увеличение инвестиций в сферу теплоснабжения http://tass.ru/ekonomika/4189754\n",
      "Медведев подписал постановление об увеличении инвестиций в сферах водоснабжения и тепла https://www.gazeta.ru/business/news/2017/04/18/n_9936269.shtml\n",
      "\n",
      "Topic 11\n",
      "Пентагон начал оценку ядерного потенциала США на предмет соответствия угрозам http://tass.ru/mezhdunarodnaya-panorama/4189640\n",
      "Глава Пентагона поручил оценить ядерный потенциал США http://tass.ru/mezhdunarodnaya-panorama/4189511\n",
      "\n",
      "Topic 12\n",
      "Черчесов: текущий уровень футболиста Кокорина не до конца устраивает штаб сборной РФ http://tass.ru/sport/4189609\n",
      "Черчесов: текущий уровень Кокорина не устраивает штаб сборной России https://www.gazeta.ru/sport/news/2017/04/18/n_9935939.shtml\n",
      "\n",
      "Topic 13\n",
      "Россельхознадзор обеспокоен ростом поставок мяса и масла с Украины http://tass.ru/ekonomika/4189409\n",
      "Россельхознадзор обеспокоен ростом поставок мяса с Украины из-за АЧС https://www.gazeta.ru/business/news/2017/04/17/n_9935129.shtml\n",
      "\n",
      "Topic 14\n",
      "Котировки РБК растут более чем на 8% после новостей о возможной покупке группой ЕСН http://www.vedomosti.ru/technology/news/2017/04/18/686269-kotirovki-rbk-rastut-esn\n",
      "Березкин подтвердил планы купить РБК http://www.vedomosti.ru/technology/news/2017/04/18/686197-berezkin-rbk\n",
      "\n",
      "Topic 15\n",
      "Более 70% региональных дорог Новгородской области не соответствует нормативу – Путин http://www.vedomosti.ru/realty/news/2017/04/18/686246-regionalnih-dorog-ne-sootvetstvuet\n",
      "Путин призвал обратить внимание на состояние дорог в Новгородской области https://www.gazeta.ru/auto/news/2017/04/18/n_9938321.shtml\n",
      "\n",
      "Topic 16\n",
      "Многие работы на «Зенит-арене» потребуют переделки – ФАС http://www.vedomosti.ru/realty/news/2017/04/18/686192-raboti-zenit-arene-potrebuyut-peredelki\n",
      "УФАС: многие работы на стадионе на Крестовском острове потребуют переделки https://www.gazeta.ru/sport/news/2017/04/18/n_9937253.shtml\n",
      "\n",
      "Topic 17\n",
      "Фондовый рынок США открылся падением https://www.gazeta.ru/business/news/2017/04/18/n_9938777.shtml\n",
      "Фондовый рынок США закрылся ростом https://www.gazeta.ru/business/news/2017/04/17/n_9935699.shtml\n",
      "\n",
      "Topic 18\n",
      "Мировые цены на нефть не определились с динамикой https://www.gazeta.ru/business/news/2017/04/18/n_9936377.shtml\n",
      "Мировые цены на нефть снижаются https://www.gazeta.ru/business/news/2017/04/17/n_9935627.shtml\n",
      "\n"
     ]
    }
   ],
   "source": [
    "for i, group in enumerate(groups):\n",
    "    if len(group) < 2:\n",
    "        break\n",
    "    print('Topic', i)\n",
    "    for id_ in group:\n",
    "        print(data.title[id_],data.url[id_])\n",
    "    print()"
   ]
  },
  {
   "cell_type": "code",
   "execution_count": null,
   "metadata": {
    "collapsed": true
   },
   "outputs": [],
   "source": []
  }
 ],
 "metadata": {
  "anaconda-cloud": {},
  "kernelspec": {
   "display_name": "Python [conda root]",
   "language": "python",
   "name": "conda-root-py"
  },
  "language_info": {
   "codemirror_mode": {
    "name": "ipython",
    "version": 3
   },
   "file_extension": ".py",
   "mimetype": "text/x-python",
   "name": "python",
   "nbconvert_exporter": "python",
   "pygments_lexer": "ipython3",
   "version": "3.5.2"
  }
 },
 "nbformat": 4,
 "nbformat_minor": 2
}
