{
 "cells": [
  {
   "cell_type": "code",
   "execution_count": 1,
   "metadata": {
    "collapsed": true
   },
   "outputs": [],
   "source": [
    "import pandas as pd\n",
    "# pd.options.display.max_colwidth = 200\n",
    "\n",
    "import numpy as np\n",
    "from collections import defaultdict\n",
    "\n",
    "import matplotlib\n",
    "import matplotlib.pyplot as plt\n",
    "\n",
    "import seaborn as sns\n",
    "sns.set_style(\"white\")\n",
    "\n",
    "from pymystem3 import Mystem; mystem = Mystem()\n",
    "from functools import lru_cache\n",
    "\n",
    "\n",
    "from tqdm import tqdm\n",
    "tqdm.pandas()\n",
    "\n",
    "%matplotlib inline"
   ]
  },
  {
   "cell_type": "markdown",
   "metadata": {},
   "source": [
    "# Data overview"
   ]
  },
  {
   "cell_type": "code",
   "execution_count": 2,
   "metadata": {
    "collapsed": true
   },
   "outputs": [],
   "source": [
    "data = pd.read_csv('./DATA_MANY_TOPICS.csv')"
   ]
  },
  {
   "cell_type": "code",
   "execution_count": 3,
   "metadata": {},
   "outputs": [
    {
     "data": {
      "text/html": [
       "<div>\n",
       "<table border=\"1\" class=\"dataframe\">\n",
       "  <thead>\n",
       "    <tr style=\"text-align: right;\">\n",
       "      <th></th>\n",
       "      <th>index</th>\n",
       "      <th>text</th>\n",
       "      <th>title</th>\n",
       "      <th>topic</th>\n",
       "      <th>url</th>\n",
       "    </tr>\n",
       "  </thead>\n",
       "  <tbody>\n",
       "    <tr>\n",
       "      <th>26549</th>\n",
       "      <td>26549</td>\n",
       "      <td>\\n\\n        Сделка по продаже 19,5% акций «Рос...</td>\n",
       "      <td>\\n                    Акционеры из BP и члены ...</td>\n",
       "      <td>business</td>\n",
       "      <td>http://www.vedomosti.ru/business/news/2017/01/...</td>\n",
       "    </tr>\n",
       "    <tr>\n",
       "      <th>87627</th>\n",
       "      <td>87627</td>\n",
       "      <td>Российский боксер Денис Лебедев, выступающий в...</td>\n",
       "      <td>Денис Лебедев огласил планы по возвращению на ...</td>\n",
       "      <td>boxing</td>\n",
       "      <td>https://lenta.ru/news/2013/05/29/lebedev/</td>\n",
       "    </tr>\n",
       "    <tr>\n",
       "      <th>137228</th>\n",
       "      <td>137232</td>\n",
       "      <td>Первый матч 1/8 финала Лиги Европы между \"Рост...</td>\n",
       "      <td>Немецкая бригада обслужит матч \"Ростов\" - \"Ман...</td>\n",
       "      <td>football</td>\n",
       "      <td>http://www.sport-express.ru/football/europa-le...</td>\n",
       "    </tr>\n",
       "    <tr>\n",
       "      <th>17361</th>\n",
       "      <td>17361</td>\n",
       "      <td>\\n  Акционеры \"Уралкалия\" на годовом собрании ...</td>\n",
       "      <td>\\n                    \"Уралкалий\" выплатит 11,...</td>\n",
       "      <td>business</td>\n",
       "      <td>http://www.vedomosti.ru/business/news/2014/06/...</td>\n",
       "    </tr>\n",
       "    <tr>\n",
       "      <th>166849</th>\n",
       "      <td>166866</td>\n",
       "      <td>Нападающий московского \"Динамо\" Артем Федоров ...</td>\n",
       "      <td>Артем Федоров: \"В матчах с \"Трактором\" и \"Сала...</td>\n",
       "      <td>hockey</td>\n",
       "      <td>http://www.sport-express.ru/hockey/khl/news/ar...</td>\n",
       "    </tr>\n",
       "  </tbody>\n",
       "</table>\n",
       "</div>"
      ],
      "text/plain": [
       "         index                                               text  \\\n",
       "26549    26549  \\n\\n        Сделка по продаже 19,5% акций «Рос...   \n",
       "87627    87627  Российский боксер Денис Лебедев, выступающий в...   \n",
       "137228  137232  Первый матч 1/8 финала Лиги Европы между \"Рост...   \n",
       "17361    17361  \\n  Акционеры \"Уралкалия\" на годовом собрании ...   \n",
       "166849  166866  Нападающий московского \"Динамо\" Артем Федоров ...   \n",
       "\n",
       "                                                    title     topic  \\\n",
       "26549   \\n                    Акционеры из BP и члены ...  business   \n",
       "87627   Денис Лебедев огласил планы по возвращению на ...    boxing   \n",
       "137228  Немецкая бригада обслужит матч \"Ростов\" - \"Ман...  football   \n",
       "17361   \\n                    \"Уралкалий\" выплатит 11,...  business   \n",
       "166849  Артем Федоров: \"В матчах с \"Трактором\" и \"Сала...    hockey   \n",
       "\n",
       "                                                      url  \n",
       "26549   http://www.vedomosti.ru/business/news/2017/01/...  \n",
       "87627           https://lenta.ru/news/2013/05/29/lebedev/  \n",
       "137228  http://www.sport-express.ru/football/europa-le...  \n",
       "17361   http://www.vedomosti.ru/business/news/2014/06/...  \n",
       "166849  http://www.sport-express.ru/hockey/khl/news/ar...  "
      ]
     },
     "execution_count": 3,
     "metadata": {},
     "output_type": "execute_result"
    }
   ],
   "source": [
    "data.sample(5)"
   ]
  },
  {
   "cell_type": "code",
   "execution_count": 4,
   "metadata": {
    "scrolled": false
   },
   "outputs": [
    {
     "name": "stdout",
     "output_type": "stream",
     "text": [
      "Number of news: 188028\n"
     ]
    }
   ],
   "source": [
    "print('Number of news:', len(data))"
   ]
  },
  {
   "cell_type": "code",
   "execution_count": 5,
   "metadata": {},
   "outputs": [
    {
     "name": "stdout",
     "output_type": "stream",
     "text": [
      "Number of topics: 32\n"
     ]
    }
   ],
   "source": [
    "print('Number of topics:', data.topic.nunique())"
   ]
  },
  {
   "cell_type": "code",
   "execution_count": 6,
   "metadata": {
    "collapsed": true
   },
   "outputs": [],
   "source": [
    "data = data[~((data.topic == 'forces') & (data.url.str.contains('https://www.gazeta.ru/')))]"
   ]
  },
  {
   "cell_type": "code",
   "execution_count": 7,
   "metadata": {},
   "outputs": [
    {
     "data": {
      "text/plain": [
       "football           31993\n",
       "business           28022\n",
       "politics           22849\n",
       "hockey             11400\n",
       "technologies        7097\n",
       "films               6592\n",
       "science             5558\n",
       "crime               5308\n",
       "internet            5067\n",
       "realty              4878\n",
       "basketball          4480\n",
       "judiciary           4165\n",
       "weapons             4120\n",
       "forces              3993\n",
       "music               3809\n",
       "tennis              3571\n",
       "auto                3453\n",
       "companies           3316\n",
       "cosmos              2732\n",
       "boxing              2512\n",
       "economics           2426\n",
       "biathlon            2235\n",
       "social-networks     2039\n",
       "cybersport          1835\n",
       "formula1            1433\n",
       "animals             1225\n",
       "books                939\n",
       "religion             903\n",
       "theatre              882\n",
       "skiing               696\n",
       "volleyball           528\n",
       "chess                473\n",
       "Name: topic, dtype: int64"
      ]
     },
     "execution_count": 7,
     "metadata": {},
     "output_type": "execute_result"
    }
   ],
   "source": [
    "data.topic.value_counts()"
   ]
  },
  {
   "cell_type": "code",
   "execution_count": 8,
   "metadata": {
    "collapsed": true
   },
   "outputs": [],
   "source": [
    "class Pipeline(object):\n",
    "    def __init__(self, *args):\n",
    "        self.transformations = args\n",
    "    def __call__(self, x):\n",
    "        res = x\n",
    "        for f in self.transformations:\n",
    "            res = f(res)\n",
    "        return res"
   ]
  },
  {
   "cell_type": "code",
   "execution_count": 9,
   "metadata": {
    "collapsed": true
   },
   "outputs": [],
   "source": [
    "from nltk.corpus import stopwords\n",
    "from stop_words import get_stop_words\n",
    "en_sw = get_stop_words('en')\n",
    "ru_sw = get_stop_words('ru')\n",
    "STOP_WORDS = set(en_sw) | set(ru_sw)\n",
    "STOP_WORDS = STOP_WORDS | set(stopwords.words('russian')) | set(stopwords.words('english'))\n",
    "STOP_WORDS = STOP_WORDS | set(['лента', 'новость', 'риа', 'тасс',\n",
    "                               'редакция', 'газета', 'корра', 'daily',\n",
    "                               'village', 'интерфакс', 'reuters'])\n",
    "\n",
    "def remove_ria(text):\n",
    "    prefix = text[:50]\n",
    "    ria = 'РИА Новости'\n",
    "    if ria in prefix:\n",
    "        text = text[text.find(ria)+len(ria)+1:]\n",
    "    return text\n",
    "\n",
    "def remove_tass(text):\n",
    "    prefix = text[:100]\n",
    "    return text[max(0, prefix.find('/.')+1):]\n",
    "\n",
    "def get_lower(text):\n",
    "    return str(text).lower().strip()\n",
    "\n",
    "def remove_punctuation(text):\n",
    "    return ''.join([c if c.isalpha() or c in ['-',\"'\"] else ' ' for c in text])\n",
    "\n",
    "@lru_cache(maxsize=None)\n",
    "def get_word_normal_form(word):\n",
    "    return ''.join(mystem.lemmatize(word)).strip().replace('ё', 'е').strip('-')\n",
    "\n",
    "def lemmatize_words(text):\n",
    "    res = []\n",
    "    for word in text.split():\n",
    "        norm_form = get_word_normal_form(word)\n",
    "        if len(norm_form) > 2 and norm_form not in STOP_WORDS:\n",
    "            res.append(norm_form)\n",
    "    return ' '.join(res)"
   ]
  },
  {
   "cell_type": "code",
   "execution_count": 10,
   "metadata": {
    "collapsed": true
   },
   "outputs": [],
   "source": [
    "TEXT_PIPELINE = Pipeline(remove_tass, remove_ria, get_lower, remove_punctuation, lemmatize_words)"
   ]
  },
  {
   "cell_type": "code",
   "execution_count": 11,
   "metadata": {},
   "outputs": [
    {
     "name": "stderr",
     "output_type": "stream",
     "text": [
      "100%|██████████| 180529/180529 [01:19<00:00, 2273.59it/s]\n"
     ]
    },
    {
     "name": "stdout",
     "output_type": "stream",
     "text": [
      "CPU times: user 57.8 s, sys: 2.79 s, total: 1min\n",
      "Wall time: 1min 19s\n"
     ]
    }
   ],
   "source": [
    "%%time\n",
    "data.text = data.text.progress_apply(TEXT_PIPELINE)"
   ]
  },
  {
   "cell_type": "code",
   "execution_count": 12,
   "metadata": {},
   "outputs": [
    {
     "name": "stderr",
     "output_type": "stream",
     "text": [
      "100%|██████████| 180529/180529 [00:03<00:00, 48694.74it/s]\n"
     ]
    },
    {
     "name": "stdout",
     "output_type": "stream",
     "text": [
      "CPU times: user 3.39 s, sys: 48 ms, total: 3.44 s\n",
      "Wall time: 3.72 s\n"
     ]
    }
   ],
   "source": [
    "%%time\n",
    "data.title = data.title.progress_apply(TEXT_PIPELINE)"
   ]
  },
  {
   "cell_type": "code",
   "execution_count": 13,
   "metadata": {},
   "outputs": [
    {
     "name": "stdout",
     "output_type": "stream",
     "text": [
      "Unique words in dataset: 246038\n"
     ]
    }
   ],
   "source": [
    "vocabulary = defaultdict(int)\n",
    "for news in data.itertuples():\n",
    "    for word in news.text.split():\n",
    "        vocabulary[word] += 1\n",
    "print('Unique words in dataset:', len(vocabulary))"
   ]
  },
  {
   "cell_type": "code",
   "execution_count": 14,
   "metadata": {
    "scrolled": false
   },
   "outputs": [
    {
     "name": "stdout",
     "output_type": "stream",
     "text": [
      "Number of words occured more than 2 times: 144456\n"
     ]
    }
   ],
   "source": [
    "n_min_occurance = 2\n",
    "print('Number of words occured more than %d times: %d' % \n",
    "      (n_min_occurance, len(list(filter(lambda x: x[1] >= n_min_occurance, vocabulary.items())))))"
   ]
  },
  {
   "cell_type": "code",
   "execution_count": 15,
   "metadata": {
    "scrolled": true
   },
   "outputs": [
    {
     "name": "stdout",
     "output_type": "stream",
     "text": [
      "Top 25 most frequent words:\n",
      "1 россия 127360\n",
      "2 компания 109475\n",
      "3 сообщать 102989\n",
      "4 свой 85740\n",
      "5 российский 68955\n",
      "6 становиться 64901\n",
      "7 матч 64332\n",
      "8 слово 60927\n",
      "9 заявлять 59660\n",
      "10 отмечать 55122\n",
      "11 команда 50941\n",
      "12 млрд 50432\n",
      "13 страна 49104\n",
      "14 президент 48788\n",
      "15 получать 48404\n",
      "16 сша 47990\n",
      "17 новый 46498\n",
      "18 млн 42251\n",
      "19 ранее 41067\n",
      "20 руб 39573\n",
      "21 чемпионат 38149\n",
      "22 данный 37871\n",
      "23 москва 37448\n",
      "24 представитель 37279\n",
      "25 составлять 36976\n"
     ]
    }
   ],
   "source": [
    "top_k = 25\n",
    "print('Top %d most frequent words:' % top_k)\n",
    "for i, (word, freq) in enumerate(sorted(vocabulary.items(), key=lambda x: -x[1])[:top_k]):\n",
    "    print(i+1, word, freq)"
   ]
  },
  {
   "cell_type": "markdown",
   "metadata": {},
   "source": [
    "## Undersampling"
   ]
  },
  {
   "cell_type": "code",
   "execution_count": 16,
   "metadata": {},
   "outputs": [],
   "source": [
    "data.drop(data[data.topic == 'football'].sample(20000).index, inplace=True)\n",
    "data.drop(data[data.topic == 'business'].sample(18000).index, inplace=True)\n",
    "data.drop(data[data.topic == 'politics'].sample(11000).index, inplace=True)"
   ]
  },
  {
   "cell_type": "code",
   "execution_count": 24,
   "metadata": {},
   "outputs": [
    {
     "data": {
      "text/plain": [
       "football           9.118141\n",
       "politics           9.008660\n",
       "hockey             8.667290\n",
       "business           7.619612\n",
       "technologies       5.395768\n",
       "films              5.011822\n",
       "science            4.225684\n",
       "crime              4.035612\n",
       "internet           3.852382\n",
       "realty             3.708688\n",
       "basketball         3.406093\n",
       "judiciary          3.166602\n",
       "weapons            3.132389\n",
       "forces             3.035832\n",
       "music              2.895939\n",
       "tennis             2.714991\n",
       "auto               2.625277\n",
       "companies          2.521117\n",
       "cosmos             2.077108\n",
       "boxing             1.909845\n",
       "economics          1.844460\n",
       "biathlon           1.699245\n",
       "social-networks    1.550228\n",
       "cybersport         1.395130\n",
       "formula1           1.089494\n",
       "animals            0.931354\n",
       "books              0.713911\n",
       "religion           0.686541\n",
       "theatre            0.670575\n",
       "skiing             0.529161\n",
       "volleyball         0.401432\n",
       "chess              0.359617\n",
       "Name: topic, dtype: float64"
      ]
     },
     "execution_count": 24,
     "metadata": {},
     "output_type": "execute_result"
    }
   ],
   "source": [
    "data.topic.value_counts(normalize=True)*100"
   ]
  },
  {
   "cell_type": "code",
   "execution_count": 21,
   "metadata": {},
   "outputs": [
    {
     "data": {
      "image/png": "[encoded data removed]",
      "text/plain": [
       "<matplotlib.figure.Figure at 0x7fb453ac10f0>"
      ]
     },
     "metadata": {},
     "output_type": "display_data"
    }
   ],
   "source": [
    "topics_freq = data.topic.value_counts(normalize=True, ascending=True)*100\n",
    "plt.figure(figsize=(14,10))\n",
    "plt.barh(range(len(topics_freq)), topics_freq.values)\n",
    "plt.yticks(range(len(topics_freq)), topics_freq.index);\n",
    "plt.xticks(np.arange(0, 11, 2));\n",
    "plt.xlabel('%')\n",
    "plt.grid(True)\n",
    "plt.title('Частоты тем в датасете');"
   ]
  },
  {
   "cell_type": "markdown",
   "metadata": {},
   "source": [
    "# Baseline"
   ]
  },
  {
   "cell_type": "code",
   "execution_count": 25,
   "metadata": {
    "collapsed": true
   },
   "outputs": [],
   "source": [
    "from sklearn.preprocessing import LabelEncoder\n",
    "from sklearn.feature_extraction.text import TfidfVectorizer\n",
    "from sklearn.model_selection import train_test_split, cross_val_score\n",
    "from sklearn.linear_model import LogisticRegression, SGDClassifier\n",
    "from sklearn.metrics import accuracy_score, f1_score, confusion_matrix, make_scorer\n",
    "from sklearn.svm import LinearSVC\n",
    "\n",
    "from scipy.sparse import hstack"
   ]
  },
  {
   "cell_type": "markdown",
   "metadata": {},
   "source": [
    "## Закодируем целевую переменную"
   ]
  },
  {
   "cell_type": "code",
   "execution_count": 26,
   "metadata": {
    "collapsed": true
   },
   "outputs": [],
   "source": [
    "le = LabelEncoder()\n",
    "data.topic = le.fit_transform(data.topic)"
   ]
  },
  {
   "cell_type": "markdown",
   "metadata": {},
   "source": [
    "## Разделим данные на train и validation"
   ]
  },
  {
   "cell_type": "code",
   "execution_count": 27,
   "metadata": {
    "collapsed": true
   },
   "outputs": [],
   "source": [
    "trainX = data.title + ' ' + data.text\n",
    "trainX = np.swapaxes(np.vstack([trainX.values, data.url.values]), 0, 1)\n",
    "trainY = data.topic.values"
   ]
  },
  {
   "cell_type": "code",
   "execution_count": 28,
   "metadata": {
    "collapsed": true
   },
   "outputs": [],
   "source": [
    "X_train, X_test, y_train, y_test = train_test_split(trainX, trainY, test_size=0.5, stratify=trainY, random_state=42)"
   ]
  },
  {
   "cell_type": "markdown",
   "metadata": {},
   "source": [
    "## Вычислим tf-idf"
   ]
  },
  {
   "cell_type": "code",
   "execution_count": 29,
   "metadata": {
    "scrolled": true
   },
   "outputs": [
    {
     "name": "stdout",
     "output_type": "stream",
     "text": [
      "CPU times: user 1min, sys: 488 ms, total: 1min\n",
      "Wall time: 1min\n"
     ]
    }
   ],
   "source": [
    "%%time\n",
    "tfidf_vectorizer = TfidfVectorizer(min_df=5, ngram_range=(1,2), lowercase=False).fit(trainX[:,0])"
   ]
  },
  {
   "cell_type": "code",
   "execution_count": 30,
   "metadata": {},
   "outputs": [
    {
     "data": {
      "text/plain": [
       "512045"
      ]
     },
     "execution_count": 30,
     "metadata": {},
     "output_type": "execute_result"
    }
   ],
   "source": [
    "len(tfidf_vectorizer.vocabulary_)"
   ]
  },
  {
   "cell_type": "code",
   "execution_count": 31,
   "metadata": {
    "collapsed": true
   },
   "outputs": [],
   "source": [
    "X_train_tf = tfidf_vectorizer.transform(X_train[:,0])\n",
    "X_test_tf = tfidf_vectorizer.transform(X_test[:,0])"
   ]
  },
  {
   "cell_type": "markdown",
   "metadata": {},
   "source": [
    "## Обучим SVM"
   ]
  },
  {
   "cell_type": "code",
   "execution_count": 48,
   "metadata": {
    "collapsed": true
   },
   "outputs": [],
   "source": [
    "# clf = LinearSVC(C=1, max_iter=10000, loss='hinge', random_state=42)\n",
    "clf = SGDClassifier(loss='hinge', n_iter=50, random_state=42, n_jobs=8, alpha=1e-5)"
   ]
  },
  {
   "cell_type": "code",
   "execution_count": 49,
   "metadata": {
    "scrolled": true
   },
   "outputs": [
    {
     "name": "stdout",
     "output_type": "stream",
     "text": [
      "F1 score: 0.885214515859\n",
      "Accuracy: 0.884543450163\n",
      "CPU times: user 3min 14s, sys: 40 ms, total: 3min 14s\n",
      "Wall time: 49.3 s\n"
     ]
    }
   ],
   "source": [
    "%%time\n",
    "clf.fit(X_train_tf, y_train)\n",
    "clf_prediciton = clf.predict(X_test_tf)\n",
    "print('F1 score:', f1_score(y_test, clf_prediciton, average='macro'))\n",
    "print('Accuracy:', accuracy_score(y_test, clf_prediciton))\n",
    "\n",
    "# F1 score: 0.88541391699\n",
    "# Accuracy: 0.883859195621"
   ]
  },
  {
   "cell_type": "markdown",
   "metadata": {},
   "source": [
    "## Построим нормализованную матрицу потерь"
   ]
  },
  {
   "cell_type": "code",
   "execution_count": 50,
   "metadata": {
    "collapsed": true
   },
   "outputs": [],
   "source": [
    "cm = confusion_matrix(y_test, clf_prediciton)\n",
    "cm_normalized = cm / cm.sum(axis=1)[:, np.newaxis]"
   ]
  },
  {
   "cell_type": "code",
   "execution_count": 51,
   "metadata": {
    "collapsed": true
   },
   "outputs": [],
   "source": [
    "classes = [c for c in le.classes_]\n",
    "df_cm = pd.DataFrame(np.round(cm_normalized, 2), columns=classes, index=classes)"
   ]
  },
  {
   "cell_type": "code",
   "execution_count": 52,
   "metadata": {
    "scrolled": false
   },
   "outputs": [
    {
     "data": {
      "image/png": "[encoded data removed]",
      "text/plain": [
       "<matplotlib.figure.Figure at 0x7fb3f31c3400>"
      ]
     },
     "metadata": {},
     "output_type": "display_data"
    }
   ],
   "source": [
    "sns.set_context(\"notebook\", font_scale=1.4);\n",
    "plt.figure(figsize=(20, 20))\n",
    "ax = sns.heatmap(df_cm, annot=True, linewidths=.5, fmt='g', cbar=False, square=True, annot_kws={\"size\": 10});\n",
    "ax.xaxis.tick_top()\n",
    "ax.set_xticklabels(ax.xaxis.get_majorticklabels(), rotation=90);"
   ]
  },
  {
   "cell_type": "code",
   "execution_count": 53,
   "metadata": {},
   "outputs": [],
   "source": [
    "class_scores = {}\n",
    "for i in range(cm_normalized.shape[0]):\n",
    "    class_scores[classes[i]] = cm_normalized[i,i]"
   ]
  },
  {
   "cell_type": "code",
   "execution_count": 54,
   "metadata": {
    "scrolled": false
   },
   "outputs": [
    {
     "data": {
      "image/png": "[encoded data removed]",
      "text/plain": [
       "<matplotlib.figure.Figure at 0x7fb436bb10f0>"
      ]
     },
     "metadata": {},
     "output_type": "display_data"
    }
   ],
   "source": [
    "topics = []\n",
    "scores = []\n",
    "for topic, score in sorted(class_scores.items(), key=lambda x: x[1]):\n",
    "    topics.append(topic)\n",
    "    scores.append(score)\n",
    "plt.figure(figsize=(16,12))\n",
    "plt.barh(range(len(topics)), scores)\n",
    "plt.yticks(range(len(topics)), topics);\n",
    "plt.xticks(np.arange(0, 1.001, 0.1));\n",
    "plt.grid(True)\n",
    "plt.title('Accuracy per class');"
   ]
  },
  {
   "cell_type": "markdown",
   "metadata": {},
   "source": [
    "## Посмотрим на ошибки классификации"
   ]
  },
  {
   "cell_type": "code",
   "execution_count": 55,
   "metadata": {
    "scrolled": true
   },
   "outputs": [
    {
     "name": "stdout",
     "output_type": "stream",
     "text": [
      "http://www.vedomosti.ru/technology/articles/2015/01/13/schetnaya-palata-podschitala-tehnoparki\n",
      "http://www.vedomosti.ru/technology/articles/2010/07/30/rosreestr-sozdaet-cifrovuyu-kartu-nedvizhimosti-rossii\n",
      "http://www.vedomosti.ru/technology/news/2011/11/24/ceul_priznan_samym_umnym_gorodom_mira\n",
      "https://lenta.ru/news/2015/12/01/kingdomtower/\n",
      "http://www.vedomosti.ru/technology/news/2013/02/26/na_kosmodrome_vostochnyj_stroitelstvo_ostavshihsya_obektov\n",
      "http://www.vedomosti.ru/technology/news/2011/08/22/yandeks_mozhet_postroit_v_tulskoj_oblasti_centr_obrabotki\n",
      "http://www.vedomosti.ru/technology/articles/2013/04/22/des_moines_register_facebook_postroit_novyj\n",
      "http://www.vedomosti.ru/technology/news/2013/04/12/putin_predlozhit_nazvat_v_chest_ciolkovskogo_gorod_u\n",
      "http://www.vedomosti.ru/technology/news/2012/08/21/shojgu-raskritikoval-kachestvo-sotovoj-svyazi-v-podmoskove\n",
      "http://www.vedomosti.ru/technology/news/2013/01/17/v_kazhdoj_moskovskoj_shkole_poyavyatsya_16_kamer\n",
      "http://www.vedomosti.ru/technology/news/2011/09/21/moskva_budet_ispolzovat_reagenty_novogo_pokoleniya\n",
      "http://www.vedomosti.ru/technology/news/2012/07/11/sobyanin_rasporyadilsya_perevesti_vse_upravy_moskvy_na\n",
      "http://www.vedomosti.ru/technology/news/2013/04/04/pervyj_obekt_kosmodroma_vostochnyj_obeschayut_sdat_v_mae\n",
      "http://www.vedomosti.ru/technology/news/2014/03/20/60-regionov-poluchili-12-mlrd-rub-iz-byudzheta-na\n",
      "http://www.vedomosti.ru/technology/news/2016/01/12/623664-kitaiskii-kupil\n",
      "http://www.vedomosti.ru/technology/news/2012/01/23/zhiteli_yuga_i_yugovostoka_moskvy_chasche_vsego_zhaluyutsya\n",
      "http://www.vedomosti.ru/technology/articles/2012/02/21/s_sentyabrya_2012_g_v_nekotoryh_shkolah_moskvy_sobirayutsya\n",
      "https://lenta.ru/news/2016/11/04/road/\n",
      "http://www.vedomosti.ru/technology/news/2015/02/27/gosduma-prinyala-zakon-o-zaprete-reklami-na-pamyatnikah-kulturi\n",
      "http://www.vedomosti.ru/technology/news/2016/12/05/668101-torgovlyu-pressoi-metro\n",
      "http://www.vedomosti.ru/technology/news/2011/03/10/sobyanin_predlozhil_osnaschat_wifi_vse_novye_shkoly_moskvy\n",
      "http://www.vedomosti.ru/technology/articles/2012/10/03/nokia_prodaet_shtabkvartiru\n",
      "http://www.vedomosti.ru/technology/articles/2014/12/09/reanimaciya-tehnoparka\n",
      "http://www.vedomosti.ru/technology/news/2011/11/17/bespilotnye_poezda_mogut_poyavitsya_v_moskovskom_metro\n",
      "http://www.vedomosti.ru/technology/news/2017/03/01/679472-tesla-predstavitelstvo-rossii\n",
      "https://lenta.ru/news/2015/12/23/robot/\n"
     ]
    }
   ],
   "source": [
    "for i, (true, pred) in enumerate(zip(y_test, clf_prediciton)):\n",
    "    if true == le.transform(['technologies'])[0] and pred == le.transform(['realty'])[0]:\n",
    "        print(X_test[i][1])"
   ]
  },
  {
   "cell_type": "markdown",
   "metadata": {},
   "source": [
    "## Выведем слова с максимальным весом внутри каждого класса"
   ]
  },
  {
   "cell_type": "code",
   "execution_count": 56,
   "metadata": {
    "collapsed": true
   },
   "outputs": [],
   "source": [
    "def print_top_K(vectorizer, clf, class_labels, k=10):\n",
    "    \"\"\"Prints features with the highest coefficient values, per class\"\"\"\n",
    "    feature_names = vectorizer.get_feature_names()\n",
    "    top_words = []\n",
    "    for i, class_label in enumerate(class_labels):\n",
    "        top_K = np.argsort(clf.coef_[i])[-k:]\n",
    "        top_words.append([feature_names[j] for j in top_K])\n",
    "#         print('%s: %s' % (class_label, ' '.join(feature_names[j] for j in top_K)))\n",
    "    return pd.DataFrame(top_words, index=class_labels)"
   ]
  },
  {
   "cell_type": "code",
   "execution_count": 57,
   "metadata": {
    "scrolled": true
   },
   "outputs": [
    {
     "data": {
      "text/html": [
       "<div>\n",
       "<table border=\"1\" class=\"dataframe\">\n",
       "  <thead>\n",
       "    <tr style=\"text-align: right;\">\n",
       "      <th></th>\n",
       "      <th>0</th>\n",
       "      <th>1</th>\n",
       "      <th>2</th>\n",
       "      <th>3</th>\n",
       "      <th>4</th>\n",
       "      <th>5</th>\n",
       "      <th>6</th>\n",
       "      <th>7</th>\n",
       "      <th>8</th>\n",
       "      <th>9</th>\n",
       "    </tr>\n",
       "  </thead>\n",
       "  <tbody>\n",
       "    <tr>\n",
       "      <th>animals</th>\n",
       "      <td>котенок</td>\n",
       "      <td>крокодил</td>\n",
       "      <td>медведь</td>\n",
       "      <td>пес</td>\n",
       "      <td>вольер</td>\n",
       "      <td>питомец</td>\n",
       "      <td>животный</td>\n",
       "      <td>зоопарк</td>\n",
       "      <td>животное</td>\n",
       "      <td>кличка</td>\n",
       "    </tr>\n",
       "    <tr>\n",
       "      <th>auto</th>\n",
       "      <td>техосмотр</td>\n",
       "      <td>группа газ</td>\n",
       "      <td>пробка</td>\n",
       "      <td>авторынок</td>\n",
       "      <td>автозавод</td>\n",
       "      <td>автопром</td>\n",
       "      <td>автопроизводитель</td>\n",
       "      <td>камаз</td>\n",
       "      <td>автоваз</td>\n",
       "      <td>автомобиль</td>\n",
       "    </tr>\n",
       "    <tr>\n",
       "      <th>basketball</th>\n",
       "      <td>рфб</td>\n",
       "      <td>единый лига</td>\n",
       "      <td>евробаскет</td>\n",
       "      <td>баскетбольный</td>\n",
       "      <td>центровой</td>\n",
       "      <td>кубок европа</td>\n",
       "      <td>баскетбол</td>\n",
       "      <td>баскетболист</td>\n",
       "      <td>евролига</td>\n",
       "      <td>нба</td>\n",
       "    </tr>\n",
       "    <tr>\n",
       "      <th>biathlon</th>\n",
       "      <td>эстафета</td>\n",
       "      <td>касперович</td>\n",
       "      <td>домрачева</td>\n",
       "      <td>биатлонистка</td>\n",
       "      <td>сбр</td>\n",
       "      <td>шипулин</td>\n",
       "      <td>хохфильцен</td>\n",
       "      <td>биатлон</td>\n",
       "      <td>ibu</td>\n",
       "      <td>биатлонист</td>\n",
       "    </tr>\n",
       "    <tr>\n",
       "      <th>books</th>\n",
       "      <td>писательница</td>\n",
       "      <td>произведение</td>\n",
       "      <td>издательство</td>\n",
       "      <td>книжный</td>\n",
       "      <td>роман</td>\n",
       "      <td>комикс</td>\n",
       "      <td>литературный</td>\n",
       "      <td>поэт</td>\n",
       "      <td>книга</td>\n",
       "      <td>писатель</td>\n",
       "    </tr>\n",
       "    <tr>\n",
       "      <th>boxing</th>\n",
       "      <td>мма</td>\n",
       "      <td>алоян</td>\n",
       "      <td>боец</td>\n",
       "      <td>ринг</td>\n",
       "      <td>лебзяк</td>\n",
       "      <td>поветкин</td>\n",
       "      <td>поединок</td>\n",
       "      <td>бой</td>\n",
       "      <td>бокс</td>\n",
       "      <td>боксер</td>\n",
       "    </tr>\n",
       "    <tr>\n",
       "      <th>business</th>\n",
       "      <td>авиакомпания</td>\n",
       "      <td>алроса</td>\n",
       "      <td>россия футбол</td>\n",
       "      <td>оао</td>\n",
       "      <td>rusal</td>\n",
       "      <td>fifa</td>\n",
       "      <td>ржд</td>\n",
       "      <td>formula</td>\n",
       "      <td>ритейлер</td>\n",
       "      <td>туроператор</td>\n",
       "    </tr>\n",
       "    <tr>\n",
       "      <th>chess</th>\n",
       "      <td>кирсан</td>\n",
       "      <td>шахматы</td>\n",
       "      <td>костенюк</td>\n",
       "      <td>магнус</td>\n",
       "      <td>карлсен</td>\n",
       "      <td>гроссмейстер</td>\n",
       "      <td>шахматный</td>\n",
       "      <td>фид</td>\n",
       "      <td>карякин</td>\n",
       "      <td>илюмжинов</td>\n",
       "    </tr>\n",
       "    <tr>\n",
       "      <th>companies</th>\n",
       "      <td>миллиард кубометр</td>\n",
       "      <td>миллиард</td>\n",
       "      <td>тысяча автомобиль</td>\n",
       "      <td>компания</td>\n",
       "      <td>кубометр</td>\n",
       "      <td>миллион тонна</td>\n",
       "      <td>процент акция</td>\n",
       "      <td>тысяча</td>\n",
       "      <td>ретейлер</td>\n",
       "      <td>процент</td>\n",
       "    </tr>\n",
       "    <tr>\n",
       "      <th>cosmos</th>\n",
       "      <td>астрофизик</td>\n",
       "      <td>солнечный</td>\n",
       "      <td>международный космический</td>\n",
       "      <td>миссия</td>\n",
       "      <td>спутник</td>\n",
       "      <td>мкс</td>\n",
       "      <td>космонавт</td>\n",
       "      <td>вселенная</td>\n",
       "      <td>астронавт</td>\n",
       "      <td>марс</td>\n",
       "    </tr>\n",
       "    <tr>\n",
       "      <th>crime</th>\n",
       "      <td>приговаривать</td>\n",
       "      <td>группировка</td>\n",
       "      <td>преступник</td>\n",
       "      <td>неизвестный</td>\n",
       "      <td>террористический</td>\n",
       "      <td>изымать</td>\n",
       "      <td>убивать</td>\n",
       "      <td>летний</td>\n",
       "      <td>полиция</td>\n",
       "      <td>тюрьма</td>\n",
       "    </tr>\n",
       "    <tr>\n",
       "      <th>cybersport</th>\n",
       "      <td>league</td>\n",
       "      <td>valve</td>\n",
       "      <td>gaming</td>\n",
       "      <td>team</td>\n",
       "      <td>коллектив</td>\n",
       "      <td>dota</td>\n",
       "      <td>киберфутбол</td>\n",
       "      <td>киберспорт</td>\n",
       "      <td>киберспортивный</td>\n",
       "      <td>киберспортсмен</td>\n",
       "    </tr>\n",
       "    <tr>\n",
       "      <th>economics</th>\n",
       "      <td>резерв</td>\n",
       "      <td>греция</td>\n",
       "      <td>зст</td>\n",
       "      <td>млрд</td>\n",
       "      <td>европейский союз</td>\n",
       "      <td>бюджет</td>\n",
       "      <td>ввп</td>\n",
       "      <td>экономика</td>\n",
       "      <td>инфляция</td>\n",
       "      <td>платон</td>\n",
       "    </tr>\n",
       "    <tr>\n",
       "      <th>films</th>\n",
       "      <td>сценарий</td>\n",
       "      <td>сниматься</td>\n",
       "      <td>мультфильм</td>\n",
       "      <td>актриса</td>\n",
       "      <td>кино</td>\n",
       "      <td>сериал</td>\n",
       "      <td>режиссер</td>\n",
       "      <td>картина</td>\n",
       "      <td>актер</td>\n",
       "      <td>фильм</td>\n",
       "    </tr>\n",
       "    <tr>\n",
       "      <th>football</th>\n",
       "      <td>тур</td>\n",
       "      <td>фнл</td>\n",
       "      <td>euro</td>\n",
       "      <td>рфс</td>\n",
       "      <td>стадион</td>\n",
       "      <td>футбол</td>\n",
       "      <td>уефа</td>\n",
       "      <td>фифа</td>\n",
       "      <td>футболист</td>\n",
       "      <td>полузащитник</td>\n",
       "    </tr>\n",
       "    <tr>\n",
       "      <th>forces</th>\n",
       "      <td>шойгу</td>\n",
       "      <td>флот</td>\n",
       "      <td>выполнение</td>\n",
       "      <td>военный</td>\n",
       "      <td>тыс</td>\n",
       "      <td>развертывать</td>\n",
       "      <td>генштаб</td>\n",
       "      <td>военнослужащий</td>\n",
       "      <td>конашенков</td>\n",
       "      <td>минобороны</td>\n",
       "    </tr>\n",
       "    <tr>\n",
       "      <th>formula1</th>\n",
       "      <td>заубер</td>\n",
       "      <td>autosport</td>\n",
       "      <td>манор</td>\n",
       "      <td>цитировать</td>\n",
       "      <td>рено</td>\n",
       "      <td>макларен</td>\n",
       "      <td>феррари</td>\n",
       "      <td>пилот</td>\n",
       "      <td>мерседес</td>\n",
       "      <td>формула</td>\n",
       "    </tr>\n",
       "    <tr>\n",
       "      <th>hockey</th>\n",
       "      <td>авангард</td>\n",
       "      <td>барс</td>\n",
       "      <td>автомобилист</td>\n",
       "      <td>шайба</td>\n",
       "      <td>нападающий</td>\n",
       "      <td>ска</td>\n",
       "      <td>хоккей</td>\n",
       "      <td>хоккеист</td>\n",
       "      <td>нхл</td>\n",
       "      <td>кхл</td>\n",
       "    </tr>\n",
       "    <tr>\n",
       "      <th>internet</th>\n",
       "      <td>ролик</td>\n",
       "      <td>сервис</td>\n",
       "      <td>reddit</td>\n",
       "      <td>объявление</td>\n",
       "      <td>блогер</td>\n",
       "      <td>википедия</td>\n",
       "      <td>youtube</td>\n",
       "      <td>хакер</td>\n",
       "      <td>сайт</td>\n",
       "      <td>интернет</td>\n",
       "    </tr>\n",
       "    <tr>\n",
       "      <th>judiciary</th>\n",
       "      <td>дело факт</td>\n",
       "      <td>начинать проверка</td>\n",
       "      <td>статья</td>\n",
       "      <td>колония</td>\n",
       "      <td>обвиняемый</td>\n",
       "      <td>скр</td>\n",
       "      <td>комитет россия</td>\n",
       "      <td>суд</td>\n",
       "      <td>следственный комитет</td>\n",
       "      <td>следствие</td>\n",
       "    </tr>\n",
       "    <tr>\n",
       "      <th>music</th>\n",
       "      <td>группа</td>\n",
       "      <td>рэпер</td>\n",
       "      <td>евровидение</td>\n",
       "      <td>композитор</td>\n",
       "      <td>концерт</td>\n",
       "      <td>альбом</td>\n",
       "      <td>песня</td>\n",
       "      <td>певец</td>\n",
       "      <td>певица</td>\n",
       "      <td>музыкант</td>\n",
       "    </tr>\n",
       "    <tr>\n",
       "      <th>politics</th>\n",
       "      <td>мид</td>\n",
       "      <td>губернатор</td>\n",
       "      <td>кандидат</td>\n",
       "      <td>евросоюз</td>\n",
       "      <td>парламентарий</td>\n",
       "      <td>кремль</td>\n",
       "      <td>партия</td>\n",
       "      <td>госдума</td>\n",
       "      <td>депутат</td>\n",
       "      <td>глава</td>\n",
       "    </tr>\n",
       "    <tr>\n",
       "      <th>realty</th>\n",
       "      <td>лср</td>\n",
       "      <td>москва</td>\n",
       "      <td>строительство</td>\n",
       "      <td>ипотечный</td>\n",
       "      <td>жилищный</td>\n",
       "      <td>строительный</td>\n",
       "      <td>ипотека</td>\n",
       "      <td>жкх</td>\n",
       "      <td>жилье</td>\n",
       "      <td>недвижимость</td>\n",
       "    </tr>\n",
       "    <tr>\n",
       "      <th>religion</th>\n",
       "      <td>епископ</td>\n",
       "      <td>монастырь</td>\n",
       "      <td>христиан</td>\n",
       "      <td>митрополит</td>\n",
       "      <td>церковь</td>\n",
       "      <td>православный</td>\n",
       "      <td>храм</td>\n",
       "      <td>религия</td>\n",
       "      <td>святой</td>\n",
       "      <td>патриарх</td>\n",
       "    </tr>\n",
       "    <tr>\n",
       "      <th>science</th>\n",
       "      <td>исследование</td>\n",
       "      <td>физик</td>\n",
       "      <td>наука</td>\n",
       "      <td>университет</td>\n",
       "      <td>биолог</td>\n",
       "      <td>математик</td>\n",
       "      <td>научный</td>\n",
       "      <td>археолог</td>\n",
       "      <td>исследователь</td>\n",
       "      <td>ученый</td>\n",
       "    </tr>\n",
       "    <tr>\n",
       "      <th>skiing</th>\n",
       "      <td>нортуг</td>\n",
       "      <td>сергей устюгов</td>\n",
       "      <td>вяльбе</td>\n",
       "      <td>сундбю</td>\n",
       "      <td>легков</td>\n",
       "      <td>йохауг</td>\n",
       "      <td>fis</td>\n",
       "      <td>лыжник</td>\n",
       "      <td>лахти</td>\n",
       "      <td>устюгов</td>\n",
       "    </tr>\n",
       "    <tr>\n",
       "      <th>social-networks</th>\n",
       "      <td>сеть</td>\n",
       "      <td>пользователь социальный</td>\n",
       "      <td>некоторые</td>\n",
       "      <td>микроблогер</td>\n",
       "      <td>facebook</td>\n",
       "      <td>пользователь сеть</td>\n",
       "      <td>twitter</td>\n",
       "      <td>пользователь</td>\n",
       "      <td>вконтакте</td>\n",
       "      <td>соцсеть</td>\n",
       "    </tr>\n",
       "    <tr>\n",
       "      <th>technologies</th>\n",
       "      <td>батарея</td>\n",
       "      <td>руководитель</td>\n",
       "      <td>гендиректор</td>\n",
       "      <td>говорить</td>\n",
       "      <td>мтс</td>\n",
       "      <td>wifi</td>\n",
       "      <td>vimpelcom</td>\n",
       "      <td>ростелеком</td>\n",
       "      <td>робот</td>\n",
       "      <td>контакт</td>\n",
       "    </tr>\n",
       "    <tr>\n",
       "      <th>tennis</th>\n",
       "      <td>сет</td>\n",
       "      <td>wta</td>\n",
       "      <td>кубок федерация</td>\n",
       "      <td>турнир</td>\n",
       "      <td>теннис</td>\n",
       "      <td>шарапов</td>\n",
       "      <td>теннисист</td>\n",
       "      <td>корт</td>\n",
       "      <td>кубок дэвис</td>\n",
       "      <td>теннисистка</td>\n",
       "    </tr>\n",
       "    <tr>\n",
       "      <th>theatre</th>\n",
       "      <td>поставлять</td>\n",
       "      <td>волочков</td>\n",
       "      <td>художественный руководитель</td>\n",
       "      <td>театральный</td>\n",
       "      <td>цирковой</td>\n",
       "      <td>балет</td>\n",
       "      <td>постановка</td>\n",
       "      <td>мюзикл</td>\n",
       "      <td>театр</td>\n",
       "      <td>спектакль</td>\n",
       "    </tr>\n",
       "    <tr>\n",
       "      <th>volleyball</th>\n",
       "      <td>волейболистка</td>\n",
       "      <td>суперлига</td>\n",
       "      <td>факел</td>\n",
       "      <td>эджзаджибаш</td>\n",
       "      <td>казанский</td>\n",
       "      <td>вфв</td>\n",
       "      <td>белогорье</td>\n",
       "      <td>алекно</td>\n",
       "      <td>волейболист</td>\n",
       "      <td>волейбол</td>\n",
       "    </tr>\n",
       "    <tr>\n",
       "      <th>weapons</th>\n",
       "      <td>истребитель</td>\n",
       "      <td>включая</td>\n",
       "      <td>пистолет</td>\n",
       "      <td>верфь</td>\n",
       "      <td>defense</td>\n",
       "      <td>разработка</td>\n",
       "      <td>министерство оборона</td>\n",
       "      <td>миллиметровый</td>\n",
       "      <td>использоваться</td>\n",
       "      <td>тип</td>\n",
       "    </tr>\n",
       "  </tbody>\n",
       "</table>\n",
       "</div>"
      ],
      "text/plain": [
       "                                 0                        1  \\\n",
       "animals                    котенок                 крокодил   \n",
       "auto                     техосмотр               группа газ   \n",
       "basketball                     рфб              единый лига   \n",
       "biathlon                  эстафета               касперович   \n",
       "books                 писательница             произведение   \n",
       "boxing                         мма                    алоян   \n",
       "business              авиакомпания                   алроса   \n",
       "chess                       кирсан                  шахматы   \n",
       "companies        миллиард кубометр                 миллиард   \n",
       "cosmos                  астрофизик                солнечный   \n",
       "crime                приговаривать              группировка   \n",
       "cybersport                  league                    valve   \n",
       "economics                   резерв                   греция   \n",
       "films                     сценарий                сниматься   \n",
       "football                       тур                      фнл   \n",
       "forces                       шойгу                     флот   \n",
       "formula1                    заубер                autosport   \n",
       "hockey                    авангард                     барс   \n",
       "internet                     ролик                   сервис   \n",
       "judiciary                дело факт        начинать проверка   \n",
       "music                       группа                    рэпер   \n",
       "politics                       мид               губернатор   \n",
       "realty                         лср                   москва   \n",
       "religion                   епископ                монастырь   \n",
       "science               исследование                    физик   \n",
       "skiing                      нортуг           сергей устюгов   \n",
       "social-networks               сеть  пользователь социальный   \n",
       "technologies               батарея             руководитель   \n",
       "tennis                         сет                      wta   \n",
       "theatre                 поставлять                 волочков   \n",
       "volleyball           волейболистка                суперлига   \n",
       "weapons                истребитель                  включая   \n",
       "\n",
       "                                           2              3                 4  \\\n",
       "animals                              медведь            пес            вольер   \n",
       "auto                                  пробка      авторынок         автозавод   \n",
       "basketball                        евробаскет  баскетбольный         центровой   \n",
       "biathlon                           домрачева   биатлонистка               сбр   \n",
       "books                           издательство        книжный             роман   \n",
       "boxing                                  боец           ринг            лебзяк   \n",
       "business                       россия футбол            оао             rusal   \n",
       "chess                               костенюк         магнус           карлсен   \n",
       "companies                  тысяча автомобиль       компания          кубометр   \n",
       "cosmos             международный космический         миссия           спутник   \n",
       "crime                             преступник    неизвестный  террористический   \n",
       "cybersport                            gaming           team         коллектив   \n",
       "economics                                зст           млрд  европейский союз   \n",
       "films                             мультфильм        актриса              кино   \n",
       "football                                euro            рфс           стадион   \n",
       "forces                            выполнение        военный               тыс   \n",
       "formula1                               манор     цитировать              рено   \n",
       "hockey                          автомобилист          шайба        нападающий   \n",
       "internet                              reddit     объявление            блогер   \n",
       "judiciary                             статья        колония        обвиняемый   \n",
       "music                            евровидение     композитор           концерт   \n",
       "politics                            кандидат       евросоюз     парламентарий   \n",
       "realty                         строительство      ипотечный          жилищный   \n",
       "religion                            христиан     митрополит           церковь   \n",
       "science                                наука    университет            биолог   \n",
       "skiing                                вяльбе         сундбю            легков   \n",
       "social-networks                    некоторые    микроблогер          facebook   \n",
       "technologies                     гендиректор       говорить               мтс   \n",
       "tennis                       кубок федерация         турнир            теннис   \n",
       "theatre          художественный руководитель    театральный          цирковой   \n",
       "volleyball                             факел    эджзаджибаш         казанский   \n",
       "weapons                             пистолет          верфь           defense   \n",
       "\n",
       "                                 5                     6               7  \\\n",
       "animals                    питомец              животный         зоопарк   \n",
       "auto                      автопром     автопроизводитель           камаз   \n",
       "basketball            кубок европа             баскетбол    баскетболист   \n",
       "biathlon                   шипулин            хохфильцен         биатлон   \n",
       "books                       комикс          литературный            поэт   \n",
       "boxing                    поветкин              поединок             бой   \n",
       "business                      fifa                   ржд         formula   \n",
       "chess                 гроссмейстер             шахматный             фид   \n",
       "companies            миллион тонна         процент акция          тысяча   \n",
       "cosmos                         мкс             космонавт       вселенная   \n",
       "crime                      изымать               убивать          летний   \n",
       "cybersport                    dota           киберфутбол      киберспорт   \n",
       "economics                   бюджет                   ввп       экономика   \n",
       "films                       сериал              режиссер         картина   \n",
       "football                    футбол                  уефа            фифа   \n",
       "forces                развертывать               генштаб  военнослужащий   \n",
       "formula1                  макларен               феррари           пилот   \n",
       "hockey                         ска                хоккей        хоккеист   \n",
       "internet                 википедия               youtube           хакер   \n",
       "judiciary                      скр        комитет россия             суд   \n",
       "music                       альбом                 песня           певец   \n",
       "politics                    кремль                партия         госдума   \n",
       "realty                строительный               ипотека             жкх   \n",
       "religion              православный                  храм         религия   \n",
       "science                  математик               научный        археолог   \n",
       "skiing                      йохауг                   fis          лыжник   \n",
       "social-networks  пользователь сеть               twitter    пользователь   \n",
       "technologies                  wifi             vimpelcom      ростелеком   \n",
       "tennis                     шарапов             теннисист            корт   \n",
       "theatre                      балет            постановка          мюзикл   \n",
       "volleyball                     вфв             белогорье          алекно   \n",
       "weapons                 разработка  министерство оборона   миллиметровый   \n",
       "\n",
       "                                    8               9  \n",
       "animals                      животное          кличка  \n",
       "auto                          автоваз      автомобиль  \n",
       "basketball                   евролига             нба  \n",
       "biathlon                          ibu      биатлонист  \n",
       "books                           книга        писатель  \n",
       "boxing                           бокс          боксер  \n",
       "business                     ритейлер     туроператор  \n",
       "chess                         карякин       илюмжинов  \n",
       "companies                    ретейлер         процент  \n",
       "cosmos                      астронавт            марс  \n",
       "crime                         полиция          тюрьма  \n",
       "cybersport            киберспортивный  киберспортсмен  \n",
       "economics                    инфляция          платон  \n",
       "films                           актер           фильм  \n",
       "football                    футболист    полузащитник  \n",
       "forces                     конашенков      минобороны  \n",
       "formula1                     мерседес         формула  \n",
       "hockey                            нхл             кхл  \n",
       "internet                         сайт        интернет  \n",
       "judiciary        следственный комитет       следствие  \n",
       "music                          певица        музыкант  \n",
       "politics                      депутат           глава  \n",
       "realty                          жилье    недвижимость  \n",
       "religion                       святой        патриарх  \n",
       "science                 исследователь          ученый  \n",
       "skiing                          лахти         устюгов  \n",
       "social-networks             вконтакте         соцсеть  \n",
       "technologies                    робот         контакт  \n",
       "tennis                    кубок дэвис     теннисистка  \n",
       "theatre                         театр       спектакль  \n",
       "volleyball                волейболист        волейбол  \n",
       "weapons                использоваться             тип  "
      ]
     },
     "execution_count": 57,
     "metadata": {},
     "output_type": "execute_result"
    }
   ],
   "source": [
    "print_top_K(tfidf_vectorizer, clf, le.classes_, k=10)"
   ]
  },
  {
   "cell_type": "code",
   "execution_count": 58,
   "metadata": {
    "collapsed": true
   },
   "outputs": [],
   "source": [
    "test_str = '''В 1969-72 годах американские астронавты установили на Луне в общей сложности шесть звездно-полосатых флагов.\n",
    "С тех пор прошло много лет и утекло много лунного песка. Несмотря на отсутствие воздуха флаги за это время сильно износились.\n",
    "В последний раз их видели в 2012 году, когда их снял Лунный орбитальный зонд (LRO). Тогда как минимум пять из шести флагов\n",
    "находились в вертикальном положении. Однако после десятилетий, проведенных на ярком солнце, цвета, конечно же, выгорели.\n",
    "По мнению ученых, сейчас флаги скорее всего почти полностью белого цвета. Все флаги стоили 5,5 долларов (32 доллара в современных ценах).\n",
    "Компания AnninFlagmakers изготовила их из вискозы, волокна которой под воздействием ультрафиолетового света распадаются.\n",
    "Это значит, что ткань флагов не только полностью выгорела, но и, не исключено, очень сильно обветшала. К этому следует добавить, пишет\n",
    "Metro, и температурные условия: две недели ярчайшего солнца и стоградусной жары, за которыми следуют две недели лунной ночи, когда\n",
    "столбик термометра, если бы он был на это рассчитан, опускался бы до отметки -150°С. НАСА менять флаги на Луне не собирается.\n",
    "Агентство намерено отправлять астронавтов в далекий космос, но спутник Земли космические начальники решили облететь стороной.\n",
    "В планах полет на Марс примерно в 2033 году. Последняя надежда осталась на коммерческие компании, осваивающие космос.\n",
    "Не исключено, что вместо госагентства звездно-полосатые флаги на нашем спутнике заменит владелец Amazon, мультимиллардер Джефф Безос,\n",
    "который мечтает о колонизации Луны.'''"
   ]
  },
  {
   "cell_type": "code",
   "execution_count": 59,
   "metadata": {},
   "outputs": [
    {
     "data": {
      "text/plain": [
       "'cosmos'"
      ]
     },
     "execution_count": 59,
     "metadata": {},
     "output_type": "execute_result"
    }
   ],
   "source": [
    "le.inverse_transform(clf.predict(tfidf_vectorizer.transform([TEXT_PIPELINE(test_str)])))[0]"
   ]
  }
 ],
 "metadata": {
  "kernelspec": {
   "display_name": "mlenv",
   "language": "python",
   "name": "mlenv"
  },
  "language_info": {
   "codemirror_mode": {
    "name": "ipython",
    "version": 3
   },
   "file_extension": ".py",
   "mimetype": "text/x-python",
   "name": "python",
   "nbconvert_exporter": "python",
   "pygments_lexer": "ipython3",
   "version": "3.5.2"
  }
 },
 "nbformat": 4,
 "nbformat_minor": 2
}
