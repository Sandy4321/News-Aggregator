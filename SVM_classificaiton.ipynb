{
 "cells": [
  {
   "cell_type": "code",
   "execution_count": 56,
   "metadata": {
    "collapsed": true
   },
   "outputs": [],
   "source": [
    "import pandas as pd\n",
    "# pd.options.display.max_colwidth = 200\n",
    "\n",
    "import numpy as np\n",
    "from collections import defaultdict\n",
    "\n",
    "import matplotlib\n",
    "import matplotlib.pyplot as plt\n",
    "\n",
    "import seaborn as sns\n",
    "sns.set_style(\"white\")\n",
    "\n",
    "from pymystem3 import Mystem; mystem = Mystem()\n",
    "from functools import lru_cache\n",
    "\n",
    "\n",
    "from tqdm import tqdm\n",
    "tqdm.pandas()\n",
    "\n",
    "%matplotlib inline"
   ]
  },
  {
   "cell_type": "markdown",
   "metadata": {},
   "source": [
    "# Data overview"
   ]
  },
  {
   "cell_type": "code",
   "execution_count": 2,
   "metadata": {
    "collapsed": true
   },
   "outputs": [],
   "source": [
    "data = pd.read_csv('./DATA_MANY_TOPICS.csv')"
   ]
  },
  {
   "cell_type": "code",
   "execution_count": 3,
   "metadata": {
    "collapsed": true
   },
   "outputs": [],
   "source": [
    "data.dropna(inplace=True)"
   ]
  },
  {
   "cell_type": "code",
   "execution_count": 57,
   "metadata": {},
   "outputs": [
    {
     "data": {
      "text/html": [
       "<div>\n",
       "<table border=\"1\" class=\"dataframe\">\n",
       "  <thead>\n",
       "    <tr style=\"text-align: right;\">\n",
       "      <th></th>\n",
       "      <th>text</th>\n",
       "      <th>title</th>\n",
       "      <th>topic</th>\n",
       "      <th>url</th>\n",
       "    </tr>\n",
       "  </thead>\n",
       "  <tbody>\n",
       "    <tr>\n",
       "      <th>175495</th>\n",
       "      <td>лидерство спартак временный мол цска наверстывать зенит играть максимум завидовать вопрос глушаков вредитель наговаривать многие видеть спартак чемпион болеть страна приезжать гостевой сектор заби...</td>\n",
       "      <td>денис глушаков спартак переставать писать футбол умирать</td>\n",
       "      <td>14</td>\n",
       "      <td>http://www.sport-express.ru/football/rfpl/clubs/news/denis-glushakov-esli-o-spartake-perestanut-pisat-to-futbol-u-nas-prosto-umret-1061773/</td>\n",
       "    </tr>\n",
       "    <tr>\n",
       "      <th>4121</th>\n",
       "      <td>акция рбк актив онэксим ход торги московский биржа дорожать руб акция приводить данные торги мск темп рост котировка компания сокращаться акция дорожать руб акция группа онэксим михаил прохоров пр...</td>\n",
       "      <td>акция рбк дорожать из-за информация продажа актив онэксим</td>\n",
       "      <td>27</td>\n",
       "      <td>http://www.vedomosti.ru/technology/news/2016/07/04/647854-aktsii-rbk-dorozhali</td>\n",
       "    </tr>\n",
       "    <tr>\n",
       "      <th>30649</th>\n",
       "      <td>гендиректор blackberry джон чэн заявлять компания отказываться производство мобильный телефон бизнес оставаться убыточный зарабатывать смартфон заниматься бизнес цитировать reuters слово окончател...</td>\n",
       "      <td>blackberry отказываться производство смартфон</td>\n",
       "      <td>27</td>\n",
       "      <td>http://www.vedomosti.ru/technology/articles/2014/04/10/blackberry-mozhet-otkazatsya-ot-proizvodstva-smartfonov</td>\n",
       "    </tr>\n",
       "    <tr>\n",
       "      <th>19938</th>\n",
       "      <td>бывший акционер юкос арест дипломатический здание россия париж добиваться арест платеж провайдер пусковой услуга arianespace спутниковый оператор eutelsat адрес российский контрагент передавать рб...</td>\n",
       "      <td>бывший акционер юкос пытаться заблокировать транссибирский роялти air france рбк</td>\n",
       "      <td>6</td>\n",
       "      <td>http://www.vedomosti.ru/business/news/2015/12/21/621920-aktsioneri-yukosa</td>\n",
       "    </tr>\n",
       "    <tr>\n",
       "      <th>76972</th>\n",
       "      <td>группа депутат европарламент представлять политический сила ряд страна негативно относиться процесс европейский интеграция инициировать вынесение вотум недоверие президент еврокомиссия жан-клод юн...</td>\n",
       "      <td>евроскептик инициировать вотум недоверие президент еврокомиссия</td>\n",
       "      <td>21</td>\n",
       "      <td>https://lenta.ru/news/2014/11/19/juncker/</td>\n",
       "    </tr>\n",
       "  </tbody>\n",
       "</table>\n",
       "</div>"
      ],
      "text/plain": [
       "                                                                                                                                                                                                           text  \\\n",
       "175495  лидерство спартак временный мол цска наверстывать зенит играть максимум завидовать вопрос глушаков вредитель наговаривать многие видеть спартак чемпион болеть страна приезжать гостевой сектор заби...   \n",
       "4121    акция рбк актив онэксим ход торги московский биржа дорожать руб акция приводить данные торги мск темп рост котировка компания сокращаться акция дорожать руб акция группа онэксим михаил прохоров пр...   \n",
       "30649   гендиректор blackberry джон чэн заявлять компания отказываться производство мобильный телефон бизнес оставаться убыточный зарабатывать смартфон заниматься бизнес цитировать reuters слово окончател...   \n",
       "19938   бывший акционер юкос арест дипломатический здание россия париж добиваться арест платеж провайдер пусковой услуга arianespace спутниковый оператор eutelsat адрес российский контрагент передавать рб...   \n",
       "76972   группа депутат европарламент представлять политический сила ряд страна негативно относиться процесс европейский интеграция инициировать вынесение вотум недоверие президент еврокомиссия жан-клод юн...   \n",
       "\n",
       "                                                                                   title  \\\n",
       "175495                          денис глушаков спартак переставать писать футбол умирать   \n",
       "4121                           акция рбк дорожать из-за информация продажа актив онэксим   \n",
       "30649                                      blackberry отказываться производство смартфон   \n",
       "19938   бывший акционер юкос пытаться заблокировать транссибирский роялти air france рбк   \n",
       "76972                    евроскептик инициировать вотум недоверие президент еврокомиссия   \n",
       "\n",
       "        topic  \\\n",
       "175495     14   \n",
       "4121       27   \n",
       "30649      27   \n",
       "19938       6   \n",
       "76972      21   \n",
       "\n",
       "                                                                                                                                                url  \n",
       "175495  http://www.sport-express.ru/football/rfpl/clubs/news/denis-glushakov-esli-o-spartake-perestanut-pisat-to-futbol-u-nas-prosto-umret-1061773/  \n",
       "4121                                                                 http://www.vedomosti.ru/technology/news/2016/07/04/647854-aktsii-rbk-dorozhali  \n",
       "30649                                http://www.vedomosti.ru/technology/articles/2014/04/10/blackberry-mozhet-otkazatsya-ot-proizvodstva-smartfonov  \n",
       "19938                                                                     http://www.vedomosti.ru/business/news/2015/12/21/621920-aktsioneri-yukosa  \n",
       "76972                                                                                                     https://lenta.ru/news/2014/11/19/juncker/  "
      ]
     },
     "execution_count": 57,
     "metadata": {},
     "output_type": "execute_result"
    }
   ],
   "source": [
    "data.sample(5)"
   ]
  },
  {
   "cell_type": "code",
   "execution_count": 5,
   "metadata": {
    "scrolled": false
   },
   "outputs": [
    {
     "name": "stdout",
     "output_type": "stream",
     "text": [
      "Number of news: 179996\n"
     ]
    }
   ],
   "source": [
    "print('Number of news:', len(data))"
   ]
  },
  {
   "cell_type": "code",
   "execution_count": 6,
   "metadata": {},
   "outputs": [
    {
     "name": "stdout",
     "output_type": "stream",
     "text": [
      "Number of topics: 32\n"
     ]
    }
   ],
   "source": [
    "print('Number of topics:', data.topic.nunique())"
   ]
  },
  {
   "cell_type": "code",
   "execution_count": 77,
   "metadata": {},
   "outputs": [
    {
     "data": {
      "text/plain": [
       "14    11993\n",
       "21    11849\n",
       "17    11400\n",
       "6     10022\n",
       "27     7097\n",
       "13     6592\n",
       "24     5516\n",
       "10     5308\n",
       "18     5067\n",
       "22     4878\n",
       "2      4210\n",
       "19     4165\n",
       "31     4120\n",
       "15     3993\n",
       "20     3809\n",
       "28     3561\n",
       "1      3453\n",
       "8      3316\n",
       "9      2576\n",
       "5      2464\n",
       "12     2426\n",
       "3      2235\n",
       "26     2039\n",
       "11     1835\n",
       "16     1433\n",
       "0      1225\n",
       "4       939\n",
       "23      903\n",
       "29      882\n",
       "25      696\n",
       "30      528\n",
       "7       466\n",
       "Name: topic, dtype: int64"
      ]
     },
     "execution_count": 77,
     "metadata": {},
     "output_type": "execute_result"
    }
   ],
   "source": [
    "data.topic.value_counts()"
   ]
  },
  {
   "cell_type": "code",
   "execution_count": 8,
   "metadata": {
    "scrolled": true
   },
   "outputs": [
    {
     "data": {
      "image/png": "[encoded data removed]",
      "text/plain": [
       "<matplotlib.figure.Figure at 0x11598ecf8>"
      ]
     },
     "metadata": {},
     "output_type": "display_data"
    }
   ],
   "source": [
    "topics_freq = data.topic.value_counts(ascending=True)\n",
    "plt.figure(figsize=(12,8))\n",
    "plt.barh(range(len(topics_freq)), topics_freq.values)\n",
    "plt.yticks(range(len(topics_freq)), topics_freq.index);\n",
    "plt.xticks(np.arange(0, 35001, 5000));\n",
    "plt.title('Частоты тем в датасете');"
   ]
  },
  {
   "cell_type": "code",
   "execution_count": 9,
   "metadata": {
    "collapsed": true
   },
   "outputs": [],
   "source": [
    "class Pipeline(object):\n",
    "    def __init__(self, *args):\n",
    "        self.transformations = args\n",
    "    def __call__(self, x):\n",
    "        res = x\n",
    "        for f in self.transformations:\n",
    "            res = f(res)\n",
    "        return res"
   ]
  },
  {
   "cell_type": "code",
   "execution_count": 10,
   "metadata": {},
   "outputs": [],
   "source": [
    "from nltk.corpus import stopwords\n",
    "STOP_WORDS = set(stopwords.words('russian')) | set(stopwords.words('english'))\n",
    "STOP_WORDS = STOP_WORDS | set(['лента', 'новость', 'риа', 'тасс', 'редакция'])\n",
    "\n",
    "def get_lower(text):\n",
    "    return str(text).lower().strip()\n",
    "\n",
    "def remove_punctuation(text):\n",
    "    return ''.join([c if c.isalpha() or c in ['-',\"'\"] else ' ' for c in text])\n",
    "\n",
    "@lru_cache(maxsize=None)\n",
    "def get_word_normal_form(word):\n",
    "    return ''.join(mystem.lemmatize(word)).strip().replace('ё', 'е')\n",
    "\n",
    "def lemmatize_words(text):\n",
    "    res = []\n",
    "    for word in text.split():\n",
    "        norm_form = get_word_normal_form(word)\n",
    "        if len(norm_form) > 2 and norm_form not in STOP_WORDS:\n",
    "            res.append(norm_form)\n",
    "    return ' '.join(res)"
   ]
  },
  {
   "cell_type": "code",
   "execution_count": 11,
   "metadata": {},
   "outputs": [],
   "source": [
    "with open('./stop_words/russian.txt') as file:\n",
    "    for line in file:\n",
    "        STOP_WORDS.add(Pipeline(get_lower, remove_punctuation, get_word_normal_form)(line))\n",
    "\n",
    "with open('./stop_words/english.txt') as file:\n",
    "    for line in file:\n",
    "        STOP_WORDS.add(Pipeline(get_lower, remove_punctuation, get_word_normal_form)(line))"
   ]
  },
  {
   "cell_type": "code",
   "execution_count": 12,
   "metadata": {
    "collapsed": true
   },
   "outputs": [],
   "source": [
    "def remove_ria(text):\n",
    "    prefix = text[:50]\n",
    "    ria = 'РИА Новости'\n",
    "    if ria in prefix:\n",
    "        text = text[text.find(ria)+len(ria)+1:]\n",
    "    return text"
   ]
  },
  {
   "cell_type": "code",
   "execution_count": 13,
   "metadata": {
    "collapsed": true
   },
   "outputs": [],
   "source": [
    "TEXT_PIPELINE = Pipeline(remove_ria, get_lower, remove_punctuation, lemmatize_words)"
   ]
  },
  {
   "cell_type": "code",
   "execution_count": 14,
   "metadata": {},
   "outputs": [
    {
     "name": "stderr",
     "output_type": "stream",
     "text": [
      "100%|██████████| 179996/179996 [02:53<00:00, 1037.48it/s]\n"
     ]
    },
    {
     "name": "stdout",
     "output_type": "stream",
     "text": [
      "CPU times: user 1min 56s, sys: 12.4 s, total: 2min 8s\n",
      "Wall time: 2min 54s\n"
     ]
    }
   ],
   "source": [
    "%%time\n",
    "data.text = data.text.progress_apply(TEXT_PIPELINE)"
   ]
  },
  {
   "cell_type": "code",
   "execution_count": 15,
   "metadata": {},
   "outputs": [
    {
     "name": "stderr",
     "output_type": "stream",
     "text": [
      "100%|██████████| 179996/179996 [00:07<00:00, 24308.05it/s]"
     ]
    },
    {
     "name": "stdout",
     "output_type": "stream",
     "text": [
      "CPU times: user 6.36 s, sys: 244 ms, total: 6.6 s\n",
      "Wall time: 7.43 s\n"
     ]
    },
    {
     "name": "stderr",
     "output_type": "stream",
     "text": [
      "\n"
     ]
    }
   ],
   "source": [
    "%%time\n",
    "data.title = data.title.progress_apply(TEXT_PIPELINE)"
   ]
  },
  {
   "cell_type": "code",
   "execution_count": 16,
   "metadata": {},
   "outputs": [
    {
     "name": "stdout",
     "output_type": "stream",
     "text": [
      "Unique words in dataset: 248181\n"
     ]
    }
   ],
   "source": [
    "vocabulary = defaultdict(int)\n",
    "for news in data.itertuples():\n",
    "    for word in news.text.split():\n",
    "        vocabulary[word] += 1\n",
    "print('Unique words in dataset:', len(vocabulary))"
   ]
  },
  {
   "cell_type": "code",
   "execution_count": 17,
   "metadata": {
    "scrolled": true
   },
   "outputs": [
    {
     "name": "stdout",
     "output_type": "stream",
     "text": [
      "Number of words occured more than 2 times: 145473\n"
     ]
    }
   ],
   "source": [
    "n_min_occurance = 2\n",
    "print('Number of words occured more than %d times: %d' % \n",
    "      (n_min_occurance, len(list(filter(lambda x: x[1] >= n_min_occurance, vocabulary.items())))))"
   ]
  },
  {
   "cell_type": "code",
   "execution_count": 18,
   "metadata": {},
   "outputs": [
    {
     "name": "stdout",
     "output_type": "stream",
     "text": [
      "Top 25 most frequent words:\n",
      "1 россия 126825\n",
      "2 компания 109441\n",
      "3 сообщать 102767\n",
      "4 российский 68778\n",
      "5 матч 64084\n",
      "6 слово 60845\n",
      "7 заявлять 59558\n",
      "8 отмечать 55033\n",
      "9 команда 50830\n",
      "10 млрд 50396\n",
      "11 страна 49081\n",
      "12 президент 48715\n",
      "13 получать 48335\n",
      "14 сша 47921\n",
      "15 новый 46438\n",
      "16 млн 42197\n",
      "17 ранее 40887\n",
      "18 руб 39542\n",
      "19 чемпионат 37965\n",
      "20 москва 37903\n",
      "21 данный 37803\n",
      "22 представитель 37247\n",
      "23 составлять 36945\n",
      "24 решение 35534\n",
      "25 работа 35440\n"
     ]
    }
   ],
   "source": [
    "top_k = 25\n",
    "print('Top %d most frequent words:' % top_k)\n",
    "for i, (word, freq) in enumerate(sorted(vocabulary.items(), key=lambda x: -x[1])[:top_k]):\n",
    "    print(i+1, word, freq)"
   ]
  },
  {
   "cell_type": "markdown",
   "metadata": {},
   "source": [
    "# Baseline"
   ]
  },
  {
   "cell_type": "code",
   "execution_count": 19,
   "metadata": {
    "collapsed": true
   },
   "outputs": [],
   "source": [
    "from sklearn.preprocessing import LabelEncoder\n",
    "from sklearn.feature_extraction.text import TfidfVectorizer\n",
    "from sklearn.model_selection import train_test_split, cross_val_score\n",
    "from sklearn.linear_model import LogisticRegression\n",
    "from sklearn.metrics import accuracy_score, f1_score, confusion_matrix, make_scorer\n",
    "from sklearn.svm import LinearSVC\n",
    "\n",
    "from scipy.sparse import hstack"
   ]
  },
  {
   "cell_type": "markdown",
   "metadata": {},
   "source": [
    "## Закодируем целевую переменную"
   ]
  },
  {
   "cell_type": "code",
   "execution_count": 20,
   "metadata": {},
   "outputs": [],
   "source": [
    "le = LabelEncoder()\n",
    "data.topic = le.fit_transform(data.topic)"
   ]
  },
  {
   "cell_type": "code",
   "execution_count": 61,
   "metadata": {
    "collapsed": true
   },
   "outputs": [],
   "source": [
    "data.drop(data[data.topic == 14].sample(20000).index, inplace=True)\n",
    "data.drop(data[data.topic == 6].sample(18000).index, inplace=True)\n",
    "data.drop(data[data.topic == 21].sample(11000).index, inplace=True)"
   ]
  },
  {
   "cell_type": "code",
   "execution_count": 63,
   "metadata": {},
   "outputs": [
    {
     "data": {
      "text/plain": [
       "14    11993\n",
       "21    11849\n",
       "17    11400\n",
       "6     10022\n",
       "27     7097\n",
       "13     6592\n",
       "24     5516\n",
       "10     5308\n",
       "18     5067\n",
       "22     4878\n",
       "2      4210\n",
       "19     4165\n",
       "31     4120\n",
       "15     3993\n",
       "20     3809\n",
       "28     3561\n",
       "1      3453\n",
       "8      3316\n",
       "9      2576\n",
       "5      2464\n",
       "12     2426\n",
       "3      2235\n",
       "26     2039\n",
       "11     1835\n",
       "16     1433\n",
       "0      1225\n",
       "4       939\n",
       "23      903\n",
       "29      882\n",
       "25      696\n",
       "30      528\n",
       "7       466\n",
       "Name: topic, dtype: int64"
      ]
     },
     "execution_count": 63,
     "metadata": {},
     "output_type": "execute_result"
    }
   ],
   "source": [
    "data.topic.value_counts()"
   ]
  },
  {
   "cell_type": "markdown",
   "metadata": {},
   "source": [
    "## Разделим данные на train и validation"
   ]
  },
  {
   "cell_type": "code",
   "execution_count": 64,
   "metadata": {
    "collapsed": true
   },
   "outputs": [],
   "source": [
    "trainX = data.text + ' ' + data.title\n",
    "trainX = np.swapaxes(np.vstack([trainX.values, data.url.values]), 0, 1)\n",
    "trainY = data.topic.values"
   ]
  },
  {
   "cell_type": "code",
   "execution_count": 65,
   "metadata": {
    "collapsed": true
   },
   "outputs": [],
   "source": [
    "X_train, X_test, y_train, y_test = train_test_split(trainX, trainY, test_size=0.3, stratify=trainY, random_state=42)"
   ]
  },
  {
   "cell_type": "markdown",
   "metadata": {},
   "source": [
    "## Вычислим tf-idf"
   ]
  },
  {
   "cell_type": "code",
   "execution_count": 66,
   "metadata": {
    "scrolled": true
   },
   "outputs": [
    {
     "name": "stdout",
     "output_type": "stream",
     "text": [
      "CPU times: user 19.6 s, sys: 537 ms, total: 20.1 s\n",
      "Wall time: 20.4 s\n"
     ]
    }
   ],
   "source": [
    "%%time\n",
    "tfidf_vectorizer = TfidfVectorizer(min_df=5, ngram_range=(1,1), lowercase=False).fit(trainX[:,0])"
   ]
  },
  {
   "cell_type": "code",
   "execution_count": 67,
   "metadata": {},
   "outputs": [
    {
     "data": {
      "text/plain": [
       "60931"
      ]
     },
     "execution_count": 67,
     "metadata": {},
     "output_type": "execute_result"
    }
   ],
   "source": [
    "len(tfidf_vectorizer.vocabulary_)"
   ]
  },
  {
   "cell_type": "code",
   "execution_count": 68,
   "metadata": {
    "collapsed": true
   },
   "outputs": [],
   "source": [
    "X_train_tf = tfidf_vectorizer.transform(X_train[:,0])\n",
    "X_test_tf = tfidf_vectorizer.transform(X_test[:,0])"
   ]
  },
  {
   "cell_type": "markdown",
   "metadata": {},
   "source": [
    "## Обучим SVM"
   ]
  },
  {
   "cell_type": "code",
   "execution_count": 69,
   "metadata": {
    "collapsed": true
   },
   "outputs": [],
   "source": [
    "clf = LinearSVC(C=1, max_iter=10000, loss='hinge', random_state=42)"
   ]
  },
  {
   "cell_type": "code",
   "execution_count": 70,
   "metadata": {},
   "outputs": [
    {
     "name": "stdout",
     "output_type": "stream",
     "text": [
      "CPU times: user 22 s, sys: 621 ms, total: 22.6 s\n",
      "Wall time: 23.2 s\n"
     ]
    },
    {
     "data": {
      "text/plain": [
       "LinearSVC(C=1, class_weight=None, dual=True, fit_intercept=True,\n",
       "     intercept_scaling=1, loss='hinge', max_iter=10000, multi_class='ovr',\n",
       "     penalty='l2', random_state=42, tol=0.0001, verbose=0)"
      ]
     },
     "execution_count": 70,
     "metadata": {},
     "output_type": "execute_result"
    }
   ],
   "source": [
    "%%time\n",
    "clf.fit(X_train_tf, y_train)"
   ]
  },
  {
   "cell_type": "code",
   "execution_count": 71,
   "metadata": {},
   "outputs": [
    {
     "name": "stdout",
     "output_type": "stream",
     "text": [
      "F1 score: 0.88129377355\n",
      "Accuracy: 0.878648311662\n"
     ]
    }
   ],
   "source": [
    "clf_prediciton = clf.predict(X_test_tf)\n",
    "print('F1 score:', f1_score(y_test, clf_prediciton, average='macro'))\n",
    "print('Accuracy:', accuracy_score(y_test, clf_prediciton))"
   ]
  },
  {
   "cell_type": "markdown",
   "metadata": {},
   "source": [
    "## Построим нормализованную матрицу потерь"
   ]
  },
  {
   "cell_type": "code",
   "execution_count": 72,
   "metadata": {
    "collapsed": true
   },
   "outputs": [],
   "source": [
    "cm = confusion_matrix(y_test, clf_prediciton)\n",
    "cm = np.round(cm / cm.sum(axis=1)[:, np.newaxis], 2)"
   ]
  },
  {
   "cell_type": "code",
   "execution_count": 73,
   "metadata": {},
   "outputs": [],
   "source": [
    "classes = [c for c in le.classes_]\n",
    "df_cm = pd.DataFrame(cm, columns=classes, index=classes)"
   ]
  },
  {
   "cell_type": "code",
   "execution_count": 74,
   "metadata": {
    "scrolled": true
   },
   "outputs": [
    {
     "data": {
      "image/png": "[encoded data removed]",
      "text/plain": [
       "<matplotlib.figure.Figure at 0x126469c50>"
      ]
     },
     "metadata": {},
     "output_type": "display_data"
    }
   ],
   "source": [
    "sns.set_context(\"notebook\", font_scale=1.4);\n",
    "plt.figure(figsize=(20, 20))\n",
    "ax = sns.heatmap(df_cm, annot=True, linewidths=.5, fmt='g', cbar=False, square=True, annot_kws={\"size\": 10});\n",
    "ax.xaxis.tick_top()\n",
    "ax.set_xticklabels(ax.xaxis.get_majorticklabels(), rotation=90);"
   ]
  },
  {
   "cell_type": "markdown",
   "metadata": {},
   "source": [
    "## Посмотрим на ошибки классификации"
   ]
  },
  {
   "cell_type": "code",
   "execution_count": null,
   "metadata": {
    "scrolled": true
   },
   "outputs": [],
   "source": [
    "for i, (true, pred) in enumerate(zip(y_test, clf_prediciton)):\n",
    "    if true == le.transform(['Техника'])[0] and pred == le.transform(['Недвижимость'])[0]:\n",
    "        print(X_test[i][1])"
   ]
  },
  {
   "cell_type": "markdown",
   "metadata": {},
   "source": [
    "## Выведем слова с максимальным весом внутри каждого класса"
   ]
  },
  {
   "cell_type": "code",
   "execution_count": 75,
   "metadata": {},
   "outputs": [],
   "source": [
    "def print_top_K(vectorizer, clf, class_labels, k=10):\n",
    "    \"\"\"Prints features with the highest coefficient values, per class\"\"\"\n",
    "    feature_names = vectorizer.get_feature_names()\n",
    "    kek = []\n",
    "    cols = ['top' + str(i+1) for i in range(k)]\n",
    "    for i, class_label in enumerate(class_labels):\n",
    "        top_K = np.argsort(clf.coef_[i])[-k:]\n",
    "        kek.append([feature_names[j] for j in top_K])\n",
    "#         print('%s: %s' % (class_label, ' '.join(feature_names[j] for j in top_K)))\n",
    "    return pd.DataFrame(kek, index=class_labels, columns=cols)"
   ]
  },
  {
   "cell_type": "code",
   "execution_count": 76,
   "metadata": {
    "scrolled": true
   },
   "outputs": [
    {
     "data": {
      "text/html": [
       "<div>\n",
       "<table border=\"1\" class=\"dataframe\">\n",
       "  <thead>\n",
       "    <tr style=\"text-align: right;\">\n",
       "      <th></th>\n",
       "      <th>top1</th>\n",
       "      <th>top2</th>\n",
       "      <th>top3</th>\n",
       "      <th>top4</th>\n",
       "      <th>top5</th>\n",
       "      <th>top6</th>\n",
       "      <th>top7</th>\n",
       "      <th>top8</th>\n",
       "      <th>top9</th>\n",
       "      <th>top10</th>\n",
       "    </tr>\n",
       "  </thead>\n",
       "  <tbody>\n",
       "    <tr>\n",
       "      <th>animals</th>\n",
       "      <td>видеозапись</td>\n",
       "      <td>хозяин</td>\n",
       "      <td>вольер</td>\n",
       "      <td>утка</td>\n",
       "      <td>животный</td>\n",
       "      <td>питомец</td>\n",
       "      <td>зоопарк</td>\n",
       "      <td>просматривать</td>\n",
       "      <td>животное</td>\n",
       "      <td>кличка</td>\n",
       "    </tr>\n",
       "    <tr>\n",
       "      <th>auto</th>\n",
       "      <td>автозавод</td>\n",
       "      <td>автокомпонент</td>\n",
       "      <td>мобиль</td>\n",
       "      <td>авторынок</td>\n",
       "      <td>камаз</td>\n",
       "      <td>осаго</td>\n",
       "      <td>автоваз</td>\n",
       "      <td>автопроизводитель</td>\n",
       "      <td>автомобиль</td>\n",
       "      <td>автопром</td>\n",
       "    </tr>\n",
       "    <tr>\n",
       "      <th>basketball</th>\n",
       "      <td>подбор</td>\n",
       "      <td>баскетболистка</td>\n",
       "      <td>уникс</td>\n",
       "      <td>рфб</td>\n",
       "      <td>евробаскет</td>\n",
       "      <td>центровой</td>\n",
       "      <td>баскетбол</td>\n",
       "      <td>баскетболист</td>\n",
       "      <td>нба</td>\n",
       "      <td>евролига</td>\n",
       "    </tr>\n",
       "    <tr>\n",
       "      <th>biathlon</th>\n",
       "      <td>домрачева</td>\n",
       "      <td>касперович</td>\n",
       "      <td>фуркад</td>\n",
       "      <td>шипулин</td>\n",
       "      <td>биатлонистка</td>\n",
       "      <td>биатлон</td>\n",
       "      <td>сбр</td>\n",
       "      <td>ibu</td>\n",
       "      <td>хохфильцен</td>\n",
       "      <td>биатлонист</td>\n",
       "    </tr>\n",
       "    <tr>\n",
       "      <th>books</th>\n",
       "      <td>роман</td>\n",
       "      <td>литература</td>\n",
       "      <td>библиотека</td>\n",
       "      <td>книга</td>\n",
       "      <td>произведение</td>\n",
       "      <td>комикс</td>\n",
       "      <td>писательница</td>\n",
       "      <td>поэт</td>\n",
       "      <td>литературный</td>\n",
       "      <td>писатель</td>\n",
       "    </tr>\n",
       "    <tr>\n",
       "      <th>boxing</th>\n",
       "      <td>ринг</td>\n",
       "      <td>мма</td>\n",
       "      <td>лебзяк</td>\n",
       "      <td>поединок</td>\n",
       "      <td>алоян</td>\n",
       "      <td>поветкин</td>\n",
       "      <td>боец</td>\n",
       "      <td>бой</td>\n",
       "      <td>бокс</td>\n",
       "      <td>боксер</td>\n",
       "    </tr>\n",
       "    <tr>\n",
       "      <th>business</th>\n",
       "      <td>ржд</td>\n",
       "      <td>мск</td>\n",
       "      <td>mcdonald</td>\n",
       "      <td>нефтепродукт</td>\n",
       "      <td>rusal</td>\n",
       "      <td>читать</td>\n",
       "      <td>туроператор</td>\n",
       "      <td>ритейлер</td>\n",
       "      <td>formula</td>\n",
       "      <td>оао</td>\n",
       "    </tr>\n",
       "    <tr>\n",
       "      <th>chess</th>\n",
       "      <td>костенюк</td>\n",
       "      <td>карякина</td>\n",
       "      <td>магнус</td>\n",
       "      <td>илюмжинов</td>\n",
       "      <td>шахматист</td>\n",
       "      <td>карлсен</td>\n",
       "      <td>фид</td>\n",
       "      <td>карякин</td>\n",
       "      <td>шахматы</td>\n",
       "      <td>шахматный</td>\n",
       "    </tr>\n",
       "    <tr>\n",
       "      <th>companies</th>\n",
       "      <td>глава</td>\n",
       "      <td>процентный</td>\n",
       "      <td>го</td>\n",
       "      <td>настоящий</td>\n",
       "      <td>кубометр</td>\n",
       "      <td>миллиард</td>\n",
       "      <td>релиз</td>\n",
       "      <td>тонна</td>\n",
       "      <td>service</td>\n",
       "      <td>ретейлер</td>\n",
       "    </tr>\n",
       "    <tr>\n",
       "      <th>cosmos</th>\n",
       "      <td>спутник</td>\n",
       "      <td>скопление</td>\n",
       "      <td>солнечный</td>\n",
       "      <td>космический</td>\n",
       "      <td>ровер</td>\n",
       "      <td>космос</td>\n",
       "      <td>астрофизик</td>\n",
       "      <td>марс</td>\n",
       "      <td>светить</td>\n",
       "      <td>астронавт</td>\n",
       "    </tr>\n",
       "    <tr>\n",
       "      <th>crime</th>\n",
       "      <td>похищать</td>\n",
       "      <td>неизвестный</td>\n",
       "      <td>associated</td>\n",
       "      <td>тюремный</td>\n",
       "      <td>нак</td>\n",
       "      <td>убивать</td>\n",
       "      <td>полиция</td>\n",
       "      <td>изымать</td>\n",
       "      <td>преступник</td>\n",
       "      <td>тюрьма</td>\n",
       "    </tr>\n",
       "    <tr>\n",
       "      <th>cybersport</th>\n",
       "      <td>league</td>\n",
       "      <td>overwatch</td>\n",
       "      <td>valve</td>\n",
       "      <td>team</td>\n",
       "      <td>gaming</td>\n",
       "      <td>dota</td>\n",
       "      <td>киберспортивный</td>\n",
       "      <td>киберспорт</td>\n",
       "      <td>киберфутбол</td>\n",
       "      <td>киберспортсмен</td>\n",
       "    </tr>\n",
       "    <tr>\n",
       "      <th>economics</th>\n",
       "      <td>курс</td>\n",
       "      <td>минфин</td>\n",
       "      <td>мрот</td>\n",
       "      <td>ссылка</td>\n",
       "      <td>интерфакс</td>\n",
       "      <td>фондовый</td>\n",
       "      <td>экономика</td>\n",
       "      <td>ввп</td>\n",
       "      <td>платон</td>\n",
       "      <td>инфляция</td>\n",
       "    </tr>\n",
       "    <tr>\n",
       "      <th>films</th>\n",
       "      <td>hollywood</td>\n",
       "      <td>экранизация</td>\n",
       "      <td>мультфильм</td>\n",
       "      <td>режиссер</td>\n",
       "      <td>кино</td>\n",
       "      <td>сериал</td>\n",
       "      <td>актриса</td>\n",
       "      <td>картина</td>\n",
       "      <td>актер</td>\n",
       "      <td>фильм</td>\n",
       "    </tr>\n",
       "    <tr>\n",
       "      <th>football</th>\n",
       "      <td>стадион</td>\n",
       "      <td>рфс</td>\n",
       "      <td>футбол</td>\n",
       "      <td>фнл</td>\n",
       "      <td>конфедерация</td>\n",
       "      <td>уефа</td>\n",
       "      <td>фифа</td>\n",
       "      <td>чм</td>\n",
       "      <td>футболист</td>\n",
       "      <td>полузащитник</td>\n",
       "    </tr>\n",
       "    <tr>\n",
       "      <th>forces</th>\n",
       "      <td>авиабаза</td>\n",
       "      <td>вкс</td>\n",
       "      <td>тыс</td>\n",
       "      <td>шойгу</td>\n",
       "      <td>военнослужащий</td>\n",
       "      <td>развертывать</td>\n",
       "      <td>корра</td>\n",
       "      <td>генштаб</td>\n",
       "      <td>конашенков</td>\n",
       "      <td>минобороны</td>\n",
       "    </tr>\n",
       "    <tr>\n",
       "      <th>formula1</th>\n",
       "      <td>гран</td>\n",
       "      <td>рено</td>\n",
       "      <td>цитировать</td>\n",
       "      <td>болид</td>\n",
       "      <td>при</td>\n",
       "      <td>пилот</td>\n",
       "      <td>макларен</td>\n",
       "      <td>феррари</td>\n",
       "      <td>формула</td>\n",
       "      <td>мерседес</td>\n",
       "    </tr>\n",
       "    <tr>\n",
       "      <th>hockey</th>\n",
       "      <td>барс</td>\n",
       "      <td>авангард</td>\n",
       "      <td>фхр</td>\n",
       "      <td>шайба</td>\n",
       "      <td>ска</td>\n",
       "      <td>нападающий</td>\n",
       "      <td>хоккей</td>\n",
       "      <td>хоккеист</td>\n",
       "      <td>нхл</td>\n",
       "      <td>кхл</td>\n",
       "    </tr>\n",
       "    <tr>\n",
       "      <th>internet</th>\n",
       "      <td>ресурс</td>\n",
       "      <td>ролик</td>\n",
       "      <td>reddit</td>\n",
       "      <td>сайт</td>\n",
       "      <td>видеоблогер</td>\n",
       "      <td>хакер</td>\n",
       "      <td>youtube</td>\n",
       "      <td>википедия</td>\n",
       "      <td>блогер</td>\n",
       "      <td>интернет</td>\n",
       "    </tr>\n",
       "    <tr>\n",
       "      <th>judiciary</th>\n",
       "      <td>выемка</td>\n",
       "      <td>комитет</td>\n",
       "      <td>арестовывать</td>\n",
       "      <td>рубль</td>\n",
       "      <td>суд</td>\n",
       "      <td>статья</td>\n",
       "      <td>следствие</td>\n",
       "      <td>обвиняемый</td>\n",
       "      <td>следственный</td>\n",
       "      <td>скр</td>\n",
       "    </tr>\n",
       "    <tr>\n",
       "      <th>music</th>\n",
       "      <td>клип</td>\n",
       "      <td>группа</td>\n",
       "      <td>евровидение</td>\n",
       "      <td>песня</td>\n",
       "      <td>альбом</td>\n",
       "      <td>композитор</td>\n",
       "      <td>концерт</td>\n",
       "      <td>певец</td>\n",
       "      <td>певица</td>\n",
       "      <td>музыкант</td>\n",
       "    </tr>\n",
       "    <tr>\n",
       "      <th>politics</th>\n",
       "      <td>политик</td>\n",
       "      <td>корреспондент</td>\n",
       "      <td>парламентарий</td>\n",
       "      <td>лидер</td>\n",
       "      <td>пушок</td>\n",
       "      <td>отставка</td>\n",
       "      <td>госдума</td>\n",
       "      <td>reuters</td>\n",
       "      <td>мид</td>\n",
       "      <td>глава</td>\n",
       "    </tr>\n",
       "    <tr>\n",
       "      <th>realty</th>\n",
       "      <td>ипотечный</td>\n",
       "      <td>лср</td>\n",
       "      <td>здание</td>\n",
       "      <td>аижк</td>\n",
       "      <td>цемент</td>\n",
       "      <td>жкх</td>\n",
       "      <td>девелопера</td>\n",
       "      <td>ипотека</td>\n",
       "      <td>жилье</td>\n",
       "      <td>недвижимость</td>\n",
       "    </tr>\n",
       "    <tr>\n",
       "      <th>religion</th>\n",
       "      <td>собор</td>\n",
       "      <td>христиан</td>\n",
       "      <td>святой</td>\n",
       "      <td>купание</td>\n",
       "      <td>духовный</td>\n",
       "      <td>хадж</td>\n",
       "      <td>епископ</td>\n",
       "      <td>митрополит</td>\n",
       "      <td>муфтий</td>\n",
       "      <td>патриарх</td>\n",
       "    </tr>\n",
       "    <tr>\n",
       "      <th>science</th>\n",
       "      <td>фано</td>\n",
       "      <td>геолог</td>\n",
       "      <td>математик</td>\n",
       "      <td>биолог</td>\n",
       "      <td>церн</td>\n",
       "      <td>научный</td>\n",
       "      <td>журнал</td>\n",
       "      <td>археолог</td>\n",
       "      <td>исследователь</td>\n",
       "      <td>ученый</td>\n",
       "    </tr>\n",
       "    <tr>\n",
       "      <th>skiing</th>\n",
       "      <td>сундбю</td>\n",
       "      <td>лыжница</td>\n",
       "      <td>лыжный</td>\n",
       "      <td>лыжник</td>\n",
       "      <td>йохауг</td>\n",
       "      <td>вяльбе</td>\n",
       "      <td>легков</td>\n",
       "      <td>fis</td>\n",
       "      <td>лахти</td>\n",
       "      <td>устюгов</td>\n",
       "    </tr>\n",
       "    <tr>\n",
       "      <th>social-networks</th>\n",
       "      <td>сеть</td>\n",
       "      <td>некоторые</td>\n",
       "      <td>facebook</td>\n",
       "      <td>микроблогер</td>\n",
       "      <td>пользователь</td>\n",
       "      <td>twitter</td>\n",
       "      <td>посмеяться</td>\n",
       "      <td>юзер</td>\n",
       "      <td>вконтакте</td>\n",
       "      <td>соцсеть</td>\n",
       "    </tr>\n",
       "    <tr>\n",
       "      <th>technologies</th>\n",
       "      <td>софт</td>\n",
       "      <td>интерфакс</td>\n",
       "      <td>нмг</td>\n",
       "      <td>ростелеком</td>\n",
       "      <td>vimpelcom</td>\n",
       "      <td>робот</td>\n",
       "      <td>мтс</td>\n",
       "      <td>апл</td>\n",
       "      <td>wifi</td>\n",
       "      <td>контакт</td>\n",
       "    </tr>\n",
       "    <tr>\n",
       "      <th>tennis</th>\n",
       "      <td>ракетка</td>\n",
       "      <td>wta</td>\n",
       "      <td>теннисный</td>\n",
       "      <td>дэвис</td>\n",
       "      <td>open</td>\n",
       "      <td>шарапов</td>\n",
       "      <td>теннисистка</td>\n",
       "      <td>теннисист</td>\n",
       "      <td>теннис</td>\n",
       "      <td>корт</td>\n",
       "    </tr>\n",
       "    <tr>\n",
       "      <th>theatre</th>\n",
       "      <td>худрук</td>\n",
       "      <td>филин</td>\n",
       "      <td>балет</td>\n",
       "      <td>мюзикл</td>\n",
       "      <td>росгосцирк</td>\n",
       "      <td>артистка</td>\n",
       "      <td>театральный</td>\n",
       "      <td>постановка</td>\n",
       "      <td>театр</td>\n",
       "      <td>спектакль</td>\n",
       "    </tr>\n",
       "    <tr>\n",
       "      <th>volleyball</th>\n",
       "      <td>краснодарский</td>\n",
       "      <td>маричев</td>\n",
       "      <td>факел</td>\n",
       "      <td>казанский</td>\n",
       "      <td>белогорье</td>\n",
       "      <td>волейболистка</td>\n",
       "      <td>вфв</td>\n",
       "      <td>алекно</td>\n",
       "      <td>волейболист</td>\n",
       "      <td>волейбол</td>\n",
       "    </tr>\n",
       "    <tr>\n",
       "      <th>weapons</th>\n",
       "      <td>транспортник</td>\n",
       "      <td>вестись</td>\n",
       "      <td>министерство</td>\n",
       "      <td>получать</td>\n",
       "      <td>тип</td>\n",
       "      <td>оборона</td>\n",
       "      <td>jane</td>\n",
       "      <td>миллиметр</td>\n",
       "      <td>миллиметровый</td>\n",
       "      <td>defense</td>\n",
       "    </tr>\n",
       "  </tbody>\n",
       "</table>\n",
       "</div>"
      ],
      "text/plain": [
       "                          top1            top2           top3          top4  \\\n",
       "animals            видеозапись          хозяин         вольер          утка   \n",
       "auto                 автозавод   автокомпонент         мобиль     авторынок   \n",
       "basketball              подбор  баскетболистка          уникс           рфб   \n",
       "biathlon             домрачева      касперович         фуркад       шипулин   \n",
       "books                    роман      литература     библиотека         книга   \n",
       "boxing                    ринг             мма         лебзяк      поединок   \n",
       "business                   ржд             мск       mcdonald  нефтепродукт   \n",
       "chess                 костенюк        карякина         магнус     илюмжинов   \n",
       "companies                глава      процентный             го     настоящий   \n",
       "cosmos                 спутник       скопление      солнечный   космический   \n",
       "crime                 похищать     неизвестный     associated      тюремный   \n",
       "cybersport              league       overwatch          valve          team   \n",
       "economics                 курс          минфин           мрот        ссылка   \n",
       "films                hollywood     экранизация     мультфильм      режиссер   \n",
       "football               стадион             рфс         футбол           фнл   \n",
       "forces                авиабаза             вкс            тыс         шойгу   \n",
       "formula1                  гран            рено     цитировать         болид   \n",
       "hockey                    барс        авангард            фхр         шайба   \n",
       "internet                ресурс           ролик         reddit          сайт   \n",
       "judiciary               выемка         комитет   арестовывать         рубль   \n",
       "music                     клип          группа    евровидение         песня   \n",
       "politics               политик   корреспондент  парламентарий         лидер   \n",
       "realty               ипотечный             лср         здание          аижк   \n",
       "religion                 собор        христиан         святой       купание   \n",
       "science                   фано          геолог      математик        биолог   \n",
       "skiing                  сундбю         лыжница         лыжный        лыжник   \n",
       "social-networks           сеть       некоторые       facebook   микроблогер   \n",
       "technologies              софт       интерфакс            нмг    ростелеком   \n",
       "tennis                 ракетка             wta      теннисный         дэвис   \n",
       "theatre                 худрук           филин          балет        мюзикл   \n",
       "volleyball       краснодарский         маричев          факел     казанский   \n",
       "weapons           транспортник         вестись   министерство      получать   \n",
       "\n",
       "                           top5           top6             top7  \\\n",
       "animals                животный        питомец          зоопарк   \n",
       "auto                      камаз          осаго          автоваз   \n",
       "basketball           евробаскет      центровой        баскетбол   \n",
       "biathlon           биатлонистка        биатлон              сбр   \n",
       "books              произведение         комикс     писательница   \n",
       "boxing                    алоян       поветкин             боец   \n",
       "business                  rusal         читать      туроператор   \n",
       "chess                 шахматист        карлсен              фид   \n",
       "companies              кубометр       миллиард            релиз   \n",
       "cosmos                    ровер         космос       астрофизик   \n",
       "crime                       нак        убивать          полиция   \n",
       "cybersport               gaming           dota  киберспортивный   \n",
       "economics             интерфакс       фондовый        экономика   \n",
       "films                      кино         сериал          актриса   \n",
       "football           конфедерация           уефа             фифа   \n",
       "forces           военнослужащий   развертывать            корра   \n",
       "formula1                    при          пилот         макларен   \n",
       "hockey                      ска     нападающий           хоккей   \n",
       "internet            видеоблогер          хакер          youtube   \n",
       "judiciary                   суд         статья        следствие   \n",
       "music                    альбом     композитор          концерт   \n",
       "politics                  пушок       отставка          госдума   \n",
       "realty                   цемент            жкх       девелопера   \n",
       "religion               духовный           хадж          епископ   \n",
       "science                    церн        научный           журнал   \n",
       "skiing                   йохауг         вяльбе           легков   \n",
       "social-networks    пользователь        twitter       посмеяться   \n",
       "technologies          vimpelcom          робот              мтс   \n",
       "tennis                     open        шарапов      теннисистка   \n",
       "theatre              росгосцирк       артистка      театральный   \n",
       "volleyball            белогорье  волейболистка              вфв   \n",
       "weapons                     тип        оборона             jane   \n",
       "\n",
       "                              top8           top9           top10  \n",
       "animals              просматривать       животное          кличка  \n",
       "auto             автопроизводитель     автомобиль        автопром  \n",
       "basketball            баскетболист            нба        евролига  \n",
       "biathlon                       ibu     хохфильцен      биатлонист  \n",
       "books                         поэт   литературный        писатель  \n",
       "boxing                         бой           бокс          боксер  \n",
       "business                  ритейлер        formula             оао  \n",
       "chess                      карякин        шахматы       шахматный  \n",
       "companies                    тонна        service        ретейлер  \n",
       "cosmos                        марс        светить       астронавт  \n",
       "crime                      изымать     преступник          тюрьма  \n",
       "cybersport              киберспорт    киберфутбол  киберспортсмен  \n",
       "economics                      ввп         платон        инфляция  \n",
       "films                      картина          актер           фильм  \n",
       "football                        чм      футболист    полузащитник  \n",
       "forces                     генштаб     конашенков      минобороны  \n",
       "formula1                   феррари        формула        мерседес  \n",
       "hockey                    хоккеист            нхл             кхл  \n",
       "internet                 википедия         блогер        интернет  \n",
       "judiciary               обвиняемый   следственный             скр  \n",
       "music                        певец         певица        музыкант  \n",
       "politics                   reuters            мид           глава  \n",
       "realty                     ипотека          жилье    недвижимость  \n",
       "religion                митрополит         муфтий        патриарх  \n",
       "science                   археолог  исследователь          ученый  \n",
       "skiing                         fis          лахти         устюгов  \n",
       "social-networks               юзер      вконтакте         соцсеть  \n",
       "technologies                   апл           wifi         контакт  \n",
       "tennis                   теннисист         теннис            корт  \n",
       "theatre                 постановка          театр       спектакль  \n",
       "volleyball                  алекно    волейболист        волейбол  \n",
       "weapons                  миллиметр  миллиметровый         defense  "
      ]
     },
     "execution_count": 76,
     "metadata": {},
     "output_type": "execute_result"
    }
   ],
   "source": [
    "print_top_K(tfidf_vectorizer, clf, le.classes_, k=10)"
   ]
  },
  {
   "cell_type": "code",
   "execution_count": null,
   "metadata": {
    "collapsed": true
   },
   "outputs": [],
   "source": []
  }
 ],
 "metadata": {
  "kernelspec": {
   "display_name": "Python3 (mlenv)",
   "language": "python",
   "name": "mlenv"
  },
  "language_info": {
   "codemirror_mode": {
    "name": "ipython",
    "version": 3
   },
   "file_extension": ".py",
   "mimetype": "text/x-python",
   "name": "python",
   "nbconvert_exporter": "python",
   "pygments_lexer": "ipython3",
   "version": "3.6.0"
  }
 },
 "nbformat": 4,
 "nbformat_minor": 2
}
