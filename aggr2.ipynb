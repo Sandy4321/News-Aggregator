{
 "cells": [
  {
   "cell_type": "code",
   "execution_count": 116,
   "metadata": {
    "collapsed": false
   },
   "outputs": [],
   "source": [
    "import pandas as pd\n",
    "# pd.options.display.max_colwidth = 200\n",
    "\n",
    "import numpy as np\n",
    "from collections import defaultdict\n",
    "\n",
    "import matplotlib\n",
    "import matplotlib.pyplot as plt\n",
    "\n",
    "import seaborn as sns\n",
    "sns.set_style(\"white\")\n",
    "\n",
    "from pymystem3 import Mystem; mystem = Mystem()\n",
    "from functools import lru_cache\n",
    "\n",
    "\n",
    "from tqdm import tqdm\n",
    "tqdm.pandas()\n",
    "\n",
    "%matplotlib inline"
   ]
  },
  {
   "cell_type": "code",
   "execution_count": 153,
   "metadata": {
    "collapsed": false
   },
   "outputs": [],
   "source": [
    "data = []\n",
    "DATA_PATH = './data/'\n",
    "for csv_name in ['recent_news.csv']:\n",
    "    data.append(pd.read_csv(DATA_PATH + csv_name))\n",
    "data = pd.concat(data)"
   ]
  },
  {
   "cell_type": "code",
   "execution_count": 154,
   "metadata": {
    "collapsed": false
   },
   "outputs": [
    {
     "data": {
      "text/html": [
       "<div>\n",
       "<table border=\"1\" class=\"dataframe\">\n",
       "  <thead>\n",
       "    <tr style=\"text-align: right;\">\n",
       "      <th></th>\n",
       "      <th>date</th>\n",
       "      <th>site_id</th>\n",
       "      <th>text</th>\n",
       "      <th>title</th>\n",
       "      <th>url</th>\n",
       "    </tr>\n",
       "  </thead>\n",
       "  <tbody>\n",
       "    <tr>\n",
       "      <th>0</th>\n",
       "      <td>2017-04-12 15:14:00</td>\n",
       "      <td>NOVAYA</td>\n",
       "      <td>Основатель Фонда борьбы с коррупцией (ФБК) Але...</td>\n",
       "      <td>Навальный назвал ложью объяснение Усманова о п...</td>\n",
       "      <td>https://www.novayagazeta.ru/news/2017/04/12/13...</td>\n",
       "    </tr>\n",
       "    <tr>\n",
       "      <th>1</th>\n",
       "      <td>2017-04-12 15:04:00</td>\n",
       "      <td>NOVAYA</td>\n",
       "      <td>Председатель комитета Госдумы по безопасности ...</td>\n",
       "      <td>В Госдуме отозвали законопроект о праве полици...</td>\n",
       "      <td>https://www.novayagazeta.ru/news/2017/04/12/13...</td>\n",
       "    </tr>\n",
       "    <tr>\n",
       "      <th>2</th>\n",
       "      <td>2017-04-12 14:57:00</td>\n",
       "      <td>NOVAYA</td>\n",
       "      <td>В среду, 12 апреля, в Московском окружном воен...</td>\n",
       "      <td>Подсудимый по делу Немцова назвал критику «пра...</td>\n",
       "      <td>https://www.novayagazeta.ru/news/2017/04/12/13...</td>\n",
       "    </tr>\n",
       "    <tr>\n",
       "      <th>3</th>\n",
       "      <td>2017-04-12 14:46:00</td>\n",
       "      <td>NOVAYA</td>\n",
       "      <td>Депутаты Госдумы проголосовали в первом чтении...</td>\n",
       "      <td>Госдума в первом чтении проголосовала за перен...</td>\n",
       "      <td>https://www.novayagazeta.ru/news/2017/04/12/13...</td>\n",
       "    </tr>\n",
       "    <tr>\n",
       "      <th>4</th>\n",
       "      <td>2017-04-12 14:03:00</td>\n",
       "      <td>NOVAYA</td>\n",
       "      <td>Мосгорсуд признал законным продление ареста ещ...</td>\n",
       "      <td>Мосгорсуд оставил в силе арест Никите Белых до...</td>\n",
       "      <td>https://www.novayagazeta.ru/news/2017/04/12/13...</td>\n",
       "    </tr>\n",
       "  </tbody>\n",
       "</table>\n",
       "</div>"
      ],
      "text/plain": [
       "                  date site_id  \\\n",
       "0  2017-04-12 15:14:00  NOVAYA   \n",
       "1  2017-04-12 15:04:00  NOVAYA   \n",
       "2  2017-04-12 14:57:00  NOVAYA   \n",
       "3  2017-04-12 14:46:00  NOVAYA   \n",
       "4  2017-04-12 14:03:00  NOVAYA   \n",
       "\n",
       "                                                text  \\\n",
       "0  Основатель Фонда борьбы с коррупцией (ФБК) Але...   \n",
       "1  Председатель комитета Госдумы по безопасности ...   \n",
       "2  В среду, 12 апреля, в Московском окружном воен...   \n",
       "3  Депутаты Госдумы проголосовали в первом чтении...   \n",
       "4  Мосгорсуд признал законным продление ареста ещ...   \n",
       "\n",
       "                                               title  \\\n",
       "0  Навальный назвал ложью объяснение Усманова о п...   \n",
       "1  В Госдуме отозвали законопроект о праве полици...   \n",
       "2  Подсудимый по делу Немцова назвал критику «пра...   \n",
       "3  Госдума в первом чтении проголосовала за перен...   \n",
       "4  Мосгорсуд оставил в силе арест Никите Белых до...   \n",
       "\n",
       "                                                 url  \n",
       "0  https://www.novayagazeta.ru/news/2017/04/12/13...  \n",
       "1  https://www.novayagazeta.ru/news/2017/04/12/13...  \n",
       "2  https://www.novayagazeta.ru/news/2017/04/12/13...  \n",
       "3  https://www.novayagazeta.ru/news/2017/04/12/13...  \n",
       "4  https://www.novayagazeta.ru/news/2017/04/12/13...  "
      ]
     },
     "execution_count": 154,
     "metadata": {},
     "output_type": "execute_result"
    }
   ],
   "source": [
    "data.head()"
   ]
  },
  {
   "cell_type": "code",
   "execution_count": 155,
   "metadata": {
    "collapsed": false
   },
   "outputs": [],
   "source": [
    "class Pipeline(object):\n",
    "    def __init__(self, *args):\n",
    "        self.transformations = args\n",
    "    def __call__(self, x):\n",
    "        res = x\n",
    "        for f in self.transformations:\n",
    "            res = f(res)\n",
    "        return res\n",
    "\n",
    "from nltk.corpus import stopwords\n",
    "from stop_words import get_stop_words\n",
    "en_sw = get_stop_words('en')\n",
    "ru_sw = get_stop_words('ru')\n",
    "STOP_WORDS = set(en_sw) | set(ru_sw)\n",
    "STOP_WORDS = STOP_WORDS | set(stopwords.words('russian')) | set(stopwords.words('english'))\n",
    "STOP_WORDS = STOP_WORDS | set(['лента', 'новость', 'риа', 'тасс', 'редакция'])\n",
    "\n",
    "def get_lower(text):\n",
    "    return str(text).lower().strip()\n",
    "\n",
    "def remove_punctuation(text):\n",
    "    return ''.join([c if c.isalpha() or c in ['-',\"'\"] else ' ' for c in text])\n",
    "\n",
    "@lru_cache(maxsize=None)\n",
    "def get_word_normal_form(word):\n",
    "    return ''.join(mystem.lemmatize(word)).strip().replace('ё', 'е').strip('-')\n",
    "\n",
    "def lemmatize_words(text):\n",
    "    res = []\n",
    "    for word in text.split():\n",
    "        norm_form = get_word_normal_form(word)\n",
    "        if len(norm_form) > 2 and norm_form not in STOP_WORDS:\n",
    "            res.append(norm_form)\n",
    "    return ' '.join(res)\n",
    "\n",
    "TEXT_PIPELINE = Pipeline(get_lower, remove_punctuation, lemmatize_words)"
   ]
  },
  {
   "cell_type": "code",
   "execution_count": 156,
   "metadata": {
    "collapsed": false
   },
   "outputs": [
    {
     "name": "stderr",
     "output_type": "stream",
     "text": [
      "100%|██████████| 219/219 [00:01<00:00, 213.36it/s]\n",
      "100%|██████████| 219/219 [00:00<00:00, 7541.98it/s]"
     ]
    },
    {
     "name": "stdout",
     "output_type": "stream",
     "text": [
      "CPU times: user 556 ms, sys: 76 ms, total: 632 ms\n",
      "Wall time: 1.06 s\n"
     ]
    },
    {
     "name": "stderr",
     "output_type": "stream",
     "text": [
      "\n"
     ]
    }
   ],
   "source": [
    "%%time\n",
    "data.text = data.text.progress_apply(TEXT_PIPELINE)\n",
    "data.title = data.title.apply(lambda x: x.strip())\n",
    "data['title_norm'] = data.title.progress_apply(TEXT_PIPELINE)"
   ]
  },
  {
   "cell_type": "code",
   "execution_count": 157,
   "metadata": {
    "collapsed": true
   },
   "outputs": [],
   "source": [
    "from sklearn.feature_extraction.text import TfidfVectorizer\n",
    "from sklearn.metrics.pairwise import cosine_similarity "
   ]
  },
  {
   "cell_type": "code",
   "execution_count": 158,
   "metadata": {
    "collapsed": true
   },
   "outputs": [],
   "source": [
    "trainX = data['title_norm'] + ' ' + data.text\n",
    "trainX = np.swapaxes(np.vstack([trainX.values, data.url.values]), 0, 1)"
   ]
  },
  {
   "cell_type": "code",
   "execution_count": 159,
   "metadata": {
    "collapsed": false
   },
   "outputs": [
    {
     "name": "stdout",
     "output_type": "stream",
     "text": [
      "CPU times: user 120 ms, sys: 0 ns, total: 120 ms\n",
      "Wall time: 120 ms\n"
     ]
    }
   ],
   "source": [
    "%%time\n",
    "tfidf_vectorizer = TfidfVectorizer(min_df=5, ngram_range=(1,2), lowercase=False).fit(trainX[:,0])"
   ]
  },
  {
   "cell_type": "code",
   "execution_count": 160,
   "metadata": {
    "collapsed": false
   },
   "outputs": [
    {
     "data": {
      "text/plain": [
       "1174"
      ]
     },
     "execution_count": 160,
     "metadata": {},
     "output_type": "execute_result"
    }
   ],
   "source": [
    "len(tfidf_vectorizer.vocabulary_)"
   ]
  },
  {
   "cell_type": "code",
   "execution_count": 161,
   "metadata": {
    "collapsed": false
   },
   "outputs": [],
   "source": [
    "tfidf_matrix = tfidf_vectorizer.transform(trainX[:,0])"
   ]
  },
  {
   "cell_type": "code",
   "execution_count": 162,
   "metadata": {
    "collapsed": false
   },
   "outputs": [],
   "source": [
    "cosines = []\n",
    "for tfidf_news in tfidf_matrix:\n",
    "    cosine = cosine_similarity(tfidf_news, tfidf_matrix)\n",
    "    cosines.append(cosine.tolist()[0])"
   ]
  },
  {
   "cell_type": "code",
   "execution_count": 163,
   "metadata": {
    "collapsed": false
   },
   "outputs": [],
   "source": [
    "COS_THRESHOLD = 0.5\n",
    "themes = [ -1 for _ in range(len(cosines)) ]\n",
    "themes_ids = [ [] for _ in range(len(cosines)) ]\n",
    "curr_theme = 0\n",
    "for v, theme in enumerate(themes):\n",
    "    if theme == -1:\n",
    "        curr_theme += 1\n",
    "        Q = []\n",
    "        Q.append(v)\n",
    "        themes[v] = curr_theme\n",
    "        themes_ids[curr_theme].append(v)\n",
    "        while Q:\n",
    "            curr_v = Q.pop(0)\n",
    "            for u, cos in enumerate(cosines[curr_v]):\n",
    "                if cos >= COS_THRESHOLD and themes[u] == -1:\n",
    "                    themes[u] = curr_theme\n",
    "                    themes_ids[curr_theme].append(u)\n",
    "                    Q.append(u)"
   ]
  },
  {
   "cell_type": "code",
   "execution_count": 164,
   "metadata": {
    "collapsed": false
   },
   "outputs": [
    {
     "data": {
      "text/plain": [
       "[[],\n",
       " [0, 21, 38, 167],\n",
       " [1, 13, 146, 158, 194, 103, 176],\n",
       " [2],\n",
       " [3],\n",
       " [4, 175],\n",
       " [5, 90, 185, 172, 182],\n",
       " [6],\n",
       " [7],\n",
       " [8, 184],\n",
       " [9],\n",
       " [10],\n",
       " [11, 82, 186],\n",
       " [12],\n",
       " [14, 51, 196, 43],\n",
       " [15, 17, 34, 41, 200],\n",
       " [16],\n",
       " [18],\n",
       " [19],\n",
       " [20, 28, 208, 74],\n",
       " [22],\n",
       " [23],\n",
       " [24, 39, 64, 142, 156, 66],\n",
       " [25],\n",
       " [26, 47, 114],\n",
       " [27],\n",
       " [29, 86, 207],\n",
       " [30, 204],\n",
       " [31],\n",
       " [32],\n",
       " [33, 105, 130, 206],\n",
       " [35],\n",
       " [36],\n",
       " [37],\n",
       " [40, 177, 202],\n",
       " [42],\n",
       " [44, 59],\n",
       " [45],\n",
       " [46],\n",
       " [48, 195],\n",
       " [49],\n",
       " [50],\n",
       " [52],\n",
       " [53, 201],\n",
       " [54],\n",
       " [55],\n",
       " [56],\n",
       " [57],\n",
       " [58],\n",
       " [60],\n",
       " [61],\n",
       " [62],\n",
       " [63],\n",
       " [65],\n",
       " [67],\n",
       " [68, 81],\n",
       " [69],\n",
       " [70],\n",
       " [71],\n",
       " [72],\n",
       " [73],\n",
       " [75],\n",
       " [76, 188],\n",
       " [77],\n",
       " [78],\n",
       " [79],\n",
       " [80],\n",
       " [83],\n",
       " [84],\n",
       " [85, 98],\n",
       " [87],\n",
       " [88, 183, 191],\n",
       " [89],\n",
       " [91, 154],\n",
       " [92],\n",
       " [93],\n",
       " [94],\n",
       " [95],\n",
       " [96],\n",
       " [97],\n",
       " [99],\n",
       " [100, 179],\n",
       " [101],\n",
       " [102],\n",
       " [104],\n",
       " [106],\n",
       " [107],\n",
       " [108],\n",
       " [109],\n",
       " [110],\n",
       " [111],\n",
       " [112, 133],\n",
       " [113],\n",
       " [115],\n",
       " [116],\n",
       " [117],\n",
       " [118],\n",
       " [119],\n",
       " [120],\n",
       " [121],\n",
       " [122],\n",
       " [123],\n",
       " [124],\n",
       " [125],\n",
       " [126],\n",
       " [127],\n",
       " [128, 149],\n",
       " [129],\n",
       " [131],\n",
       " [132],\n",
       " [134],\n",
       " [135],\n",
       " [136],\n",
       " [137],\n",
       " [138],\n",
       " [139],\n",
       " [140],\n",
       " [141],\n",
       " [143],\n",
       " [144, 160],\n",
       " [145],\n",
       " [147],\n",
       " [148],\n",
       " [150],\n",
       " [151],\n",
       " [152],\n",
       " [153, 159],\n",
       " [155],\n",
       " [157],\n",
       " [161],\n",
       " [162],\n",
       " [163],\n",
       " [164],\n",
       " [165],\n",
       " [166],\n",
       " [168],\n",
       " [169],\n",
       " [170],\n",
       " [171],\n",
       " [173],\n",
       " [174],\n",
       " [178],\n",
       " [180],\n",
       " [181],\n",
       " [187],\n",
       " [189],\n",
       " [190],\n",
       " [192],\n",
       " [193],\n",
       " [197, 213],\n",
       " [198],\n",
       " [199],\n",
       " [203],\n",
       " [205],\n",
       " [209],\n",
       " [210],\n",
       " [211],\n",
       " [212],\n",
       " [214],\n",
       " [215],\n",
       " [216],\n",
       " [217],\n",
       " [218],\n",
       " [],\n",
       " [],\n",
       " [],\n",
       " [],\n",
       " [],\n",
       " [],\n",
       " [],\n",
       " [],\n",
       " [],\n",
       " [],\n",
       " [],\n",
       " [],\n",
       " [],\n",
       " [],\n",
       " [],\n",
       " [],\n",
       " [],\n",
       " [],\n",
       " [],\n",
       " [],\n",
       " [],\n",
       " [],\n",
       " [],\n",
       " [],\n",
       " [],\n",
       " [],\n",
       " [],\n",
       " [],\n",
       " [],\n",
       " [],\n",
       " [],\n",
       " [],\n",
       " [],\n",
       " [],\n",
       " [],\n",
       " [],\n",
       " [],\n",
       " [],\n",
       " [],\n",
       " [],\n",
       " [],\n",
       " [],\n",
       " [],\n",
       " [],\n",
       " [],\n",
       " [],\n",
       " [],\n",
       " [],\n",
       " [],\n",
       " [],\n",
       " [],\n",
       " [],\n",
       " [],\n",
       " [],\n",
       " [],\n",
       " []]"
      ]
     },
     "execution_count": 164,
     "metadata": {},
     "output_type": "execute_result"
    }
   ],
   "source": [
    "themes_ids"
   ]
  },
  {
   "cell_type": "code",
   "execution_count": 165,
   "metadata": {
    "collapsed": false
   },
   "outputs": [],
   "source": [
    "groups = sorted(themes_ids, key=lambda x: -len(x))"
   ]
  },
  {
   "cell_type": "code",
   "execution_count": 166,
   "metadata": {
    "collapsed": false,
    "scrolled": true
   },
   "outputs": [
    {
     "name": "stdout",
     "output_type": "stream",
     "text": [
      "Topic 0\n",
      "В Госдуме отозвали законопроект о праве полиции стрелять в толпе https://www.novayagazeta.ru/news/2017/04/12/130668-v-gosdume-otozvali-zakonoproekt-o-prave-politsii-strelyat-v-tolpe\n",
      "«Единая Россия» рекомендовала отозвать законопроект о праве полиции стрелять в толпе https://www.novayagazeta.ru/news/2017/04/12/130656-edinaya-rossiya-rekomendovala-otozvat-zakonoproekt-o-prave-politsii-strelyat-v-tolpe\n",
      "ЕР посоветовала отозвать разрешающий полиции стрелять по толпе законопроект https://lenta.ru/news/2017/04/12/nepodderzhat/\n",
      "Авторы отозвали законопроект о применении полицией оружия в толпе http://www.vedomosti.ru/politics/news/2017/04/12/685339-politsiei-oruzhiya\n",
      "«Единая Россия» порекомендовала отозвать законопроект о применении полицией оружия в толпе http://www.vedomosti.ru/politics/news/2017/04/12/685286-otozvat-zakonoproekt\n",
      "Песков отреагировал на идею разрешить полицейским стрелять по толпе https://lenta.ru/news/2017/04/12/grazhdanskie/\n",
      "Песков не стал комментировать законопроект о дополнительных полномочиях полицейских http://www.vedomosti.ru/politics/news/2017/04/12/685314-zakonoproekt-polnomochiyah-politseiskih\n",
      "\n",
      "Topic 1\n",
      "Полиция посчитала взрыв в Дортмунде целенаправленной атакой на «Боруссию» https://lenta.ru/news/2017/04/12/borussialetter/\n",
      "У пострадавшего от взрыва игрока «Боруссии» диагностирован перелом руки https://lenta.ru/news/2017/04/12/postradalmark/\n",
      "СМИ сообщили о причастности исламистов к нападению на автобус ФК «Боруссия» https://lenta.ru/news/2017/04/12/islamists/\n",
      "Меркель упомянули в одной из оставленных на месте взрывов в Дортмунде записок https://lenta.ru/news/2017/04/12/merkel/\n",
      "В ФРГ задержали одного из двух подозреваемых в совершении взрывов в Дортмунде https://lenta.ru/news/2017/04/12/two_suspects/\n",
      "Появилось видео с места взрывов около автобуса ФК «Боруссия» https://lenta.ru/news/2017/04/12/fkborussia/\n",
      "\n",
      "Topic 2\n",
      "Путин заявил о деградации отношений России и США при Трампе https://www.novayagazeta.ru/news/2017/04/12/130664-putin-zayavil-o-degradatsii-otnosheniy-rossii-i-ssha-pri-trampe\n",
      "Путин констатировал ухудшение отношений России и США при Трампе https://lenta.ru/news/2017/04/12/trump_putin/\n",
      "Путин: при Трампе уровень доверия между Россией и США деградировал http://www.vedomosti.ru/politics/news/2017/04/12/685297-putin-pri-trampe\n",
      "Путин констатировал деградацию отношений с США при Трампе http://www.vedomosti.ru/politics/news/2017/04/12/685320-putin-degradatsiyu-trampe\n",
      "Песков не исключает возможной встречи Путина с Тиллерсоном http://www.vedomosti.ru/politics/news/2017/04/12/685306-putina-s-tillersonom\n",
      "\n",
      "Topic 3\n",
      "Минздрав опроверг планы по лишению безработных бесплатного полиса ОМС https://www.novayagazeta.ru/news/2017/04/12/130654-minzdrav-oproverg-informatsiyu-o-lishenii-bezrabotnyh-besplatnogo-polisa-om\n",
      "СМИ узнали о планах Минздрава лишить безработных бесплатных полисов ОМС https://www.novayagazeta.ru/news/2017/04/12/130651-smi-uznali-o-planah-minzdrava-lishit-bezrabotnyh-besplatnyh-polisov-oms\n",
      "Минздрав предложил безработных и самозанятых лишить бесплатных полисов ОМС https://lenta.ru/news/2017/04/12/oms/\n",
      "Минздрав опроверг сообщение о лишении безработных полисов ОМС https://lenta.ru/news/2017/04/12/minzdrav/\n",
      "Минздрав: безработных и самозанятых исключать из системы ОМС не будут http://www.vedomosti.ru/politics/news/2017/04/12/685278-minzdrav-oms\n",
      "\n",
      "Topic 4\n",
      "Навальный назвал ложью объяснение Усманова о передаче особняка связанному с Медведевым фонду https://www.novayagazeta.ru/news/2017/04/12/130669-navalnyy-nazval-lozhyu-ob-yasnenie-usmanova-o-peredache-osobnyaka-svyazannomu-s-medvedevym-fondu\n",
      "Миллиардер Усманов объяснил передачу особняка связанному с Медведевым фонду https://www.novayagazeta.ru/news/2017/04/12/130648-milliarder-usmanov-ob-yasnil-peredachu-osobnyaka-na-rublevke-fondu-odnokursnika-medvedeva\n",
      "Усманов обвинил Навального во лжи https://lenta.ru/news/2017/04/12/usmanov/\n",
      "Навальный не принял объяснения Усманова о сделке по обмену усадьбы на Рублевке http://www.vedomosti.ru/politics/news/2017/04/12/685328-navalnii-usmanova\n",
      "\n",
      "Topic 5\n",
      "Суд продлил домашний арест Улюкаеву на три месяца https://www.novayagazeta.ru/news/2017/04/12/130655-sud-prodlil-domashniy-arest-ulyukaevu-na-tri-mesyatsa\n",
      "Улюкаеву продлили срок домашнего ареста https://lenta.ru/news/2017/04/12/ulykaev/\n",
      "Суд продлил срок домашнего ареста Алексея Улюкаева http://www.vedomosti.ru/politics/news/2017/04/12/685281-domashnego-ulyukaeva\n",
      "Улюкаеву разрешили ходить в клинику https://lenta.ru/news/2017/04/12/uly/\n",
      "\n",
      "Topic 6\n",
      "Трамп раскритиковал Россию за поддержку сирийских властей https://www.novayagazeta.ru/news/2017/04/12/130649-tramp-raskritikoval-rossiyu-za-podderzhku-siriyskih-vlastey\n",
      "Трамп заявил об отсутствии планов «идти в Сирию» https://lenta.ru/news/2017/04/12/trump/\n",
      "Трамп заявил об отсутствии планов наступления на Сирию http://www.vedomosti.ru/politics/news/2017/04/12/685269-tramp-nastupleniya-siriyu\n",
      "Китай выступил за мирное решение сирийского кризиса https://lenta.ru/news/2017/04/12/usachinatalks/\n",
      "\n",
      "Topic 7\n",
      "Путин допустил для террористов отмену решений о предоставлении гражданства https://lenta.ru/news/2017/04/12/citizenship/\n",
      "В СПЧ прокомментировали идею Путина о лишении террористов гражданства https://lenta.ru/news/2017/04/12/constitution/\n",
      "В Кремле пояснили слова Путина о возможном лишении террористов гражданства https://lenta.ru/news/2017/04/12/lishenie_grazhdanstva/\n",
      "Связи с террористами могут дать повод для отказа в предоставлении российского гражданства http://www.vedomosti.ru/politics/news/2017/04/12/685271-svyazi-terroristami\n",
      "\n",
      "Topic 8\n",
      "В Петербурге скончался еще один пострадавший при теракте https://www.novayagazeta.ru/news/2017/04/12/130660-v-peterburge-skonchalsya-esche-odin-postradavshiy-pri-terakte\n",
      "Число жертв теракта в метро Петербурга увеличилось https://lenta.ru/news/2017/04/12/viroslo/\n",
      "Число жертв теракта в Петербурге достигло 15 http://www.vedomosti.ru/politics/news/2017/04/12/685298-terakta-peterburge-15\n",
      "\n",
      "Topic 9\n",
      "Сравнение Асада с Гитлером на брифинге в Белом доме вызвало возмущение https://lenta.ru/news/2017/04/12/spicer/\n",
      "Косачев усомнился в адекватности властей США после слов Спайсера о Гитлере https://lenta.ru/news/2017/04/12/golovnaya_bol/\n",
      "В сети пресс-секретаря Белого дома Спайсера заподозрили в употреблении спайса https://lenta.ru/news/2017/04/12/spicerspice/\n",
      "\n",
      "Topic 10\n",
      "Путин сравнил союзников США с китайскими болванчиками https://lenta.ru/news/2017/04/12/chinese_dolls/\n",
      "Путин назвал две версии химатаки в Идлибе https://lenta.ru/news/2017/04/12/idlib_putin/\n",
      "Путин указал Трампу на нарушение международного права http://www.vedomosti.ru/politics/news/2017/04/12/685270-putin-trampu-narushenie\n",
      "\n",
      "Topic 11\n",
      "Саудовская Аравия поддержит продление соглашения о сокращении нефтедобычи https://lenta.ru/news/2017/04/12/saudiyes/\n",
      "Россия установит рекорд добычи нефти даже с учетом сделки с ОПЕК – Новак http://www.vedomosti.ru/business/news/2017/04/12/685312-rossiya-rekordnii-dobichi\n",
      "Brent торгуется на уровне $56,35 за баррель http://www.vedomosti.ru/finance/news/2017/04/12/685277-brent\n",
      "\n",
      "Topic 12\n",
      "Лавров заявил о недопустимости ультиматумов со стороны США https://lenta.ru/news/2017/04/12/lavrovnoultimatums/\n",
      "Лавров заявил Тиллерсону, что неправильно выдвигать партнерам ультиматумы http://www.vedomosti.ru/politics/news/2017/04/12/685305-lavrov-tillersonu-ultimatumi\n",
      "В Москве начались переговоры Лаврова и Тиллерсона http://www.vedomosti.ru/politics/news/2017/04/12/685289-lavrova-tillersona\n",
      "\n"
     ]
    }
   ],
   "source": [
    "for i, group in enumerate(groups):\n",
    "    if len(group) < 3:\n",
    "        break\n",
    "    print('Topic', i)\n",
    "    for id_ in group:\n",
    "        print(data.title[id_],data.url[id_])\n",
    "    print()"
   ]
  },
  {
   "cell_type": "code",
   "execution_count": null,
   "metadata": {
    "collapsed": true
   },
   "outputs": [],
   "source": []
  },
  {
   "cell_type": "code",
   "execution_count": null,
   "metadata": {
    "collapsed": true
   },
   "outputs": [],
   "source": []
  }
 ],
 "metadata": {
  "anaconda-cloud": {},
  "kernelspec": {
   "display_name": "Python [conda root]",
   "language": "python",
   "name": "conda-root-py"
  },
  "language_info": {
   "codemirror_mode": {
    "name": "ipython",
    "version": 3
   },
   "file_extension": ".py",
   "mimetype": "text/x-python",
   "name": "python",
   "nbconvert_exporter": "python",
   "pygments_lexer": "ipython3",
   "version": "3.5.2"
  }
 },
 "nbformat": 4,
 "nbformat_minor": 2
}
